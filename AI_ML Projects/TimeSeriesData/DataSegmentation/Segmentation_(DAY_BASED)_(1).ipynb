{
  "cells": [
    {
      "cell_type": "code",
      "execution_count": null,
      "id": "c4006aa8",
      "metadata": {
        "id": "c4006aa8"
      },
      "outputs": [],
      "source": [
        "import pandas as pd\n",
        "import numpy as np\n",
        "import matplotlib.pyplot as plt\n",
        "import scipy.stats\n",
        "import pylab"
      ]
    },
    {
      "cell_type": "code",
      "execution_count": null,
      "id": "828370ca",
      "metadata": {
        "id": "828370ca"
      },
      "outputs": [],
      "source": [
        "raw_csv_data = pd.read_csv(\"C:/Users/MUHAMMED SHAH/Desktop/Observability server data/SET 2/SERVER 1/csv_formatted.csv\")\n",
        "data = raw_csv_data.copy()"
      ]
    },
    {
      "cell_type": "code",
      "execution_count": null,
      "id": "5e0edc13",
      "metadata": {
        "id": "5e0edc13",
        "outputId": "0ddf36b1-5af9-4674-b1d4-31a68e2492f8"
      },
      "outputs": [
        {
          "data": {
            "text/plain": [
              "Unnamed: 0                 1908\n",
              "timestamp                  1908\n",
              "vmMemoryDemand             1908\n",
              "guest_demand               1908\n",
              "guest_provisioned          1908\n",
              "vm_capacity_provisioned    1908\n",
              "effective_limit            1908\n",
              "dtype: int64"
            ]
          },
          "execution_count": 12,
          "metadata": {},
          "output_type": "execute_result"
        }
      ],
      "source": [
        "data.isna().sum()"
      ]
    },
    {
      "cell_type": "code",
      "execution_count": null,
      "id": "b90f9959",
      "metadata": {
        "id": "b90f9959"
      },
      "outputs": [],
      "source": [
        "data.timestamp = pd.to_datetime(data.timestamp)\n",
        "data['day'] = data['timestamp'].apply(lambda x:x.weekday())\n",
        "x_call = data.columns[1:-1]"
      ]
    },
    {
      "cell_type": "code",
      "execution_count": null,
      "id": "db347623",
      "metadata": {
        "id": "db347623",
        "outputId": "227cf661-fe2d-4fdc-f001-12d6d069e34b"
      },
      "outputs": [
        {
          "data": {
            "text/html": [
              "<div>\n",
              "<style scoped>\n",
              "    .dataframe tbody tr th:only-of-type {\n",
              "        vertical-align: middle;\n",
              "    }\n",
              "\n",
              "    .dataframe tbody tr th {\n",
              "        vertical-align: top;\n",
              "    }\n",
              "\n",
              "    .dataframe thead th {\n",
              "        text-align: right;\n",
              "    }\n",
              "</style>\n",
              "<table border=\"1\" class=\"dataframe\">\n",
              "  <thead>\n",
              "    <tr style=\"text-align: right;\">\n",
              "      <th></th>\n",
              "      <th>Unnamed: 0</th>\n",
              "      <th>timestamp</th>\n",
              "      <th>vmMemoryDemand</th>\n",
              "      <th>guest_demand</th>\n",
              "      <th>guest_provisioned</th>\n",
              "      <th>vm_capacity_provisioned</th>\n",
              "      <th>effective_limit</th>\n",
              "      <th>day</th>\n",
              "    </tr>\n",
              "  </thead>\n",
              "  <tbody>\n",
              "    <tr>\n",
              "      <th>0</th>\n",
              "      <td>0.0</td>\n",
              "      <td>2022-11-11 19:16:00</td>\n",
              "      <td>13844401.0</td>\n",
              "      <td>3838625.00</td>\n",
              "      <td>33554432.0</td>\n",
              "      <td>16799.99805</td>\n",
              "      <td>33815464.0</td>\n",
              "      <td>4.0</td>\n",
              "    </tr>\n",
              "    <tr>\n",
              "      <th>1</th>\n",
              "      <td>1.0</td>\n",
              "      <td>2022-11-11 19:21:00</td>\n",
              "      <td>13832758.0</td>\n",
              "      <td>3617164.25</td>\n",
              "      <td>33554432.0</td>\n",
              "      <td>16799.99805</td>\n",
              "      <td>33815464.0</td>\n",
              "      <td>4.0</td>\n",
              "    </tr>\n",
              "    <tr>\n",
              "      <th>2</th>\n",
              "      <td>2.0</td>\n",
              "      <td>2022-11-11 19:26:00</td>\n",
              "      <td>13834057.0</td>\n",
              "      <td>3051213.50</td>\n",
              "      <td>33554432.0</td>\n",
              "      <td>16799.99805</td>\n",
              "      <td>33815464.0</td>\n",
              "      <td>4.0</td>\n",
              "    </tr>\n",
              "    <tr>\n",
              "      <th>3</th>\n",
              "      <td>3.0</td>\n",
              "      <td>2022-11-11 19:31:00</td>\n",
              "      <td>13859266.0</td>\n",
              "      <td>3764804.50</td>\n",
              "      <td>33554432.0</td>\n",
              "      <td>16799.99805</td>\n",
              "      <td>33815464.0</td>\n",
              "      <td>4.0</td>\n",
              "    </tr>\n",
              "    <tr>\n",
              "      <th>4</th>\n",
              "      <td>4.0</td>\n",
              "      <td>2022-11-11 19:36:00</td>\n",
              "      <td>13867352.0</td>\n",
              "      <td>3174246.25</td>\n",
              "      <td>33554432.0</td>\n",
              "      <td>16799.99805</td>\n",
              "      <td>33815464.0</td>\n",
              "      <td>4.0</td>\n",
              "    </tr>\n",
              "  </tbody>\n",
              "</table>\n",
              "</div>"
            ],
            "text/plain": [
              "   Unnamed: 0           timestamp  vmMemoryDemand  guest_demand  \\\n",
              "0         0.0 2022-11-11 19:16:00      13844401.0    3838625.00   \n",
              "1         1.0 2022-11-11 19:21:00      13832758.0    3617164.25   \n",
              "2         2.0 2022-11-11 19:26:00      13834057.0    3051213.50   \n",
              "3         3.0 2022-11-11 19:31:00      13859266.0    3764804.50   \n",
              "4         4.0 2022-11-11 19:36:00      13867352.0    3174246.25   \n",
              "\n",
              "   guest_provisioned  vm_capacity_provisioned  effective_limit  day  \n",
              "0         33554432.0              16799.99805       33815464.0  4.0  \n",
              "1         33554432.0              16799.99805       33815464.0  4.0  \n",
              "2         33554432.0              16799.99805       33815464.0  4.0  \n",
              "3         33554432.0              16799.99805       33815464.0  4.0  \n",
              "4         33554432.0              16799.99805       33815464.0  4.0  "
            ]
          },
          "execution_count": 5,
          "metadata": {},
          "output_type": "execute_result"
        }
      ],
      "source": [
        "data.head()"
      ]
    },
    {
      "cell_type": "code",
      "execution_count": null,
      "id": "5369595c",
      "metadata": {
        "id": "5369595c"
      },
      "outputs": [],
      "source": [
        "data = data.apply (pd.to_numeric, errors='coerce')\n",
        "data = data.dropna()"
      ]
    },
    {
      "cell_type": "code",
      "execution_count": null,
      "id": "8830fce7",
      "metadata": {
        "id": "8830fce7",
        "outputId": "86ef601c-d047-45e2-f53a-90e74d1c2dda"
      },
      "outputs": [
        {
          "data": {
            "text/html": [
              "<div>\n",
              "<style scoped>\n",
              "    .dataframe tbody tr th:only-of-type {\n",
              "        vertical-align: middle;\n",
              "    }\n",
              "\n",
              "    .dataframe tbody tr th {\n",
              "        vertical-align: top;\n",
              "    }\n",
              "\n",
              "    .dataframe thead th {\n",
              "        text-align: right;\n",
              "    }\n",
              "</style>\n",
              "<table border=\"1\" class=\"dataframe\">\n",
              "  <thead>\n",
              "    <tr style=\"text-align: right;\">\n",
              "      <th></th>\n",
              "      <th>Unnamed: 0</th>\n",
              "      <th>timestamp</th>\n",
              "      <th>vmMemoryDemand</th>\n",
              "      <th>guest_demand</th>\n",
              "      <th>guest_provisioned</th>\n",
              "      <th>vm_capacity_provisioned</th>\n",
              "      <th>effective_limit</th>\n",
              "      <th>day</th>\n",
              "    </tr>\n",
              "  </thead>\n",
              "  <tbody>\n",
              "    <tr>\n",
              "      <th>49928</th>\n",
              "      <td>49928.0</td>\n",
              "      <td>1683744660000000000</td>\n",
              "      <td>15023986.0</td>\n",
              "      <td>5684120.00</td>\n",
              "      <td>33554432.0</td>\n",
              "      <td>16799.99609</td>\n",
              "      <td>33815236.0</td>\n",
              "      <td>2.0</td>\n",
              "    </tr>\n",
              "    <tr>\n",
              "      <th>49929</th>\n",
              "      <td>49929.0</td>\n",
              "      <td>1683744960000000000</td>\n",
              "      <td>15002012.0</td>\n",
              "      <td>4872101.50</td>\n",
              "      <td>33554432.0</td>\n",
              "      <td>16799.99609</td>\n",
              "      <td>33815236.0</td>\n",
              "      <td>2.0</td>\n",
              "    </tr>\n",
              "    <tr>\n",
              "      <th>49930</th>\n",
              "      <td>49930.0</td>\n",
              "      <td>1683745260000000000</td>\n",
              "      <td>14994134.0</td>\n",
              "      <td>4724462.00</td>\n",
              "      <td>33554432.0</td>\n",
              "      <td>16799.99609</td>\n",
              "      <td>33815236.0</td>\n",
              "      <td>2.0</td>\n",
              "    </tr>\n",
              "    <tr>\n",
              "      <th>49931</th>\n",
              "      <td>49931.0</td>\n",
              "      <td>1683745560000000000</td>\n",
              "      <td>14986520.0</td>\n",
              "      <td>3764803.75</td>\n",
              "      <td>33554432.0</td>\n",
              "      <td>16799.99609</td>\n",
              "      <td>33815236.0</td>\n",
              "      <td>2.0</td>\n",
              "    </tr>\n",
              "    <tr>\n",
              "      <th>49932</th>\n",
              "      <td>49932.0</td>\n",
              "      <td>1683745860000000000</td>\n",
              "      <td>14977126.0</td>\n",
              "      <td>4503002.00</td>\n",
              "      <td>33554432.0</td>\n",
              "      <td>16799.99609</td>\n",
              "      <td>33815236.0</td>\n",
              "      <td>2.0</td>\n",
              "    </tr>\n",
              "  </tbody>\n",
              "</table>\n",
              "</div>"
            ],
            "text/plain": [
              "       Unnamed: 0            timestamp  vmMemoryDemand  guest_demand  \\\n",
              "49928     49928.0  1683744660000000000      15023986.0    5684120.00   \n",
              "49929     49929.0  1683744960000000000      15002012.0    4872101.50   \n",
              "49930     49930.0  1683745260000000000      14994134.0    4724462.00   \n",
              "49931     49931.0  1683745560000000000      14986520.0    3764803.75   \n",
              "49932     49932.0  1683745860000000000      14977126.0    4503002.00   \n",
              "\n",
              "       guest_provisioned  vm_capacity_provisioned  effective_limit  day  \n",
              "49928         33554432.0              16799.99609       33815236.0  2.0  \n",
              "49929         33554432.0              16799.99609       33815236.0  2.0  \n",
              "49930         33554432.0              16799.99609       33815236.0  2.0  \n",
              "49931         33554432.0              16799.99609       33815236.0  2.0  \n",
              "49932         33554432.0              16799.99609       33815236.0  2.0  "
            ]
          },
          "execution_count": 11,
          "metadata": {},
          "output_type": "execute_result"
        }
      ],
      "source": [
        "data.tail()"
      ]
    },
    {
      "cell_type": "code",
      "execution_count": null,
      "id": "47ae82fe",
      "metadata": {
        "id": "47ae82fe"
      },
      "outputs": [],
      "source": [
        "data_fix = pd.DataFrame({'total memory':np.sum(data[x_call]).values})\n",
        "data_fix['average per day']=data[x_call].mean().values\n",
        "data_fix['% Monday']=data[data['day']==0][x_call].sum().values/data_fix['total memory']*100\n",
        "data_fix['% Tuesday']=data[data['day']==1][x_call].sum().values/data_fix['total memory']*100\n",
        "data_fix['% Wednesday']=data[data['day']==2][x_call].sum().values/data_fix['total memory']*100\n",
        "data_fix['% Thursday']=data[data['day']==3][x_call].sum().values/data_fix['total memory']*100\n",
        "data_fix['% Friday']=data[data['day']==4][x_call].sum().values/data_fix['total memory']*100\n",
        "data_fix['% Saturday']=data[data['day']==5][x_call].sum().values/data_fix['total memory']*100\n",
        "data_fix['% Sunday']=data[data['day']==6][x_call].sum().values/data_fix['total memory']*100\n",
        "data_fix['% weekday']=data[(data['day']!=5)&(data['day']!=6)][x_call].sum().values/data_fix['total memory']*100\n",
        "data_fix['% weekend']=data[(data['day']==5)|(data['day']==6)][x_call].sum().values/data_fix['total memory']*100"
      ]
    },
    {
      "cell_type": "code",
      "execution_count": null,
      "id": "5a54538a",
      "metadata": {
        "id": "5a54538a",
        "outputId": "612993f8-4984-4305-b2d1-970c5c38e75b"
      },
      "outputs": [
        {
          "data": {
            "text/html": [
              "<div>\n",
              "<style scoped>\n",
              "    .dataframe tbody tr th:only-of-type {\n",
              "        vertical-align: middle;\n",
              "    }\n",
              "\n",
              "    .dataframe tbody tr th {\n",
              "        vertical-align: top;\n",
              "    }\n",
              "\n",
              "    .dataframe thead th {\n",
              "        text-align: right;\n",
              "    }\n",
              "</style>\n",
              "<table border=\"1\" class=\"dataframe\">\n",
              "  <thead>\n",
              "    <tr style=\"text-align: right;\">\n",
              "      <th></th>\n",
              "      <th>total memory</th>\n",
              "      <th>average per day</th>\n",
              "      <th>% Monday</th>\n",
              "      <th>% Tuesday</th>\n",
              "      <th>% Wednesday</th>\n",
              "      <th>% Thursday</th>\n",
              "      <th>% Friday</th>\n",
              "      <th>% Saturday</th>\n",
              "      <th>% Sunday</th>\n",
              "      <th>% weekday</th>\n",
              "      <th>% weekend</th>\n",
              "    </tr>\n",
              "  </thead>\n",
              "  <tbody>\n",
              "    <tr>\n",
              "      <th>0</th>\n",
              "      <td>-1.132808e+18</td>\n",
              "      <td>1.676081e+18</td>\n",
              "      <td>97.397416</td>\n",
              "      <td>-102.203826</td>\n",
              "      <td>-128.665931</td>\n",
              "      <td>427.453935</td>\n",
              "      <td>218.303822</td>\n",
              "      <td>407.700656</td>\n",
              "      <td>808.423352</td>\n",
              "      <td>512.285415</td>\n",
              "      <td>-412.285415</td>\n",
              "    </tr>\n",
              "    <tr>\n",
              "      <th>1</th>\n",
              "      <td>7.310613e+11</td>\n",
              "      <td>1.464084e+07</td>\n",
              "      <td>15.116000</td>\n",
              "      <td>14.498979</td>\n",
              "      <td>13.913406</td>\n",
              "      <td>13.506379</td>\n",
              "      <td>13.208740</td>\n",
              "      <td>14.747454</td>\n",
              "      <td>15.009042</td>\n",
              "      <td>70.243504</td>\n",
              "      <td>29.756496</td>\n",
              "    </tr>\n",
              "    <tr>\n",
              "      <th>2</th>\n",
              "      <td>2.638065e+11</td>\n",
              "      <td>5.283209e+06</td>\n",
              "      <td>15.547615</td>\n",
              "      <td>19.385130</td>\n",
              "      <td>13.050710</td>\n",
              "      <td>12.649504</td>\n",
              "      <td>11.961036</td>\n",
              "      <td>12.810748</td>\n",
              "      <td>14.595256</td>\n",
              "      <td>72.593996</td>\n",
              "      <td>27.406004</td>\n",
              "    </tr>\n",
              "    <tr>\n",
              "      <th>3</th>\n",
              "      <td>1.675473e+12</td>\n",
              "      <td>3.355443e+07</td>\n",
              "      <td>14.391284</td>\n",
              "      <td>14.393287</td>\n",
              "      <td>14.217051</td>\n",
              "      <td>13.968718</td>\n",
              "      <td>13.860573</td>\n",
              "      <td>14.609577</td>\n",
              "      <td>14.559510</td>\n",
              "      <td>70.830913</td>\n",
              "      <td>29.169087</td>\n",
              "    </tr>\n",
              "    <tr>\n",
              "      <th>4</th>\n",
              "      <td>8.388743e+08</td>\n",
              "      <td>1.680000e+04</td>\n",
              "      <td>14.391284</td>\n",
              "      <td>14.393287</td>\n",
              "      <td>14.217051</td>\n",
              "      <td>13.968718</td>\n",
              "      <td>13.860573</td>\n",
              "      <td>14.609577</td>\n",
              "      <td>14.559510</td>\n",
              "      <td>70.830913</td>\n",
              "      <td>29.169087</td>\n",
              "    </tr>\n",
              "  </tbody>\n",
              "</table>\n",
              "</div>"
            ],
            "text/plain": [
              "   total memory  average per day   % Monday   % Tuesday  % Wednesday  \\\n",
              "0 -1.132808e+18     1.676081e+18  97.397416 -102.203826  -128.665931   \n",
              "1  7.310613e+11     1.464084e+07  15.116000   14.498979    13.913406   \n",
              "2  2.638065e+11     5.283209e+06  15.547615   19.385130    13.050710   \n",
              "3  1.675473e+12     3.355443e+07  14.391284   14.393287    14.217051   \n",
              "4  8.388743e+08     1.680000e+04  14.391284   14.393287    14.217051   \n",
              "\n",
              "   % Thursday    % Friday  % Saturday    % Sunday   % weekday   % weekend  \n",
              "0  427.453935  218.303822  407.700656  808.423352  512.285415 -412.285415  \n",
              "1   13.506379   13.208740   14.747454   15.009042   70.243504   29.756496  \n",
              "2   12.649504   11.961036   12.810748   14.595256   72.593996   27.406004  \n",
              "3   13.968718   13.860573   14.609577   14.559510   70.830913   29.169087  \n",
              "4   13.968718   13.860573   14.609577   14.559510   70.830913   29.169087  "
            ]
          },
          "execution_count": 13,
          "metadata": {},
          "output_type": "execute_result"
        }
      ],
      "source": [
        "data_fix.head()"
      ]
    },
    {
      "cell_type": "code",
      "execution_count": null,
      "id": "a2a9272f",
      "metadata": {
        "id": "a2a9272f",
        "outputId": "f3098f5d-c842-4f27-c4a5-35f1fbe06a1e"
      },
      "outputs": [
        {
          "data": {
            "text/plain": [
              "total memory       0\n",
              "average per day    0\n",
              "% Monday           0\n",
              "% Tuesday          0\n",
              "% Wednesday        0\n",
              "% Thursday         0\n",
              "% Friday           0\n",
              "% Saturday         0\n",
              "% Sunday           0\n",
              "% weekday          0\n",
              "% weekend          0\n",
              "dtype: int64"
            ]
          },
          "execution_count": 31,
          "metadata": {},
          "output_type": "execute_result"
        }
      ],
      "source": [
        "data_fix.isna().sum()"
      ]
    },
    {
      "cell_type": "code",
      "execution_count": null,
      "id": "dd3d4909",
      "metadata": {
        "id": "dd3d4909",
        "outputId": "9563d4db-6c92-4017-9e46-fe2e5d308573"
      },
      "outputs": [
        {
          "data": {
            "text/html": [
              "<div>\n",
              "<style scoped>\n",
              "    .dataframe tbody tr th:only-of-type {\n",
              "        vertical-align: middle;\n",
              "    }\n",
              "\n",
              "    .dataframe tbody tr th {\n",
              "        vertical-align: top;\n",
              "    }\n",
              "\n",
              "    .dataframe thead th {\n",
              "        text-align: right;\n",
              "    }\n",
              "</style>\n",
              "<table border=\"1\" class=\"dataframe\">\n",
              "  <thead>\n",
              "    <tr style=\"text-align: right;\">\n",
              "      <th></th>\n",
              "      <th>total memory</th>\n",
              "      <th>average per day</th>\n",
              "      <th>% Monday</th>\n",
              "      <th>% Tuesday</th>\n",
              "      <th>% Wednesday</th>\n",
              "      <th>% Thursday</th>\n",
              "      <th>% Friday</th>\n",
              "      <th>% Saturday</th>\n",
              "      <th>% Sunday</th>\n",
              "      <th>% weekday</th>\n",
              "      <th>% weekend</th>\n",
              "    </tr>\n",
              "  </thead>\n",
              "  <tbody>\n",
              "    <tr>\n",
              "      <th>0</th>\n",
              "      <td>7.310613e+11</td>\n",
              "      <td>1.464084e+07</td>\n",
              "      <td>15.116000</td>\n",
              "      <td>14.498979</td>\n",
              "      <td>13.913406</td>\n",
              "      <td>13.506379</td>\n",
              "      <td>13.208740</td>\n",
              "      <td>14.747454</td>\n",
              "      <td>15.009042</td>\n",
              "      <td>70.243504</td>\n",
              "      <td>29.756496</td>\n",
              "    </tr>\n",
              "    <tr>\n",
              "      <th>1</th>\n",
              "      <td>2.638065e+11</td>\n",
              "      <td>5.283209e+06</td>\n",
              "      <td>15.547615</td>\n",
              "      <td>19.385130</td>\n",
              "      <td>13.050710</td>\n",
              "      <td>12.649504</td>\n",
              "      <td>11.961036</td>\n",
              "      <td>12.810748</td>\n",
              "      <td>14.595256</td>\n",
              "      <td>72.593996</td>\n",
              "      <td>27.406004</td>\n",
              "    </tr>\n",
              "    <tr>\n",
              "      <th>2</th>\n",
              "      <td>1.675473e+12</td>\n",
              "      <td>3.355443e+07</td>\n",
              "      <td>14.391284</td>\n",
              "      <td>14.393287</td>\n",
              "      <td>14.217051</td>\n",
              "      <td>13.968718</td>\n",
              "      <td>13.860573</td>\n",
              "      <td>14.609577</td>\n",
              "      <td>14.559510</td>\n",
              "      <td>70.830913</td>\n",
              "      <td>29.169087</td>\n",
              "    </tr>\n",
              "    <tr>\n",
              "      <th>3</th>\n",
              "      <td>8.388743e+08</td>\n",
              "      <td>1.680000e+04</td>\n",
              "      <td>14.391284</td>\n",
              "      <td>14.393287</td>\n",
              "      <td>14.217051</td>\n",
              "      <td>13.968718</td>\n",
              "      <td>13.860573</td>\n",
              "      <td>14.609577</td>\n",
              "      <td>14.559510</td>\n",
              "      <td>70.830913</td>\n",
              "      <td>29.169087</td>\n",
              "    </tr>\n",
              "    <tr>\n",
              "      <th>4</th>\n",
              "      <td>1.688119e+12</td>\n",
              "      <td>3.380769e+07</td>\n",
              "      <td>14.393263</td>\n",
              "      <td>14.392230</td>\n",
              "      <td>14.215404</td>\n",
              "      <td>13.967366</td>\n",
              "      <td>13.858003</td>\n",
              "      <td>14.611415</td>\n",
              "      <td>14.562318</td>\n",
              "      <td>70.826267</td>\n",
              "      <td>29.173733</td>\n",
              "    </tr>\n",
              "  </tbody>\n",
              "</table>\n",
              "</div>"
            ],
            "text/plain": [
              "   total memory  average per day   % Monday  % Tuesday  % Wednesday  \\\n",
              "0  7.310613e+11     1.464084e+07  15.116000  14.498979    13.913406   \n",
              "1  2.638065e+11     5.283209e+06  15.547615  19.385130    13.050710   \n",
              "2  1.675473e+12     3.355443e+07  14.391284  14.393287    14.217051   \n",
              "3  8.388743e+08     1.680000e+04  14.391284  14.393287    14.217051   \n",
              "4  1.688119e+12     3.380769e+07  14.393263  14.392230    14.215404   \n",
              "\n",
              "   % Thursday   % Friday  % Saturday   % Sunday  % weekday  % weekend  \n",
              "0   13.506379  13.208740   14.747454  15.009042  70.243504  29.756496  \n",
              "1   12.649504  11.961036   12.810748  14.595256  72.593996  27.406004  \n",
              "2   13.968718  13.860573   14.609577  14.559510  70.830913  29.169087  \n",
              "3   13.968718  13.860573   14.609577  14.559510  70.830913  29.169087  \n",
              "4   13.967366  13.858003   14.611415  14.562318  70.826267  29.173733  "
            ]
          },
          "execution_count": 32,
          "metadata": {},
          "output_type": "execute_result"
        }
      ],
      "source": [
        "data_fix"
      ]
    },
    {
      "cell_type": "code",
      "execution_count": null,
      "id": "25a1d1e2",
      "metadata": {
        "id": "25a1d1e2",
        "outputId": "47d49b64-5471-4efc-d1e6-848943fa29be"
      },
      "outputs": [
        {
          "name": "stdout",
          "output_type": "stream",
          "text": [
            "   average per day  % Monday  % Tuesday  % Wednesday  % Thursday  % Friday  \\\n",
            "0        -0.200719  0.724866  -0.459860    -0.020638   -0.205962 -0.190929   \n",
            "1        -0.866827  1.623610   1.999573    -1.931227   -1.874705 -1.879914   \n",
            "2         1.145613 -0.784199  -0.513060     0.651837    0.694433  0.691441   \n",
            "3        -1.241707 -0.784199  -0.513060     0.651837    0.694433  0.691441   \n",
            "4         1.163640 -0.780079  -0.513592     0.648190    0.691800  0.687962   \n",
            "\n",
            "   % Saturday  % Sunday  % weekday  % weekend  \n",
            "0    0.638676  1.994121  -1.030361   1.030361  \n",
            "1   -1.994767 -0.350593   1.917317  -1.917317  \n",
            "2    0.451197 -0.553147  -0.293709   0.293709  \n",
            "3    0.451197 -0.553147  -0.293709   0.293709  \n",
            "4    0.453697 -0.537235  -0.299537   0.299537  \n"
          ]
        }
      ],
      "source": [
        "#STANDARDIZATION OF DATA\n",
        "\n",
        "from sklearn.preprocessing import StandardScaler\n",
        "x_calls = data_fix.columns[1:]\n",
        "scaller = StandardScaler()\n",
        "matrix = pd.DataFrame(scaller.fit_transform(data_fix[x_calls]),columns=x_calls)\n",
        "print(matrix.head())"
      ]
    },
    {
      "cell_type": "code",
      "execution_count": null,
      "id": "480c98ab",
      "metadata": {
        "id": "480c98ab",
        "outputId": "21416f76-0f91-4513-9b8d-8b940311411a"
      },
      "outputs": [
        {
          "data": {
            "text/plain": [
              "<matplotlib.colorbar.Colorbar at 0x1307c264310>"
            ]
          },
          "execution_count": 38,
          "metadata": {},
          "output_type": "execute_result"
        },
        {
          "data": {
            "image/png": "[encoded data removed]",
            "text/plain": [
              "<Figure size 800x600 with 2 Axes>"
            ]
          },
          "metadata": {},
          "output_type": "display_data"
        }
      ],
      "source": [
        "#CORRELATION\n",
        "\n",
        "corr = matrix[x_calls].corr()\n",
        "fig, ax = plt.subplots(figsize=(8, 6))\n",
        "cax=ax.matshow(corr,vmin=-1,vmax=1)\n",
        "ax.matshow(corr)\n",
        "plt.xticks(range(len(corr.columns)), corr.columns)\n",
        "plt.yticks(range(len(corr.columns)), corr.columns)\n",
        "plt.xticks(rotation=90)\n",
        "plt.colorbar(cax)"
      ]
    },
    {
      "cell_type": "code",
      "execution_count": null,
      "id": "6fcc33eb",
      "metadata": {
        "id": "6fcc33eb",
        "outputId": "dca673f4-eb37-4fb5-d0ef-3b0490fa1fbd"
      },
      "outputs": [
        {
          "data": {
            "text/plain": [
              "0        4\n",
              "1        4\n",
              "2        4\n",
              "3        4\n",
              "4        4\n",
              "        ..\n",
              "49928    2\n",
              "49929    2\n",
              "49930    2\n",
              "49931    2\n",
              "49932    2\n",
              "Name: day, Length: 49933, dtype: int64"
            ]
          },
          "execution_count": 41,
          "metadata": {},
          "output_type": "execute_result"
        }
      ],
      "source": [
        "data.day"
      ]
    },
    {
      "cell_type": "code",
      "execution_count": null,
      "id": "c182fb1f",
      "metadata": {
        "id": "c182fb1f",
        "outputId": "1527a303-2fc9-4b07-db47-bc4b72f4fbd7"
      },
      "outputs": [
        {
          "data": {
            "image/png": "[encoded data removed]",
            "text/plain": [
              "<Figure size 2000x600 with 1 Axes>"
            ]
          },
          "metadata": {},
          "output_type": "display_data"
        }
      ],
      "source": [
        "plt.figure(figsize=(20,6))\n",
        "plt.title(\"days\")\n",
        "data.day.plot()\n",
        "plt.show()"
      ]
    },
    {
      "cell_type": "code",
      "execution_count": null,
      "id": "ec1c138d",
      "metadata": {
        "id": "ec1c138d"
      },
      "outputs": [],
      "source": []
    },
    {
      "cell_type": "code",
      "execution_count": null,
      "id": "4faa61f6",
      "metadata": {
        "id": "4faa61f6"
      },
      "outputs": [],
      "source": [
        "#vmMemoryDemand stats"
      ]
    },
    {
      "cell_type": "code",
      "execution_count": null,
      "id": "8902c893",
      "metadata": {
        "id": "8902c893"
      },
      "outputs": [],
      "source": [
        "# x_call_1 = data.columns[1:3]"
      ]
    },
    {
      "cell_type": "code",
      "execution_count": null,
      "id": "ffc0bf38",
      "metadata": {
        "id": "ffc0bf38"
      },
      "outputs": [],
      "source": [
        "# data_fix_1 = pd.DataFrame({'total vmMemoryDemand':np.sum(data[x_call]).values})\n",
        "# data_fix_1['average per day']=data[x_call].mean().values\n",
        "# data_fix_1['% Monday']=data[data['day']==0][x_call].sum().values/data_fix_1['total vmMemoryDemand']*100\n",
        "# data_fix_1['% Tuesday']=data[data['day']==1][x_call].sum().values/data_fix_1['total vmMemoryDemand']*100\n",
        "# data_fix_1['% Wednesday']=data[data['day']==2][x_call].sum().values/data_fix_1['total vmMemoryDemand']*100\n",
        "# data_fix_1['% Thursday']=data[data['day']==3][x_call].sum().values/data_fix_1['total vmMemoryDemand']*100\n",
        "# data_fix_1['% Friday']=data[data['day']==4][x_call].sum().values/data_fix_1['total vmMemoryDemand']*100\n",
        "# data_fix_1['% Saturday']=data[data['day']==5][x_call].sum().values/data_fix_1['total vmMemoryDemand']*100\n",
        "# data_fix_1['% Sunday']=data[data['day']==6][x_call].sum().values/data_fix_1['total vmMemoryDemand']*100\n",
        "# data_fix_1['% weekday']=data[(data['day']!=5)&(data['day']!=6)][x_call].sum().values/data_fix_1['total vmMemoryDemand']*100\n",
        "# data_fix_1['% weekend']=data[(data['day']==5)|(data['day']==6)][x_call].sum().values/data_fix_1['total vmMemoryDemand']*100"
      ]
    },
    {
      "cell_type": "code",
      "execution_count": null,
      "id": "26ba41c8",
      "metadata": {
        "id": "26ba41c8",
        "outputId": "d4c3a0b2-831b-4546-844e-8b75e81ab526"
      },
      "outputs": [
        {
          "data": {
            "text/html": [
              "<div>\n",
              "<style scoped>\n",
              "    .dataframe tbody tr th:only-of-type {\n",
              "        vertical-align: middle;\n",
              "    }\n",
              "\n",
              "    .dataframe tbody tr th {\n",
              "        vertical-align: top;\n",
              "    }\n",
              "\n",
              "    .dataframe thead th {\n",
              "        text-align: right;\n",
              "    }\n",
              "</style>\n",
              "<table border=\"1\" class=\"dataframe\">\n",
              "  <thead>\n",
              "    <tr style=\"text-align: right;\">\n",
              "      <th></th>\n",
              "      <th>total vmMemoryDemand</th>\n",
              "      <th>average per day</th>\n",
              "      <th>% Monday</th>\n",
              "      <th>% Tuesday</th>\n",
              "      <th>% Wednesday</th>\n",
              "      <th>% Thursday</th>\n",
              "      <th>% Friday</th>\n",
              "      <th>% Saturday</th>\n",
              "      <th>% Sunday</th>\n",
              "      <th>% weekday</th>\n",
              "      <th>% weekend</th>\n",
              "    </tr>\n",
              "  </thead>\n",
              "  <tbody>\n",
              "    <tr>\n",
              "      <th>0</th>\n",
              "      <td>-1.132808e+18</td>\n",
              "      <td>1.676081e+18</td>\n",
              "      <td>97.397416</td>\n",
              "      <td>-102.203826</td>\n",
              "      <td>-128.665931</td>\n",
              "      <td>427.453935</td>\n",
              "      <td>218.303822</td>\n",
              "      <td>407.700656</td>\n",
              "      <td>808.423352</td>\n",
              "      <td>512.285415</td>\n",
              "      <td>-412.285415</td>\n",
              "    </tr>\n",
              "    <tr>\n",
              "      <th>1</th>\n",
              "      <td>7.310613e+11</td>\n",
              "      <td>1.464084e+07</td>\n",
              "      <td>15.116000</td>\n",
              "      <td>14.498979</td>\n",
              "      <td>13.913406</td>\n",
              "      <td>13.506379</td>\n",
              "      <td>13.208740</td>\n",
              "      <td>14.747454</td>\n",
              "      <td>15.009042</td>\n",
              "      <td>70.243504</td>\n",
              "      <td>29.756496</td>\n",
              "    </tr>\n",
              "    <tr>\n",
              "      <th>2</th>\n",
              "      <td>2.638065e+11</td>\n",
              "      <td>5.283209e+06</td>\n",
              "      <td>15.547615</td>\n",
              "      <td>19.385130</td>\n",
              "      <td>13.050710</td>\n",
              "      <td>12.649504</td>\n",
              "      <td>11.961036</td>\n",
              "      <td>12.810748</td>\n",
              "      <td>14.595256</td>\n",
              "      <td>72.593996</td>\n",
              "      <td>27.406004</td>\n",
              "    </tr>\n",
              "    <tr>\n",
              "      <th>3</th>\n",
              "      <td>1.675473e+12</td>\n",
              "      <td>3.355443e+07</td>\n",
              "      <td>14.391284</td>\n",
              "      <td>14.393287</td>\n",
              "      <td>14.217051</td>\n",
              "      <td>13.968718</td>\n",
              "      <td>13.860573</td>\n",
              "      <td>14.609577</td>\n",
              "      <td>14.559510</td>\n",
              "      <td>70.830913</td>\n",
              "      <td>29.169087</td>\n",
              "    </tr>\n",
              "    <tr>\n",
              "      <th>4</th>\n",
              "      <td>8.388743e+08</td>\n",
              "      <td>1.680000e+04</td>\n",
              "      <td>14.391284</td>\n",
              "      <td>14.393287</td>\n",
              "      <td>14.217051</td>\n",
              "      <td>13.968718</td>\n",
              "      <td>13.860573</td>\n",
              "      <td>14.609577</td>\n",
              "      <td>14.559510</td>\n",
              "      <td>70.830913</td>\n",
              "      <td>29.169087</td>\n",
              "    </tr>\n",
              "    <tr>\n",
              "      <th>5</th>\n",
              "      <td>1.688119e+12</td>\n",
              "      <td>3.380769e+07</td>\n",
              "      <td>14.393263</td>\n",
              "      <td>14.392230</td>\n",
              "      <td>14.215404</td>\n",
              "      <td>13.967366</td>\n",
              "      <td>13.858003</td>\n",
              "      <td>14.611415</td>\n",
              "      <td>14.562318</td>\n",
              "      <td>70.826267</td>\n",
              "      <td>29.173733</td>\n",
              "    </tr>\n",
              "  </tbody>\n",
              "</table>\n",
              "</div>"
            ],
            "text/plain": [
              "   total vmMemoryDemand  average per day   % Monday   % Tuesday  % Wednesday  \\\n",
              "0         -1.132808e+18     1.676081e+18  97.397416 -102.203826  -128.665931   \n",
              "1          7.310613e+11     1.464084e+07  15.116000   14.498979    13.913406   \n",
              "2          2.638065e+11     5.283209e+06  15.547615   19.385130    13.050710   \n",
              "3          1.675473e+12     3.355443e+07  14.391284   14.393287    14.217051   \n",
              "4          8.388743e+08     1.680000e+04  14.391284   14.393287    14.217051   \n",
              "5          1.688119e+12     3.380769e+07  14.393263   14.392230    14.215404   \n",
              "\n",
              "   % Thursday    % Friday  % Saturday    % Sunday   % weekday   % weekend  \n",
              "0  427.453935  218.303822  407.700656  808.423352  512.285415 -412.285415  \n",
              "1   13.506379   13.208740   14.747454   15.009042   70.243504   29.756496  \n",
              "2   12.649504   11.961036   12.810748   14.595256   72.593996   27.406004  \n",
              "3   13.968718   13.860573   14.609577   14.559510   70.830913   29.169087  \n",
              "4   13.968718   13.860573   14.609577   14.559510   70.830913   29.169087  \n",
              "5   13.967366   13.858003   14.611415   14.562318   70.826267   29.173733  "
            ]
          },
          "execution_count": 20,
          "metadata": {},
          "output_type": "execute_result"
        }
      ],
      "source": [
        "# data_fix_1"
      ]
    },
    {
      "cell_type": "code",
      "execution_count": null,
      "id": "5fc6a3cc",
      "metadata": {
        "id": "5fc6a3cc"
      },
      "outputs": [],
      "source": []
    }
  ],
  "metadata": {
    "kernelspec": {
      "display_name": "Python 3 (ipykernel)",
      "language": "python",
      "name": "python3"
    },
    "language_info": {
      "codemirror_mode": {
        "name": "ipython",
        "version": 3
      },
      "file_extension": ".py",
      "mimetype": "text/x-python",
      "name": "python",
      "nbconvert_exporter": "python",
      "pygments_lexer": "ipython3",
      "version": "3.10.9"
    },
    "colab": {
      "provenance": []
    }
  },
  "nbformat": 4,
  "nbformat_minor": 5
}