{
  "cells": [
    {
      "cell_type": "code",
      "execution_count": null,
      "id": "44918214",
      "metadata": {
        "id": "44918214"
      },
      "outputs": [],
      "source": [
        "import pandas as pd\n",
        "import numpy as np\n",
        "import matplotlib.pyplot as plt\n",
        "import scipy.stats\n",
        "import pylab"
      ]
    },
    {
      "cell_type": "code",
      "execution_count": null,
      "id": "83cb213d",
      "metadata": {
        "id": "83cb213d"
      },
      "outputs": [],
      "source": [
        "raw_csv_data = pd.read_csv(\"C:/Users/MUHAMMED SHAH/Desktop/Observability server data/SET 2/SERVER 1/new_csv_formatted.csv\")"
      ]
    },
    {
      "cell_type": "code",
      "execution_count": null,
      "id": "7fdb81db",
      "metadata": {
        "id": "7fdb81db"
      },
      "outputs": [],
      "source": [
        "data = raw_csv_data.copy()"
      ]
    },
    {
      "cell_type": "code",
      "execution_count": null,
      "id": "2d20b644",
      "metadata": {
        "id": "2d20b644",
        "outputId": "1ef42df5-f367-4740-fdc0-72b33df10e31"
      },
      "outputs": [
        {
          "data": {
            "text/html": [
              "<div>\n",
              "<style scoped>\n",
              "    .dataframe tbody tr th:only-of-type {\n",
              "        vertical-align: middle;\n",
              "    }\n",
              "\n",
              "    .dataframe tbody tr th {\n",
              "        vertical-align: top;\n",
              "    }\n",
              "\n",
              "    .dataframe thead th {\n",
              "        text-align: right;\n",
              "    }\n",
              "</style>\n",
              "<table border=\"1\" class=\"dataframe\">\n",
              "  <thead>\n",
              "    <tr style=\"text-align: right;\">\n",
              "      <th></th>\n",
              "      <th>Sr No</th>\n",
              "      <th>timestamp</th>\n",
              "      <th>vmMemoryDemand</th>\n",
              "      <th>guest_demand</th>\n",
              "      <th>guest_provisioned</th>\n",
              "      <th>vm_capacity_provisioned</th>\n",
              "      <th>effective_limit</th>\n",
              "    </tr>\n",
              "  </thead>\n",
              "  <tbody>\n",
              "    <tr>\n",
              "      <th>0</th>\n",
              "      <td>0</td>\n",
              "      <td>11-11-2022 19:16</td>\n",
              "      <td>13844401.0</td>\n",
              "      <td>3838625.00</td>\n",
              "      <td>33554432</td>\n",
              "      <td>16799.99805</td>\n",
              "      <td>33815464</td>\n",
              "    </tr>\n",
              "    <tr>\n",
              "      <th>1</th>\n",
              "      <td>1</td>\n",
              "      <td>11-11-2022 19:21</td>\n",
              "      <td>13832758.0</td>\n",
              "      <td>3617164.25</td>\n",
              "      <td>33554432</td>\n",
              "      <td>16799.99805</td>\n",
              "      <td>33815464</td>\n",
              "    </tr>\n",
              "    <tr>\n",
              "      <th>2</th>\n",
              "      <td>2</td>\n",
              "      <td>11-11-2022 19:26</td>\n",
              "      <td>13834057.0</td>\n",
              "      <td>3051213.50</td>\n",
              "      <td>33554432</td>\n",
              "      <td>16799.99805</td>\n",
              "      <td>33815464</td>\n",
              "    </tr>\n",
              "    <tr>\n",
              "      <th>3</th>\n",
              "      <td>3</td>\n",
              "      <td>11-11-2022 19:31</td>\n",
              "      <td>13859266.0</td>\n",
              "      <td>3764804.50</td>\n",
              "      <td>33554432</td>\n",
              "      <td>16799.99805</td>\n",
              "      <td>33815464</td>\n",
              "    </tr>\n",
              "    <tr>\n",
              "      <th>4</th>\n",
              "      <td>4</td>\n",
              "      <td>11-11-2022 19:36</td>\n",
              "      <td>13867352.0</td>\n",
              "      <td>3174246.25</td>\n",
              "      <td>33554432</td>\n",
              "      <td>16799.99805</td>\n",
              "      <td>33815464</td>\n",
              "    </tr>\n",
              "  </tbody>\n",
              "</table>\n",
              "</div>"
            ],
            "text/plain": [
              "   Sr No         timestamp  vmMemoryDemand  guest_demand  guest_provisioned  \\\n",
              "0      0  11-11-2022 19:16      13844401.0    3838625.00           33554432   \n",
              "1      1  11-11-2022 19:21      13832758.0    3617164.25           33554432   \n",
              "2      2  11-11-2022 19:26      13834057.0    3051213.50           33554432   \n",
              "3      3  11-11-2022 19:31      13859266.0    3764804.50           33554432   \n",
              "4      4  11-11-2022 19:36      13867352.0    3174246.25           33554432   \n",
              "\n",
              "   vm_capacity_provisioned  effective_limit  \n",
              "0              16799.99805         33815464  \n",
              "1              16799.99805         33815464  \n",
              "2              16799.99805         33815464  \n",
              "3              16799.99805         33815464  \n",
              "4              16799.99805         33815464  "
            ]
          },
          "execution_count": 4,
          "metadata": {},
          "output_type": "execute_result"
        }
      ],
      "source": [
        "data.head()"
      ]
    },
    {
      "cell_type": "code",
      "execution_count": null,
      "id": "63fe23f5",
      "metadata": {
        "id": "63fe23f5",
        "outputId": "8efed328-2619-4b51-f665-22c0d1866e73"
      },
      "outputs": [
        {
          "data": {
            "text/html": [
              "<div>\n",
              "<style scoped>\n",
              "    .dataframe tbody tr th:only-of-type {\n",
              "        vertical-align: middle;\n",
              "    }\n",
              "\n",
              "    .dataframe tbody tr th {\n",
              "        vertical-align: top;\n",
              "    }\n",
              "\n",
              "    .dataframe thead th {\n",
              "        text-align: right;\n",
              "    }\n",
              "</style>\n",
              "<table border=\"1\" class=\"dataframe\">\n",
              "  <thead>\n",
              "    <tr style=\"text-align: right;\">\n",
              "      <th></th>\n",
              "      <th>Sr No</th>\n",
              "      <th>timestamp</th>\n",
              "      <th>vmMemoryDemand</th>\n",
              "      <th>guest_demand</th>\n",
              "      <th>guest_provisioned</th>\n",
              "      <th>vm_capacity_provisioned</th>\n",
              "      <th>effective_limit</th>\n",
              "    </tr>\n",
              "  </thead>\n",
              "  <tbody>\n",
              "    <tr>\n",
              "      <th>49928</th>\n",
              "      <td>49928</td>\n",
              "      <td>05-10-2023 18:51</td>\n",
              "      <td>15023986.0</td>\n",
              "      <td>5684120.00</td>\n",
              "      <td>33554432</td>\n",
              "      <td>16799.99609</td>\n",
              "      <td>33815236</td>\n",
              "    </tr>\n",
              "    <tr>\n",
              "      <th>49929</th>\n",
              "      <td>49929</td>\n",
              "      <td>05-10-2023 18:56</td>\n",
              "      <td>15002012.0</td>\n",
              "      <td>4872101.50</td>\n",
              "      <td>33554432</td>\n",
              "      <td>16799.99609</td>\n",
              "      <td>33815236</td>\n",
              "    </tr>\n",
              "    <tr>\n",
              "      <th>49930</th>\n",
              "      <td>49930</td>\n",
              "      <td>05-10-2023 19:01</td>\n",
              "      <td>14994134.0</td>\n",
              "      <td>4724462.00</td>\n",
              "      <td>33554432</td>\n",
              "      <td>16799.99609</td>\n",
              "      <td>33815236</td>\n",
              "    </tr>\n",
              "    <tr>\n",
              "      <th>49931</th>\n",
              "      <td>49931</td>\n",
              "      <td>05-10-2023 19:06</td>\n",
              "      <td>14986520.0</td>\n",
              "      <td>3764803.75</td>\n",
              "      <td>33554432</td>\n",
              "      <td>16799.99609</td>\n",
              "      <td>33815236</td>\n",
              "    </tr>\n",
              "    <tr>\n",
              "      <th>49932</th>\n",
              "      <td>49932</td>\n",
              "      <td>05-10-2023 19:11</td>\n",
              "      <td>14977126.0</td>\n",
              "      <td>4503002.00</td>\n",
              "      <td>33554432</td>\n",
              "      <td>16799.99609</td>\n",
              "      <td>33815236</td>\n",
              "    </tr>\n",
              "  </tbody>\n",
              "</table>\n",
              "</div>"
            ],
            "text/plain": [
              "       Sr No         timestamp  vmMemoryDemand  guest_demand  \\\n",
              "49928  49928  05-10-2023 18:51      15023986.0    5684120.00   \n",
              "49929  49929  05-10-2023 18:56      15002012.0    4872101.50   \n",
              "49930  49930  05-10-2023 19:01      14994134.0    4724462.00   \n",
              "49931  49931  05-10-2023 19:06      14986520.0    3764803.75   \n",
              "49932  49932  05-10-2023 19:11      14977126.0    4503002.00   \n",
              "\n",
              "       guest_provisioned  vm_capacity_provisioned  effective_limit  \n",
              "49928           33554432              16799.99609         33815236  \n",
              "49929           33554432              16799.99609         33815236  \n",
              "49930           33554432              16799.99609         33815236  \n",
              "49931           33554432              16799.99609         33815236  \n",
              "49932           33554432              16799.99609         33815236  "
            ]
          },
          "execution_count": 5,
          "metadata": {},
          "output_type": "execute_result"
        }
      ],
      "source": [
        "data.tail()"
      ]
    },
    {
      "cell_type": "code",
      "execution_count": null,
      "id": "4042326b",
      "metadata": {
        "id": "4042326b",
        "outputId": "bd89a492-98d8-4c6b-b139-7cb23d0e8059"
      },
      "outputs": [
        {
          "data": {
            "text/plain": [
              "Sr No                      0\n",
              "timestamp                  0\n",
              "vmMemoryDemand             0\n",
              "guest_demand               0\n",
              "guest_provisioned          0\n",
              "vm_capacity_provisioned    0\n",
              "effective_limit            0\n",
              "dtype: int64"
            ]
          },
          "execution_count": 6,
          "metadata": {},
          "output_type": "execute_result"
        }
      ],
      "source": [
        "data.isna().sum()"
      ]
    },
    {
      "cell_type": "code",
      "execution_count": null,
      "id": "2e8e355d",
      "metadata": {
        "id": "2e8e355d"
      },
      "outputs": [],
      "source": []
    },
    {
      "cell_type": "code",
      "execution_count": null,
      "id": "8c149856",
      "metadata": {
        "id": "8c149856"
      },
      "outputs": [],
      "source": [
        "import statsmodels.graphics.tsaplots as sgt\n",
        "import statsmodels.tsa.stattools as sts"
      ]
    },
    {
      "cell_type": "code",
      "execution_count": null,
      "id": "c5090c6f",
      "metadata": {
        "id": "c5090c6f"
      },
      "outputs": [],
      "source": [
        "from statsmodels.tsa.arima.model import ARIMA\n",
        "from scipy.stats.distributions import chi2\n",
        "from math import sqrt\n",
        "\n",
        "import seaborn as sns\n",
        "sns.set()"
      ]
    },
    {
      "cell_type": "code",
      "execution_count": null,
      "id": "562cf27c",
      "metadata": {
        "id": "562cf27c"
      },
      "outputs": [],
      "source": [
        "import warnings\n",
        "warnings.filterwarnings(\"ignore\")"
      ]
    },
    {
      "cell_type": "code",
      "execution_count": null,
      "id": "0f59c19b",
      "metadata": {
        "id": "0f59c19b"
      },
      "outputs": [],
      "source": [
        "#LLR Test\n",
        "\n",
        "# def LLR_test(mod_1, mod_2, DF=1):\n",
        "#     L1 = mod_1.fit(start_ar_lags=20).llf\n",
        "#     L2 = mod_2.fit(start_ar_lags=20).llf\n",
        "#     LR = (2*(L2-L1))\n",
        "#     p = chi2.sf(LR,DF).round(3)\n",
        "#     return p"
      ]
    },
    {
      "cell_type": "code",
      "execution_count": null,
      "id": "a4304d5f",
      "metadata": {
        "id": "a4304d5f"
      },
      "outputs": [],
      "source": [
        "# df['returns'] = df.market_value.pct_change(1)*100"
      ]
    },
    {
      "cell_type": "code",
      "execution_count": null,
      "id": "94a148cb",
      "metadata": {
        "id": "94a148cb"
      },
      "outputs": [],
      "source": [
        "#LLR_test\n",
        "\n",
        "def LLR_test(mod_1, mod_2, DF=1):\n",
        "    L1 = mod_1.fit().llf\n",
        "    L2 = mod_2.fit().llf\n",
        "    LR = (2*(L2-L1))\n",
        "    p = chi2.sf(LR,DF).round(3)\n",
        "    return p"
      ]
    },
    {
      "cell_type": "code",
      "execution_count": null,
      "id": "97c0dbba",
      "metadata": {
        "id": "97c0dbba"
      },
      "outputs": [],
      "source": [
        "data['returns'] = data.vmMemoryDemand.pct_change(1)*100"
      ]
    },
    {
      "cell_type": "code",
      "execution_count": null,
      "id": "ba3a073d",
      "metadata": {
        "id": "ba3a073d",
        "outputId": "ad928d4f-97bc-490f-cf22-d5b488a83a5d"
      },
      "outputs": [
        {
          "data": {
            "text/html": [
              "<table class=\"simpletable\">\n",
              "<caption>SARIMAX Results</caption>\n",
              "<tr>\n",
              "  <th>Dep. Variable:</th>    <td>vmMemoryDemand</td>  <th>  No. Observations:  </th>    <td>49933</td>   \n",
              "</tr>\n",
              "<tr>\n",
              "  <th>Model:</th>            <td>ARIMA(1, 1, 1)</td>  <th>  Log Likelihood     </th> <td>-758491.254</td>\n",
              "</tr>\n",
              "<tr>\n",
              "  <th>Date:</th>            <td>Thu, 01 Jun 2023</td> <th>  AIC                </th> <td>1516988.507</td>\n",
              "</tr>\n",
              "<tr>\n",
              "  <th>Time:</th>                <td>10:23:58</td>     <th>  BIC                </th> <td>1517014.962</td>\n",
              "</tr>\n",
              "<tr>\n",
              "  <th>Sample:</th>                  <td>0</td>        <th>  HQIC               </th> <td>1516996.795</td>\n",
              "</tr>\n",
              "<tr>\n",
              "  <th></th>                     <td> - 49933</td>     <th>                     </th>      <td> </td>     \n",
              "</tr>\n",
              "<tr>\n",
              "  <th>Covariance Type:</th>        <td>opg</td>       <th>                     </th>      <td> </td>     \n",
              "</tr>\n",
              "</table>\n",
              "<table class=\"simpletable\">\n",
              "<tr>\n",
              "     <td></td>       <th>coef</th>     <th>std err</th>      <th>z</th>      <th>P>|z|</th>  <th>[0.025</th>    <th>0.975]</th>  \n",
              "</tr>\n",
              "<tr>\n",
              "  <th>ar.L1</th>  <td>    0.4546</td> <td>    0.001</td> <td>  418.940</td> <td> 0.000</td> <td>    0.452</td> <td>    0.457</td>\n",
              "</tr>\n",
              "<tr>\n",
              "  <th>ma.L1</th>  <td>   -0.8894</td> <td>    0.001</td> <td>-1199.468</td> <td> 0.000</td> <td>   -0.891</td> <td>   -0.888</td>\n",
              "</tr>\n",
              "<tr>\n",
              "  <th>sigma2</th> <td> 9.807e+11</td> <td> 5.32e-17</td> <td> 1.84e+28</td> <td> 0.000</td> <td> 9.81e+11</td> <td> 9.81e+11</td>\n",
              "</tr>\n",
              "</table>\n",
              "<table class=\"simpletable\">\n",
              "<tr>\n",
              "  <th>Ljung-Box (L1) (Q):</th>     <td>1.73</td> <th>  Jarque-Bera (JB):  </th> <td>75879681.65</td>\n",
              "</tr>\n",
              "<tr>\n",
              "  <th>Prob(Q):</th>                <td>0.19</td> <th>  Prob(JB):          </th>    <td>0.00</td>    \n",
              "</tr>\n",
              "<tr>\n",
              "  <th>Heteroskedasticity (H):</th> <td>0.02</td> <th>  Skew:              </th>    <td>-4.71</td>   \n",
              "</tr>\n",
              "<tr>\n",
              "  <th>Prob(H) (two-sided):</th>    <td>0.00</td> <th>  Kurtosis:          </th>   <td>193.74</td>   \n",
              "</tr>\n",
              "</table><br/><br/>Warnings:<br/>[1] Covariance matrix calculated using the outer product of gradients (complex-step).<br/>[2] Covariance matrix is singular or near-singular, with condition number 1.58e+42. Standard errors may be unstable."
            ],
            "text/plain": [
              "<class 'statsmodels.iolib.summary.Summary'>\n",
              "\"\"\"\n",
              "                               SARIMAX Results                                \n",
              "==============================================================================\n",
              "Dep. Variable:         vmMemoryDemand   No. Observations:                49933\n",
              "Model:                 ARIMA(1, 1, 1)   Log Likelihood             -758491.254\n",
              "Date:                Thu, 01 Jun 2023   AIC                        1516988.507\n",
              "Time:                        10:23:58   BIC                        1517014.962\n",
              "Sample:                             0   HQIC                       1516996.795\n",
              "                              - 49933                                         \n",
              "Covariance Type:                  opg                                         \n",
              "==============================================================================\n",
              "                 coef    std err          z      P>|z|      [0.025      0.975]\n",
              "------------------------------------------------------------------------------\n",
              "ar.L1          0.4546      0.001    418.940      0.000       0.452       0.457\n",
              "ma.L1         -0.8894      0.001  -1199.468      0.000      -0.891      -0.888\n",
              "sigma2      9.807e+11   5.32e-17   1.84e+28      0.000    9.81e+11    9.81e+11\n",
              "===================================================================================\n",
              "Ljung-Box (L1) (Q):                   1.73   Jarque-Bera (JB):          75879681.65\n",
              "Prob(Q):                              0.19   Prob(JB):                         0.00\n",
              "Heteroskedasticity (H):               0.02   Skew:                            -4.71\n",
              "Prob(H) (two-sided):                  0.00   Kurtosis:                       193.74\n",
              "===================================================================================\n",
              "\n",
              "Warnings:\n",
              "[1] Covariance matrix calculated using the outer product of gradients (complex-step).\n",
              "[2] Covariance matrix is singular or near-singular, with condition number 1.58e+42. Standard errors may be unstable.\n",
              "\"\"\""
            ]
          },
          "execution_count": 18,
          "metadata": {},
          "output_type": "execute_result"
        }
      ],
      "source": [
        "#ARIMA(1,1,1)\n",
        "\n",
        "model_ar_1_i_1_ma_1 = ARIMA(data.vmMemoryDemand, order=(1,1,1))\n",
        "results_ar_1_i_1_ma_1 = model_ar_1_i_1_ma_1.fit()\n",
        "results_ar_1_i_1_ma_1.summary()"
      ]
    },
    {
      "cell_type": "code",
      "execution_count": null,
      "id": "b31239e5",
      "metadata": {
        "id": "b31239e5",
        "outputId": "6d255d99-35d3-4ca8-9fd9-990a6c33e590"
      },
      "outputs": [
        {
          "data": {
            "image/png": "[encoded data removed]",
            "text/plain": [
              "<Figure size 640x480 with 1 Axes>"
            ]
          },
          "metadata": {},
          "output_type": "display_data"
        }
      ],
      "source": [
        "#Residuals of ARIMA(1,1,1)\n",
        "\n",
        "data['res_ar_1_i_1_ma_1'] = results_ar_1_i_1_ma_1.resid\n",
        "sgt.plot_acf(data.res_ar_1_i_1_ma_1[1:], zero = False, lags = 40)\n",
        "plt.title(\"ACF of Residuals for ARIMA(1,1,1)\", size=10)\n",
        "plt.ylim(-0.10,0.10)\n",
        "plt.show()"
      ]
    },
    {
      "cell_type": "code",
      "execution_count": null,
      "id": "469fda17",
      "metadata": {
        "id": "469fda17",
        "outputId": "97ce7aaa-3b6b-4313-83bd-768b0e2ada4f"
      },
      "outputs": [
        {
          "data": {
            "text/html": [
              "<table class=\"simpletable\">\n",
              "<caption>SARIMAX Results</caption>\n",
              "<tr>\n",
              "  <th>Dep. Variable:</th>    <td>vmMemoryDemand</td>  <th>  No. Observations:  </th>    <td>49933</td>   \n",
              "</tr>\n",
              "<tr>\n",
              "  <th>Model:</th>            <td>ARIMA(1, 1, 2)</td>  <th>  Log Likelihood     </th> <td>-758442.903</td>\n",
              "</tr>\n",
              "<tr>\n",
              "  <th>Date:</th>            <td>Thu, 01 Jun 2023</td> <th>  AIC                </th> <td>1516893.806</td>\n",
              "</tr>\n",
              "<tr>\n",
              "  <th>Time:</th>                <td>13:46:37</td>     <th>  BIC                </th> <td>1516929.080</td>\n",
              "</tr>\n",
              "<tr>\n",
              "  <th>Sample:</th>                  <td>0</td>        <th>  HQIC               </th> <td>1516904.856</td>\n",
              "</tr>\n",
              "<tr>\n",
              "  <th></th>                     <td> - 49933</td>     <th>                     </th>      <td> </td>     \n",
              "</tr>\n",
              "<tr>\n",
              "  <th>Covariance Type:</th>        <td>opg</td>       <th>                     </th>      <td> </td>     \n",
              "</tr>\n",
              "</table>\n",
              "<table class=\"simpletable\">\n",
              "<tr>\n",
              "     <td></td>       <th>coef</th>     <th>std err</th>      <th>z</th>      <th>P>|z|</th>  <th>[0.025</th>    <th>0.975]</th>  \n",
              "</tr>\n",
              "<tr>\n",
              "  <th>ar.L1</th>  <td>    0.4891</td> <td>    0.002</td> <td>  196.020</td> <td> 0.000</td> <td>    0.484</td> <td>    0.494</td>\n",
              "</tr>\n",
              "<tr>\n",
              "  <th>ma.L1</th>  <td>   -0.9295</td> <td>    0.003</td> <td> -353.405</td> <td> 0.000</td> <td>   -0.935</td> <td>   -0.924</td>\n",
              "</tr>\n",
              "<tr>\n",
              "  <th>ma.L2</th>  <td>    0.0313</td> <td>    0.002</td> <td>   16.970</td> <td> 0.000</td> <td>    0.028</td> <td>    0.035</td>\n",
              "</tr>\n",
              "<tr>\n",
              "  <th>sigma2</th> <td> 9.489e+11</td> <td> 1.18e-15</td> <td> 8.03e+26</td> <td> 0.000</td> <td> 9.49e+11</td> <td> 9.49e+11</td>\n",
              "</tr>\n",
              "</table>\n",
              "<table class=\"simpletable\">\n",
              "<tr>\n",
              "  <th>Ljung-Box (L1) (Q):</th>     <td>0.00</td> <th>  Jarque-Bera (JB):  </th> <td>75803860.01</td>\n",
              "</tr>\n",
              "<tr>\n",
              "  <th>Prob(Q):</th>                <td>0.96</td> <th>  Prob(JB):          </th>    <td>0.00</td>    \n",
              "</tr>\n",
              "<tr>\n",
              "  <th>Heteroskedasticity (H):</th> <td>0.02</td> <th>  Skew:              </th>    <td>-4.70</td>   \n",
              "</tr>\n",
              "<tr>\n",
              "  <th>Prob(H) (two-sided):</th>    <td>0.00</td> <th>  Kurtosis:          </th>   <td>193.65</td>   \n",
              "</tr>\n",
              "</table><br/><br/>Warnings:<br/>[1] Covariance matrix calculated using the outer product of gradients (complex-step).<br/>[2] Covariance matrix is singular or near-singular, with condition number 1.32e+41. Standard errors may be unstable."
            ],
            "text/plain": [
              "<class 'statsmodels.iolib.summary.Summary'>\n",
              "\"\"\"\n",
              "                               SARIMAX Results                                \n",
              "==============================================================================\n",
              "Dep. Variable:         vmMemoryDemand   No. Observations:                49933\n",
              "Model:                 ARIMA(1, 1, 2)   Log Likelihood             -758442.903\n",
              "Date:                Thu, 01 Jun 2023   AIC                        1516893.806\n",
              "Time:                        13:46:37   BIC                        1516929.080\n",
              "Sample:                             0   HQIC                       1516904.856\n",
              "                              - 49933                                         \n",
              "Covariance Type:                  opg                                         \n",
              "==============================================================================\n",
              "                 coef    std err          z      P>|z|      [0.025      0.975]\n",
              "------------------------------------------------------------------------------\n",
              "ar.L1          0.4891      0.002    196.020      0.000       0.484       0.494\n",
              "ma.L1         -0.9295      0.003   -353.405      0.000      -0.935      -0.924\n",
              "ma.L2          0.0313      0.002     16.970      0.000       0.028       0.035\n",
              "sigma2      9.489e+11   1.18e-15   8.03e+26      0.000    9.49e+11    9.49e+11\n",
              "===================================================================================\n",
              "Ljung-Box (L1) (Q):                   0.00   Jarque-Bera (JB):          75803860.01\n",
              "Prob(Q):                              0.96   Prob(JB):                         0.00\n",
              "Heteroskedasticity (H):               0.02   Skew:                            -4.70\n",
              "Prob(H) (two-sided):                  0.00   Kurtosis:                       193.65\n",
              "===================================================================================\n",
              "\n",
              "Warnings:\n",
              "[1] Covariance matrix calculated using the outer product of gradients (complex-step).\n",
              "[2] Covariance matrix is singular or near-singular, with condition number 1.32e+41. Standard errors may be unstable.\n",
              "\"\"\""
            ]
          },
          "execution_count": 8,
          "metadata": {},
          "output_type": "execute_result"
        }
      ],
      "source": [
        "#ARIMA(1,1,2)\n",
        "\n",
        "model_ar_1_i_1_ma_2 = ARIMA(data.vmMemoryDemand, order=(1,1,2))\n",
        "results_ar_1_i_1_ma_2 = model_ar_1_i_1_ma_2.fit()\n",
        "results_ar_1_i_1_ma_2.summary()"
      ]
    },
    {
      "cell_type": "code",
      "execution_count": null,
      "id": "1cbc7399",
      "metadata": {
        "id": "1cbc7399",
        "outputId": "7ec92634-c9bf-4732-9c0a-cf7d93fd6a97"
      },
      "outputs": [
        {
          "data": {
            "image/png": "[encoded data removed]",
            "text/plain": [
              "<Figure size 640x480 with 1 Axes>"
            ]
          },
          "metadata": {},
          "output_type": "display_data"
        }
      ],
      "source": [
        "#Residuals of ARIMA(1,1,2)\n",
        "\n",
        "data['res_ar_1_i_1_ma_2'] = results_ar_1_i_1_ma_2.resid\n",
        "sgt.plot_acf(data.res_ar_1_i_1_ma_2[1:], zero = False, lags = 40)\n",
        "plt.title(\"ACF of Residuals for ARIMA(1,1,2)\", size=10)\n",
        "plt.ylim(-0.10,0.10)\n",
        "plt.show()"
      ]
    },
    {
      "cell_type": "code",
      "execution_count": null,
      "id": "1e06f8e6",
      "metadata": {
        "id": "1e06f8e6",
        "outputId": "087ea354-93d8-49a4-e6a9-34f80dd0b87b"
      },
      "outputs": [
        {
          "data": {
            "text/html": [
              "<table class=\"simpletable\">\n",
              "<caption>SARIMAX Results</caption>\n",
              "<tr>\n",
              "  <th>Dep. Variable:</th>    <td>vmMemoryDemand</td>  <th>  No. Observations:  </th>    <td>49933</td>   \n",
              "</tr>\n",
              "<tr>\n",
              "  <th>Model:</th>            <td>ARIMA(1, 1, 3)</td>  <th>  Log Likelihood     </th> <td>-758431.151</td>\n",
              "</tr>\n",
              "<tr>\n",
              "  <th>Date:</th>            <td>Thu, 01 Jun 2023</td> <th>  AIC                </th> <td>1516872.302</td>\n",
              "</tr>\n",
              "<tr>\n",
              "  <th>Time:</th>                <td>13:47:52</td>     <th>  BIC                </th> <td>1516916.394</td>\n",
              "</tr>\n",
              "<tr>\n",
              "  <th>Sample:</th>                  <td>0</td>        <th>  HQIC               </th> <td>1516886.114</td>\n",
              "</tr>\n",
              "<tr>\n",
              "  <th></th>                     <td> - 49933</td>     <th>                     </th>      <td> </td>     \n",
              "</tr>\n",
              "<tr>\n",
              "  <th>Covariance Type:</th>        <td>opg</td>       <th>                     </th>      <td> </td>     \n",
              "</tr>\n",
              "</table>\n",
              "<table class=\"simpletable\">\n",
              "<tr>\n",
              "     <td></td>       <th>coef</th>     <th>std err</th>      <th>z</th>      <th>P>|z|</th>  <th>[0.025</th>    <th>0.975]</th>  \n",
              "</tr>\n",
              "<tr>\n",
              "  <th>ar.L1</th>  <td>    0.4917</td> <td>    0.005</td> <td>   92.114</td> <td> 0.000</td> <td>    0.481</td> <td>    0.502</td>\n",
              "</tr>\n",
              "<tr>\n",
              "  <th>ma.L1</th>  <td>   -0.9321</td> <td>    0.005</td> <td> -173.176</td> <td> 0.000</td> <td>   -0.943</td> <td>   -0.922</td>\n",
              "</tr>\n",
              "<tr>\n",
              "  <th>ma.L2</th>  <td>    0.0322</td> <td>    0.002</td> <td>   13.089</td> <td> 0.000</td> <td>    0.027</td> <td>    0.037</td>\n",
              "</tr>\n",
              "<tr>\n",
              "  <th>ma.L3</th>  <td>    0.0012</td> <td>    0.002</td> <td>    0.582</td> <td> 0.561</td> <td>   -0.003</td> <td>    0.005</td>\n",
              "</tr>\n",
              "<tr>\n",
              "  <th>sigma2</th> <td>  9.34e+11</td> <td> 1.23e-15</td> <td> 7.62e+26</td> <td> 0.000</td> <td> 9.34e+11</td> <td> 9.34e+11</td>\n",
              "</tr>\n",
              "</table>\n",
              "<table class=\"simpletable\">\n",
              "<tr>\n",
              "  <th>Ljung-Box (L1) (Q):</th>     <td>0.00</td> <th>  Jarque-Bera (JB):  </th> <td>75802585.49</td>\n",
              "</tr>\n",
              "<tr>\n",
              "  <th>Prob(Q):</th>                <td>0.96</td> <th>  Prob(JB):          </th>    <td>0.00</td>    \n",
              "</tr>\n",
              "<tr>\n",
              "  <th>Heteroskedasticity (H):</th> <td>0.02</td> <th>  Skew:              </th>    <td>-4.70</td>   \n",
              "</tr>\n",
              "<tr>\n",
              "  <th>Prob(H) (two-sided):</th>    <td>0.00</td> <th>  Kurtosis:          </th>   <td>193.65</td>   \n",
              "</tr>\n",
              "</table><br/><br/>Warnings:<br/>[1] Covariance matrix calculated using the outer product of gradients (complex-step).<br/>[2] Covariance matrix is singular or near-singular, with condition number 5.25e+42. Standard errors may be unstable."
            ],
            "text/plain": [
              "<class 'statsmodels.iolib.summary.Summary'>\n",
              "\"\"\"\n",
              "                               SARIMAX Results                                \n",
              "==============================================================================\n",
              "Dep. Variable:         vmMemoryDemand   No. Observations:                49933\n",
              "Model:                 ARIMA(1, 1, 3)   Log Likelihood             -758431.151\n",
              "Date:                Thu, 01 Jun 2023   AIC                        1516872.302\n",
              "Time:                        13:47:52   BIC                        1516916.394\n",
              "Sample:                             0   HQIC                       1516886.114\n",
              "                              - 49933                                         \n",
              "Covariance Type:                  opg                                         \n",
              "==============================================================================\n",
              "                 coef    std err          z      P>|z|      [0.025      0.975]\n",
              "------------------------------------------------------------------------------\n",
              "ar.L1          0.4917      0.005     92.114      0.000       0.481       0.502\n",
              "ma.L1         -0.9321      0.005   -173.176      0.000      -0.943      -0.922\n",
              "ma.L2          0.0322      0.002     13.089      0.000       0.027       0.037\n",
              "ma.L3          0.0012      0.002      0.582      0.561      -0.003       0.005\n",
              "sigma2       9.34e+11   1.23e-15   7.62e+26      0.000    9.34e+11    9.34e+11\n",
              "===================================================================================\n",
              "Ljung-Box (L1) (Q):                   0.00   Jarque-Bera (JB):          75802585.49\n",
              "Prob(Q):                              0.96   Prob(JB):                         0.00\n",
              "Heteroskedasticity (H):               0.02   Skew:                            -4.70\n",
              "Prob(H) (two-sided):                  0.00   Kurtosis:                       193.65\n",
              "===================================================================================\n",
              "\n",
              "Warnings:\n",
              "[1] Covariance matrix calculated using the outer product of gradients (complex-step).\n",
              "[2] Covariance matrix is singular or near-singular, with condition number 5.25e+42. Standard errors may be unstable.\n",
              "\"\"\""
            ]
          },
          "execution_count": 10,
          "metadata": {},
          "output_type": "execute_result"
        }
      ],
      "source": [
        "#ARIMA(1,1,3)\n",
        "\n",
        "model_ar_1_i_1_ma_3 = ARIMA(data.vmMemoryDemand, order=(1,1,3))\n",
        "results_ar_1_i_1_ma_3 = model_ar_1_i_1_ma_3.fit()\n",
        "results_ar_1_i_1_ma_3.summary()"
      ]
    },
    {
      "cell_type": "code",
      "execution_count": null,
      "id": "85919040",
      "metadata": {
        "id": "85919040",
        "outputId": "4996d777-909f-437b-bbf7-7dd406a389f9"
      },
      "outputs": [
        {
          "data": {
            "image/png": "[encoded data removed]",
            "text/plain": [
              "<Figure size 640x480 with 1 Axes>"
            ]
          },
          "metadata": {},
          "output_type": "display_data"
        }
      ],
      "source": [
        "#Residuals of ARIMA(1,1,3)\n",
        "\n",
        "data['res_ar_1_i_1_ma_3'] = results_ar_1_i_1_ma_3.resid\n",
        "sgt.plot_acf(data.res_ar_1_i_1_ma_3[1:], zero = False, lags = 40)\n",
        "plt.title(\"ACF of Residuals for ARIMA(1,1,3)\", size=10)\n",
        "plt.ylim(-0.10,0.10)\n",
        "plt.show()"
      ]
    },
    {
      "cell_type": "code",
      "execution_count": null,
      "id": "fe59c151",
      "metadata": {
        "id": "fe59c151",
        "outputId": "f4a94a77-e4fb-4831-ce42-5b74b86e13e4"
      },
      "outputs": [
        {
          "data": {
            "text/html": [
              "<table class=\"simpletable\">\n",
              "<caption>SARIMAX Results</caption>\n",
              "<tr>\n",
              "  <th>Dep. Variable:</th>    <td>vmMemoryDemand</td>  <th>  No. Observations:  </th>    <td>49933</td>   \n",
              "</tr>\n",
              "<tr>\n",
              "  <th>Model:</th>            <td>ARIMA(2, 1, 1)</td>  <th>  Log Likelihood     </th> <td>-758486.541</td>\n",
              "</tr>\n",
              "<tr>\n",
              "  <th>Date:</th>            <td>Thu, 01 Jun 2023</td> <th>  AIC                </th> <td>1516981.082</td>\n",
              "</tr>\n",
              "<tr>\n",
              "  <th>Time:</th>                <td>13:49:38</td>     <th>  BIC                </th> <td>1517016.356</td>\n",
              "</tr>\n",
              "<tr>\n",
              "  <th>Sample:</th>                  <td>0</td>        <th>  HQIC               </th> <td>1516992.132</td>\n",
              "</tr>\n",
              "<tr>\n",
              "  <th></th>                     <td> - 49933</td>     <th>                     </th>      <td> </td>     \n",
              "</tr>\n",
              "<tr>\n",
              "  <th>Covariance Type:</th>        <td>opg</td>       <th>                     </th>      <td> </td>     \n",
              "</tr>\n",
              "</table>\n",
              "<table class=\"simpletable\">\n",
              "<tr>\n",
              "     <td></td>       <th>coef</th>     <th>std err</th>      <th>z</th>      <th>P>|z|</th>  <th>[0.025</th>    <th>0.975]</th>  \n",
              "</tr>\n",
              "<tr>\n",
              "  <th>ar.L1</th>  <td>    0.4539</td> <td>    0.001</td> <td>  410.276</td> <td> 0.000</td> <td>    0.452</td> <td>    0.456</td>\n",
              "</tr>\n",
              "<tr>\n",
              "  <th>ar.L2</th>  <td>    0.0160</td> <td>    0.001</td> <td>   16.254</td> <td> 0.000</td> <td>    0.014</td> <td>    0.018</td>\n",
              "</tr>\n",
              "<tr>\n",
              "  <th>ma.L1</th>  <td>   -0.8942</td> <td>    0.001</td> <td>-1009.031</td> <td> 0.000</td> <td>   -0.896</td> <td>   -0.892</td>\n",
              "</tr>\n",
              "<tr>\n",
              "  <th>sigma2</th> <td> 9.806e+11</td> <td> 1.34e-16</td> <td> 7.33e+27</td> <td> 0.000</td> <td> 9.81e+11</td> <td> 9.81e+11</td>\n",
              "</tr>\n",
              "</table>\n",
              "<table class=\"simpletable\">\n",
              "<tr>\n",
              "  <th>Ljung-Box (L1) (Q):</th>     <td>0.00</td> <th>  Jarque-Bera (JB):  </th> <td>75805745.09</td>\n",
              "</tr>\n",
              "<tr>\n",
              "  <th>Prob(Q):</th>                <td>0.95</td> <th>  Prob(JB):          </th>    <td>0.00</td>    \n",
              "</tr>\n",
              "<tr>\n",
              "  <th>Heteroskedasticity (H):</th> <td>0.02</td> <th>  Skew:              </th>    <td>-4.70</td>   \n",
              "</tr>\n",
              "<tr>\n",
              "  <th>Prob(H) (two-sided):</th>    <td>0.00</td> <th>  Kurtosis:          </th>   <td>193.65</td>   \n",
              "</tr>\n",
              "</table><br/><br/>Warnings:<br/>[1] Covariance matrix calculated using the outer product of gradients (complex-step).<br/>[2] Covariance matrix is singular or near-singular, with condition number 1.5e+42. Standard errors may be unstable."
            ],
            "text/plain": [
              "<class 'statsmodels.iolib.summary.Summary'>\n",
              "\"\"\"\n",
              "                               SARIMAX Results                                \n",
              "==============================================================================\n",
              "Dep. Variable:         vmMemoryDemand   No. Observations:                49933\n",
              "Model:                 ARIMA(2, 1, 1)   Log Likelihood             -758486.541\n",
              "Date:                Thu, 01 Jun 2023   AIC                        1516981.082\n",
              "Time:                        13:49:38   BIC                        1517016.356\n",
              "Sample:                             0   HQIC                       1516992.132\n",
              "                              - 49933                                         \n",
              "Covariance Type:                  opg                                         \n",
              "==============================================================================\n",
              "                 coef    std err          z      P>|z|      [0.025      0.975]\n",
              "------------------------------------------------------------------------------\n",
              "ar.L1          0.4539      0.001    410.276      0.000       0.452       0.456\n",
              "ar.L2          0.0160      0.001     16.254      0.000       0.014       0.018\n",
              "ma.L1         -0.8942      0.001  -1009.031      0.000      -0.896      -0.892\n",
              "sigma2      9.806e+11   1.34e-16   7.33e+27      0.000    9.81e+11    9.81e+11\n",
              "===================================================================================\n",
              "Ljung-Box (L1) (Q):                   0.00   Jarque-Bera (JB):          75805745.09\n",
              "Prob(Q):                              0.95   Prob(JB):                         0.00\n",
              "Heteroskedasticity (H):               0.02   Skew:                            -4.70\n",
              "Prob(H) (two-sided):                  0.00   Kurtosis:                       193.65\n",
              "===================================================================================\n",
              "\n",
              "Warnings:\n",
              "[1] Covariance matrix calculated using the outer product of gradients (complex-step).\n",
              "[2] Covariance matrix is singular or near-singular, with condition number 1.5e+42. Standard errors may be unstable.\n",
              "\"\"\""
            ]
          },
          "execution_count": 12,
          "metadata": {},
          "output_type": "execute_result"
        }
      ],
      "source": [
        "#ARIMA(2,1,1)\n",
        "\n",
        "model_ar_2_i_1_ma_1 = ARIMA(data.vmMemoryDemand, order=(2,1,1))\n",
        "results_ar_2_i_1_ma_1 = model_ar_2_i_1_ma_1.fit()\n",
        "results_ar_2_i_1_ma_1.summary()"
      ]
    },
    {
      "cell_type": "code",
      "execution_count": null,
      "id": "6eaab862",
      "metadata": {
        "id": "6eaab862",
        "outputId": "4b1292ac-97a8-4142-b7da-631cc524ebe1"
      },
      "outputs": [
        {
          "data": {
            "image/png": "[encoded data removed]",
            "text/plain": [
              "<Figure size 640x480 with 1 Axes>"
            ]
          },
          "metadata": {},
          "output_type": "display_data"
        }
      ],
      "source": [
        "#Residuals of ARIMA(2,1,1)\n",
        "\n",
        "data['res_ar_2_i_1_ma_1'] = results_ar_2_i_1_ma_1.resid\n",
        "sgt.plot_acf(data.res_ar_2_i_1_ma_1[1:], zero = False, lags = 40)\n",
        "plt.title(\"ACF of Residuals for ARIMA(2,1,1)\", size=10)\n",
        "plt.ylim(-0.10,0.10)\n",
        "plt.show()"
      ]
    },
    {
      "cell_type": "code",
      "execution_count": null,
      "id": "55a8bc2b",
      "metadata": {
        "id": "55a8bc2b",
        "outputId": "c8247973-4ad8-496d-c7d2-f6e3ab22735d"
      },
      "outputs": [
        {
          "data": {
            "text/html": [
              "<table class=\"simpletable\">\n",
              "<caption>SARIMAX Results</caption>\n",
              "<tr>\n",
              "  <th>Dep. Variable:</th>    <td>vmMemoryDemand</td>  <th>  No. Observations:  </th>    <td>49933</td>   \n",
              "</tr>\n",
              "<tr>\n",
              "  <th>Model:</th>            <td>ARIMA(2, 1, 2)</td>  <th>  Log Likelihood     </th> <td>-758435.784</td>\n",
              "</tr>\n",
              "<tr>\n",
              "  <th>Date:</th>            <td>Thu, 01 Jun 2023</td> <th>  AIC                </th> <td>1516881.569</td>\n",
              "</tr>\n",
              "<tr>\n",
              "  <th>Time:</th>                <td>13:51:27</td>     <th>  BIC                </th> <td>1516925.661</td>\n",
              "</tr>\n",
              "<tr>\n",
              "  <th>Sample:</th>                  <td>0</td>        <th>  HQIC               </th> <td>1516895.381</td>\n",
              "</tr>\n",
              "<tr>\n",
              "  <th></th>                     <td> - 49933</td>     <th>                     </th>      <td> </td>     \n",
              "</tr>\n",
              "<tr>\n",
              "  <th>Covariance Type:</th>        <td>opg</td>       <th>                     </th>      <td> </td>     \n",
              "</tr>\n",
              "</table>\n",
              "<table class=\"simpletable\">\n",
              "<tr>\n",
              "     <td></td>       <th>coef</th>     <th>std err</th>      <th>z</th>      <th>P>|z|</th>  <th>[0.025</th>    <th>0.975]</th>  \n",
              "</tr>\n",
              "<tr>\n",
              "  <th>ar.L1</th>  <td>   -0.3696</td> <td>    0.024</td> <td>  -15.656</td> <td> 0.000</td> <td>   -0.416</td> <td>   -0.323</td>\n",
              "</tr>\n",
              "<tr>\n",
              "  <th>ar.L2</th>  <td>    0.3842</td> <td>    0.010</td> <td>   37.702</td> <td> 0.000</td> <td>    0.364</td> <td>    0.404</td>\n",
              "</tr>\n",
              "<tr>\n",
              "  <th>ma.L1</th>  <td>   -0.0684</td> <td>    0.024</td> <td>   -2.888</td> <td> 0.004</td> <td>   -0.115</td> <td>   -0.022</td>\n",
              "</tr>\n",
              "<tr>\n",
              "  <th>ma.L2</th>  <td>   -0.7327</td> <td>    0.021</td> <td>  -35.289</td> <td> 0.000</td> <td>   -0.773</td> <td>   -0.692</td>\n",
              "</tr>\n",
              "<tr>\n",
              "  <th>sigma2</th> <td> 9.417e+11</td> <td> 3.86e-15</td> <td> 2.44e+26</td> <td> 0.000</td> <td> 9.42e+11</td> <td> 9.42e+11</td>\n",
              "</tr>\n",
              "</table>\n",
              "<table class=\"simpletable\">\n",
              "<tr>\n",
              "  <th>Ljung-Box (L1) (Q):</th>     <td>0.31</td> <th>  Jarque-Bera (JB):  </th> <td>75842643.55</td>\n",
              "</tr>\n",
              "<tr>\n",
              "  <th>Prob(Q):</th>                <td>0.58</td> <th>  Prob(JB):          </th>    <td>0.00</td>    \n",
              "</tr>\n",
              "<tr>\n",
              "  <th>Heteroskedasticity (H):</th> <td>0.02</td> <th>  Skew:              </th>    <td>-4.70</td>   \n",
              "</tr>\n",
              "<tr>\n",
              "  <th>Prob(H) (two-sided):</th>    <td>0.00</td> <th>  Kurtosis:          </th>   <td>193.70</td>   \n",
              "</tr>\n",
              "</table><br/><br/>Warnings:<br/>[1] Covariance matrix calculated using the outer product of gradients (complex-step).<br/>[2] Covariance matrix is singular or near-singular, with condition number 2.67e+41. Standard errors may be unstable."
            ],
            "text/plain": [
              "<class 'statsmodels.iolib.summary.Summary'>\n",
              "\"\"\"\n",
              "                               SARIMAX Results                                \n",
              "==============================================================================\n",
              "Dep. Variable:         vmMemoryDemand   No. Observations:                49933\n",
              "Model:                 ARIMA(2, 1, 2)   Log Likelihood             -758435.784\n",
              "Date:                Thu, 01 Jun 2023   AIC                        1516881.569\n",
              "Time:                        13:51:27   BIC                        1516925.661\n",
              "Sample:                             0   HQIC                       1516895.381\n",
              "                              - 49933                                         \n",
              "Covariance Type:                  opg                                         \n",
              "==============================================================================\n",
              "                 coef    std err          z      P>|z|      [0.025      0.975]\n",
              "------------------------------------------------------------------------------\n",
              "ar.L1         -0.3696      0.024    -15.656      0.000      -0.416      -0.323\n",
              "ar.L2          0.3842      0.010     37.702      0.000       0.364       0.404\n",
              "ma.L1         -0.0684      0.024     -2.888      0.004      -0.115      -0.022\n",
              "ma.L2         -0.7327      0.021    -35.289      0.000      -0.773      -0.692\n",
              "sigma2      9.417e+11   3.86e-15   2.44e+26      0.000    9.42e+11    9.42e+11\n",
              "===================================================================================\n",
              "Ljung-Box (L1) (Q):                   0.31   Jarque-Bera (JB):          75842643.55\n",
              "Prob(Q):                              0.58   Prob(JB):                         0.00\n",
              "Heteroskedasticity (H):               0.02   Skew:                            -4.70\n",
              "Prob(H) (two-sided):                  0.00   Kurtosis:                       193.70\n",
              "===================================================================================\n",
              "\n",
              "Warnings:\n",
              "[1] Covariance matrix calculated using the outer product of gradients (complex-step).\n",
              "[2] Covariance matrix is singular or near-singular, with condition number 2.67e+41. Standard errors may be unstable.\n",
              "\"\"\""
            ]
          },
          "execution_count": 14,
          "metadata": {},
          "output_type": "execute_result"
        }
      ],
      "source": [
        "#ARIMA(2,1,2)\n",
        "\n",
        "model_ar_2_i_1_ma_2 = ARIMA(data.vmMemoryDemand, order=(2,1,2))\n",
        "results_ar_2_i_1_ma_2 = model_ar_2_i_1_ma_2.fit()\n",
        "results_ar_2_i_1_ma_2.summary()"
      ]
    },
    {
      "cell_type": "code",
      "execution_count": null,
      "id": "9cb4d846",
      "metadata": {
        "id": "9cb4d846",
        "outputId": "820ae515-3660-426d-f2fe-0d23fff39bb9"
      },
      "outputs": [
        {
          "data": {
            "image/png": "[encoded data removed]",
            "text/plain": [
              "<Figure size 640x480 with 1 Axes>"
            ]
          },
          "metadata": {},
          "output_type": "display_data"
        }
      ],
      "source": [
        "#Residuals of ARIMA(2,1,2)\n",
        "\n",
        "data['res_ar_2_i_1_ma_2'] = results_ar_2_i_1_ma_2.resid\n",
        "sgt.plot_acf(data.res_ar_2_i_1_ma_2[1:], zero = False, lags = 40)\n",
        "plt.title(\"ACF of Residuals for ARIMA(2,1,2)\", size=10)\n",
        "plt.ylim(-0.10,0.10)\n",
        "plt.show()"
      ]
    },
    {
      "cell_type": "code",
      "execution_count": null,
      "id": "7f37954b",
      "metadata": {
        "id": "7f37954b",
        "outputId": "9606ca1f-5b64-4556-982e-eb7841d94c6f"
      },
      "outputs": [
        {
          "data": {
            "text/html": [
              "<table class=\"simpletable\">\n",
              "<caption>SARIMAX Results</caption>\n",
              "<tr>\n",
              "  <th>Dep. Variable:</th>    <td>vmMemoryDemand</td>  <th>  No. Observations:  </th>    <td>49933</td>   \n",
              "</tr>\n",
              "<tr>\n",
              "  <th>Model:</th>            <td>ARIMA(2, 1, 3)</td>  <th>  Log Likelihood     </th> <td>-758427.862</td>\n",
              "</tr>\n",
              "<tr>\n",
              "  <th>Date:</th>            <td>Thu, 01 Jun 2023</td> <th>  AIC                </th> <td>1516867.724</td>\n",
              "</tr>\n",
              "<tr>\n",
              "  <th>Time:</th>                <td>13:51:46</td>     <th>  BIC                </th> <td>1516920.635</td>\n",
              "</tr>\n",
              "<tr>\n",
              "  <th>Sample:</th>                  <td>0</td>        <th>  HQIC               </th> <td>1516884.299</td>\n",
              "</tr>\n",
              "<tr>\n",
              "  <th></th>                     <td> - 49933</td>     <th>                     </th>      <td> </td>     \n",
              "</tr>\n",
              "<tr>\n",
              "  <th>Covariance Type:</th>        <td>opg</td>       <th>                     </th>      <td> </td>     \n",
              "</tr>\n",
              "</table>\n",
              "<table class=\"simpletable\">\n",
              "<tr>\n",
              "     <td></td>       <th>coef</th>     <th>std err</th>      <th>z</th>      <th>P>|z|</th>  <th>[0.025</th>    <th>0.975]</th>  \n",
              "</tr>\n",
              "<tr>\n",
              "  <th>ar.L1</th>  <td>   -0.3736</td> <td>    0.035</td> <td>  -10.538</td> <td> 0.000</td> <td>   -0.443</td> <td>   -0.304</td>\n",
              "</tr>\n",
              "<tr>\n",
              "  <th>ar.L2</th>  <td>    0.4107</td> <td>    0.018</td> <td>   22.257</td> <td> 0.000</td> <td>    0.375</td> <td>    0.447</td>\n",
              "</tr>\n",
              "<tr>\n",
              "  <th>ma.L1</th>  <td>   -0.0667</td> <td>    0.035</td> <td>   -1.881</td> <td> 0.060</td> <td>   -0.136</td> <td>    0.003</td>\n",
              "</tr>\n",
              "<tr>\n",
              "  <th>ma.L2</th>  <td>   -0.7573</td> <td>    0.034</td> <td>  -22.244</td> <td> 0.000</td> <td>   -0.824</td> <td>   -0.691</td>\n",
              "</tr>\n",
              "<tr>\n",
              "  <th>ma.L3</th>  <td>    0.0166</td> <td>    0.003</td> <td>    5.957</td> <td> 0.000</td> <td>    0.011</td> <td>    0.022</td>\n",
              "</tr>\n",
              "<tr>\n",
              "  <th>sigma2</th> <td> 9.314e+11</td> <td> 1.54e-13</td> <td> 6.03e+24</td> <td> 0.000</td> <td> 9.31e+11</td> <td> 9.31e+11</td>\n",
              "</tr>\n",
              "</table>\n",
              "<table class=\"simpletable\">\n",
              "<tr>\n",
              "  <th>Ljung-Box (L1) (Q):</th>     <td>0.00</td> <th>  Jarque-Bera (JB):  </th> <td>75808721.87</td>\n",
              "</tr>\n",
              "<tr>\n",
              "  <th>Prob(Q):</th>                <td>0.96</td> <th>  Prob(JB):          </th>    <td>0.00</td>    \n",
              "</tr>\n",
              "<tr>\n",
              "  <th>Heteroskedasticity (H):</th> <td>0.02</td> <th>  Skew:              </th>    <td>-4.69</td>   \n",
              "</tr>\n",
              "<tr>\n",
              "  <th>Prob(H) (two-sided):</th>    <td>0.00</td> <th>  Kurtosis:          </th>   <td>193.66</td>   \n",
              "</tr>\n",
              "</table><br/><br/>Warnings:<br/>[1] Covariance matrix calculated using the outer product of gradients (complex-step).<br/>[2] Covariance matrix is singular or near-singular, with condition number 1.29e+39. Standard errors may be unstable."
            ],
            "text/plain": [
              "<class 'statsmodels.iolib.summary.Summary'>\n",
              "\"\"\"\n",
              "                               SARIMAX Results                                \n",
              "==============================================================================\n",
              "Dep. Variable:         vmMemoryDemand   No. Observations:                49933\n",
              "Model:                 ARIMA(2, 1, 3)   Log Likelihood             -758427.862\n",
              "Date:                Thu, 01 Jun 2023   AIC                        1516867.724\n",
              "Time:                        13:51:46   BIC                        1516920.635\n",
              "Sample:                             0   HQIC                       1516884.299\n",
              "                              - 49933                                         \n",
              "Covariance Type:                  opg                                         \n",
              "==============================================================================\n",
              "                 coef    std err          z      P>|z|      [0.025      0.975]\n",
              "------------------------------------------------------------------------------\n",
              "ar.L1         -0.3736      0.035    -10.538      0.000      -0.443      -0.304\n",
              "ar.L2          0.4107      0.018     22.257      0.000       0.375       0.447\n",
              "ma.L1         -0.0667      0.035     -1.881      0.060      -0.136       0.003\n",
              "ma.L2         -0.7573      0.034    -22.244      0.000      -0.824      -0.691\n",
              "ma.L3          0.0166      0.003      5.957      0.000       0.011       0.022\n",
              "sigma2      9.314e+11   1.54e-13   6.03e+24      0.000    9.31e+11    9.31e+11\n",
              "===================================================================================\n",
              "Ljung-Box (L1) (Q):                   0.00   Jarque-Bera (JB):          75808721.87\n",
              "Prob(Q):                              0.96   Prob(JB):                         0.00\n",
              "Heteroskedasticity (H):               0.02   Skew:                            -4.69\n",
              "Prob(H) (two-sided):                  0.00   Kurtosis:                       193.66\n",
              "===================================================================================\n",
              "\n",
              "Warnings:\n",
              "[1] Covariance matrix calculated using the outer product of gradients (complex-step).\n",
              "[2] Covariance matrix is singular or near-singular, with condition number 1.29e+39. Standard errors may be unstable.\n",
              "\"\"\""
            ]
          },
          "execution_count": 16,
          "metadata": {},
          "output_type": "execute_result"
        }
      ],
      "source": [
        "#ARIMA(2,1,3)\n",
        "\n",
        "model_ar_2_i_1_ma_3 = ARIMA(data.vmMemoryDemand, order=(2,1,3))\n",
        "results_ar_2_i_1_ma_3 = model_ar_2_i_1_ma_3.fit()\n",
        "results_ar_2_i_1_ma_3.summary()"
      ]
    },
    {
      "cell_type": "code",
      "execution_count": null,
      "id": "3b0a2d74",
      "metadata": {
        "id": "3b0a2d74",
        "outputId": "47b4634e-52d8-4b5b-a7c6-4ada21d47d38"
      },
      "outputs": [
        {
          "data": {
            "image/png": "[encoded data removed]",
            "text/plain": [
              "<Figure size 640x480 with 1 Axes>"
            ]
          },
          "metadata": {},
          "output_type": "display_data"
        }
      ],
      "source": [
        "#Residuals of ARIMA(2,1,3)\n",
        "\n",
        "data['res_ar_2_i_1_ma_3'] = results_ar_2_i_1_ma_3.resid\n",
        "sgt.plot_acf(data.res_ar_2_i_1_ma_3[1:], zero = False, lags = 40)\n",
        "plt.title(\"ACF of Residuals for ARIMA(2,1,3)\", size=10)\n",
        "plt.ylim(-0.10,0.10)\n",
        "plt.show()"
      ]
    },
    {
      "cell_type": "code",
      "execution_count": null,
      "id": "d3605fc0",
      "metadata": {
        "id": "d3605fc0",
        "outputId": "59bc0384-4e4b-4ec2-b8f3-05b2f055eb95"
      },
      "outputs": [
        {
          "data": {
            "text/html": [
              "<table class=\"simpletable\">\n",
              "<caption>SARIMAX Results</caption>\n",
              "<tr>\n",
              "  <th>Dep. Variable:</th>    <td>vmMemoryDemand</td>  <th>  No. Observations:  </th>    <td>49933</td>   \n",
              "</tr>\n",
              "<tr>\n",
              "  <th>Model:</th>            <td>ARIMA(3, 1, 1)</td>  <th>  Log Likelihood     </th> <td>-758486.506</td>\n",
              "</tr>\n",
              "<tr>\n",
              "  <th>Date:</th>            <td>Thu, 01 Jun 2023</td> <th>  AIC                </th> <td>1516983.013</td>\n",
              "</tr>\n",
              "<tr>\n",
              "  <th>Time:</th>                <td>13:56:53</td>     <th>  BIC                </th> <td>1517027.105</td>\n",
              "</tr>\n",
              "<tr>\n",
              "  <th>Sample:</th>                  <td>0</td>        <th>  HQIC               </th> <td>1516996.825</td>\n",
              "</tr>\n",
              "<tr>\n",
              "  <th></th>                     <td> - 49933</td>     <th>                     </th>      <td> </td>     \n",
              "</tr>\n",
              "<tr>\n",
              "  <th>Covariance Type:</th>        <td>opg</td>       <th>                     </th>      <td> </td>     \n",
              "</tr>\n",
              "</table>\n",
              "<table class=\"simpletable\">\n",
              "<tr>\n",
              "     <td></td>       <th>coef</th>     <th>std err</th>      <th>z</th>      <th>P>|z|</th>  <th>[0.025</th>    <th>0.975]</th>  \n",
              "</tr>\n",
              "<tr>\n",
              "  <th>ar.L1</th>  <td>    0.4543</td> <td>    0.001</td> <td>  383.691</td> <td> 0.000</td> <td>    0.452</td> <td>    0.457</td>\n",
              "</tr>\n",
              "<tr>\n",
              "  <th>ar.L2</th>  <td>    0.0157</td> <td>    0.001</td> <td>   15.587</td> <td> 0.000</td> <td>    0.014</td> <td>    0.018</td>\n",
              "</tr>\n",
              "<tr>\n",
              "  <th>ar.L3</th>  <td>    0.0014</td> <td>    0.001</td> <td>    1.222</td> <td> 0.222</td> <td>   -0.001</td> <td>    0.004</td>\n",
              "</tr>\n",
              "<tr>\n",
              "  <th>ma.L1</th>  <td>   -0.8947</td> <td>    0.001</td> <td> -915.174</td> <td> 0.000</td> <td>   -0.897</td> <td>   -0.893</td>\n",
              "</tr>\n",
              "<tr>\n",
              "  <th>sigma2</th> <td> 9.806e+11</td> <td> 1.32e-16</td> <td> 7.44e+27</td> <td> 0.000</td> <td> 9.81e+11</td> <td> 9.81e+11</td>\n",
              "</tr>\n",
              "</table>\n",
              "<table class=\"simpletable\">\n",
              "<tr>\n",
              "  <th>Ljung-Box (L1) (Q):</th>     <td>0.00</td> <th>  Jarque-Bera (JB):  </th> <td>75805443.39</td>\n",
              "</tr>\n",
              "<tr>\n",
              "  <th>Prob(Q):</th>                <td>0.95</td> <th>  Prob(JB):          </th>    <td>0.00</td>    \n",
              "</tr>\n",
              "<tr>\n",
              "  <th>Heteroskedasticity (H):</th> <td>0.02</td> <th>  Skew:              </th>    <td>-4.70</td>   \n",
              "</tr>\n",
              "<tr>\n",
              "  <th>Prob(H) (two-sided):</th>    <td>0.00</td> <th>  Kurtosis:          </th>   <td>193.65</td>   \n",
              "</tr>\n",
              "</table><br/><br/>Warnings:<br/>[1] Covariance matrix calculated using the outer product of gradients (complex-step).<br/>[2] Covariance matrix is singular or near-singular, with condition number 1.87e+42. Standard errors may be unstable."
            ],
            "text/plain": [
              "<class 'statsmodels.iolib.summary.Summary'>\n",
              "\"\"\"\n",
              "                               SARIMAX Results                                \n",
              "==============================================================================\n",
              "Dep. Variable:         vmMemoryDemand   No. Observations:                49933\n",
              "Model:                 ARIMA(3, 1, 1)   Log Likelihood             -758486.506\n",
              "Date:                Thu, 01 Jun 2023   AIC                        1516983.013\n",
              "Time:                        13:56:53   BIC                        1517027.105\n",
              "Sample:                             0   HQIC                       1516996.825\n",
              "                              - 49933                                         \n",
              "Covariance Type:                  opg                                         \n",
              "==============================================================================\n",
              "                 coef    std err          z      P>|z|      [0.025      0.975]\n",
              "------------------------------------------------------------------------------\n",
              "ar.L1          0.4543      0.001    383.691      0.000       0.452       0.457\n",
              "ar.L2          0.0157      0.001     15.587      0.000       0.014       0.018\n",
              "ar.L3          0.0014      0.001      1.222      0.222      -0.001       0.004\n",
              "ma.L1         -0.8947      0.001   -915.174      0.000      -0.897      -0.893\n",
              "sigma2      9.806e+11   1.32e-16   7.44e+27      0.000    9.81e+11    9.81e+11\n",
              "===================================================================================\n",
              "Ljung-Box (L1) (Q):                   0.00   Jarque-Bera (JB):          75805443.39\n",
              "Prob(Q):                              0.95   Prob(JB):                         0.00\n",
              "Heteroskedasticity (H):               0.02   Skew:                            -4.70\n",
              "Prob(H) (two-sided):                  0.00   Kurtosis:                       193.65\n",
              "===================================================================================\n",
              "\n",
              "Warnings:\n",
              "[1] Covariance matrix calculated using the outer product of gradients (complex-step).\n",
              "[2] Covariance matrix is singular or near-singular, with condition number 1.87e+42. Standard errors may be unstable.\n",
              "\"\"\""
            ]
          },
          "execution_count": 18,
          "metadata": {},
          "output_type": "execute_result"
        }
      ],
      "source": [
        "#ARIMA(3,1,1)\n",
        "\n",
        "model_ar_3_i_1_ma_1 = ARIMA(data.vmMemoryDemand, order=(3,1,1))\n",
        "results_ar_3_i_1_ma_1 = model_ar_3_i_1_ma_1.fit()\n",
        "results_ar_3_i_1_ma_1.summary()"
      ]
    },
    {
      "cell_type": "code",
      "execution_count": null,
      "id": "f28e00ae",
      "metadata": {
        "id": "f28e00ae",
        "outputId": "a4b95498-b304-4a90-d3ed-3f00bbcdb23e"
      },
      "outputs": [
        {
          "data": {
            "image/png": "[encoded data removed]",
            "text/plain": [
              "<Figure size 640x480 with 1 Axes>"
            ]
          },
          "metadata": {},
          "output_type": "display_data"
        }
      ],
      "source": [
        "#Residuals of ARIMA(3,1,1)\n",
        "\n",
        "data['res_ar_3_i_1_ma_1'] = results_ar_3_i_1_ma_1.resid\n",
        "sgt.plot_acf(data.res_ar_3_i_1_ma_1[1:], zero = False, lags = 40)\n",
        "plt.title(\"ACF of Residuals for ARIMA(3,1,1)\", size=10)\n",
        "plt.ylim(-0.10,0.10)\n",
        "plt.show()"
      ]
    },
    {
      "cell_type": "code",
      "execution_count": null,
      "id": "796f08c2",
      "metadata": {
        "id": "796f08c2",
        "outputId": "78d93f07-2c34-4f19-e652-1f38b19453a8"
      },
      "outputs": [
        {
          "data": {
            "text/html": [
              "<table class=\"simpletable\">\n",
              "<caption>SARIMAX Results</caption>\n",
              "<tr>\n",
              "  <th>Dep. Variable:</th>    <td>vmMemoryDemand</td>  <th>  No. Observations:  </th>    <td>49933</td>   \n",
              "</tr>\n",
              "<tr>\n",
              "  <th>Model:</th>            <td>ARIMA(3, 1, 2)</td>  <th>  Log Likelihood     </th> <td>-758434.575</td>\n",
              "</tr>\n",
              "<tr>\n",
              "  <th>Date:</th>            <td>Thu, 01 Jun 2023</td> <th>  AIC                </th> <td>1516881.150</td>\n",
              "</tr>\n",
              "<tr>\n",
              "  <th>Time:</th>                <td>13:57:10</td>     <th>  BIC                </th> <td>1516934.060</td>\n",
              "</tr>\n",
              "<tr>\n",
              "  <th>Sample:</th>                  <td>0</td>        <th>  HQIC               </th> <td>1516897.725</td>\n",
              "</tr>\n",
              "<tr>\n",
              "  <th></th>                     <td> - 49933</td>     <th>                     </th>      <td> </td>     \n",
              "</tr>\n",
              "<tr>\n",
              "  <th>Covariance Type:</th>        <td>opg</td>       <th>                     </th>      <td> </td>     \n",
              "</tr>\n",
              "</table>\n",
              "<table class=\"simpletable\">\n",
              "<tr>\n",
              "     <td></td>       <th>coef</th>     <th>std err</th>      <th>z</th>      <th>P>|z|</th>  <th>[0.025</th>    <th>0.975]</th>  \n",
              "</tr>\n",
              "<tr>\n",
              "  <th>ar.L1</th>  <td>   -0.3419</td> <td>    0.049</td> <td>   -7.023</td> <td> 0.000</td> <td>   -0.437</td> <td>   -0.246</td>\n",
              "</tr>\n",
              "<tr>\n",
              "  <th>ar.L2</th>  <td>    0.3775</td> <td>    0.022</td> <td>   17.065</td> <td> 0.000</td> <td>    0.334</td> <td>    0.421</td>\n",
              "</tr>\n",
              "<tr>\n",
              "  <th>ar.L3</th>  <td>    0.0068</td> <td>    0.002</td> <td>    4.231</td> <td> 0.000</td> <td>    0.004</td> <td>    0.010</td>\n",
              "</tr>\n",
              "<tr>\n",
              "  <th>ma.L1</th>  <td>   -0.0983</td> <td>    0.049</td> <td>   -2.020</td> <td> 0.043</td> <td>   -0.194</td> <td>   -0.003</td>\n",
              "</tr>\n",
              "<tr>\n",
              "  <th>ma.L2</th>  <td>   -0.7100</td> <td>    0.044</td> <td>  -16.267</td> <td> 0.000</td> <td>   -0.796</td> <td>   -0.624</td>\n",
              "</tr>\n",
              "<tr>\n",
              "  <th>sigma2</th> <td> 9.414e+11</td> <td> 3.35e-13</td> <td> 2.81e+24</td> <td> 0.000</td> <td> 9.41e+11</td> <td> 9.41e+11</td>\n",
              "</tr>\n",
              "</table>\n",
              "<table class=\"simpletable\">\n",
              "<tr>\n",
              "  <th>Ljung-Box (L1) (Q):</th>     <td>0.01</td> <th>  Jarque-Bera (JB):  </th> <td>75817181.00</td>\n",
              "</tr>\n",
              "<tr>\n",
              "  <th>Prob(Q):</th>                <td>0.94</td> <th>  Prob(JB):          </th>    <td>0.00</td>    \n",
              "</tr>\n",
              "<tr>\n",
              "  <th>Heteroskedasticity (H):</th> <td>0.02</td> <th>  Skew:              </th>    <td>-4.69</td>   \n",
              "</tr>\n",
              "<tr>\n",
              "  <th>Prob(H) (two-sided):</th>    <td>0.00</td> <th>  Kurtosis:          </th>   <td>193.67</td>   \n",
              "</tr>\n",
              "</table><br/><br/>Warnings:<br/>[1] Covariance matrix calculated using the outer product of gradients (complex-step).<br/>[2] Covariance matrix is singular or near-singular, with condition number 3.22e+38. Standard errors may be unstable."
            ],
            "text/plain": [
              "<class 'statsmodels.iolib.summary.Summary'>\n",
              "\"\"\"\n",
              "                               SARIMAX Results                                \n",
              "==============================================================================\n",
              "Dep. Variable:         vmMemoryDemand   No. Observations:                49933\n",
              "Model:                 ARIMA(3, 1, 2)   Log Likelihood             -758434.575\n",
              "Date:                Thu, 01 Jun 2023   AIC                        1516881.150\n",
              "Time:                        13:57:10   BIC                        1516934.060\n",
              "Sample:                             0   HQIC                       1516897.725\n",
              "                              - 49933                                         \n",
              "Covariance Type:                  opg                                         \n",
              "==============================================================================\n",
              "                 coef    std err          z      P>|z|      [0.025      0.975]\n",
              "------------------------------------------------------------------------------\n",
              "ar.L1         -0.3419      0.049     -7.023      0.000      -0.437      -0.246\n",
              "ar.L2          0.3775      0.022     17.065      0.000       0.334       0.421\n",
              "ar.L3          0.0068      0.002      4.231      0.000       0.004       0.010\n",
              "ma.L1         -0.0983      0.049     -2.020      0.043      -0.194      -0.003\n",
              "ma.L2         -0.7100      0.044    -16.267      0.000      -0.796      -0.624\n",
              "sigma2      9.414e+11   3.35e-13   2.81e+24      0.000    9.41e+11    9.41e+11\n",
              "===================================================================================\n",
              "Ljung-Box (L1) (Q):                   0.01   Jarque-Bera (JB):          75817181.00\n",
              "Prob(Q):                              0.94   Prob(JB):                         0.00\n",
              "Heteroskedasticity (H):               0.02   Skew:                            -4.69\n",
              "Prob(H) (two-sided):                  0.00   Kurtosis:                       193.67\n",
              "===================================================================================\n",
              "\n",
              "Warnings:\n",
              "[1] Covariance matrix calculated using the outer product of gradients (complex-step).\n",
              "[2] Covariance matrix is singular or near-singular, with condition number 3.22e+38. Standard errors may be unstable.\n",
              "\"\"\""
            ]
          },
          "execution_count": 20,
          "metadata": {},
          "output_type": "execute_result"
        }
      ],
      "source": [
        "#ARIMA(3,1,2)\n",
        "\n",
        "model_ar_3_i_1_ma_2 = ARIMA(data.vmMemoryDemand, order=(3,1,2))\n",
        "results_ar_3_i_1_ma_2 = model_ar_3_i_1_ma_2.fit()\n",
        "results_ar_3_i_1_ma_2.summary()"
      ]
    },
    {
      "cell_type": "code",
      "execution_count": null,
      "id": "bd0d6789",
      "metadata": {
        "id": "bd0d6789",
        "outputId": "36aade27-b0c1-4742-92f6-1682879fbf22"
      },
      "outputs": [
        {
          "data": {
            "image/png": "[encoded data removed]",
            "text/plain": [
              "<Figure size 640x480 with 1 Axes>"
            ]
          },
          "metadata": {},
          "output_type": "display_data"
        }
      ],
      "source": [
        "#Residuals of ARIMA(3,1,2)\n",
        "\n",
        "data['res_ar_3_i_1_ma_2'] = results_ar_3_i_1_ma_2.resid\n",
        "sgt.plot_acf(data.res_ar_3_i_1_ma_2[1:], zero = False, lags = 40)\n",
        "plt.title(\"ACF of Residuals for ARIMA(3,1,2)\", size=10)\n",
        "plt.ylim(-0.10,0.10)\n",
        "plt.show()"
      ]
    },
    {
      "cell_type": "code",
      "execution_count": null,
      "id": "eab5540b",
      "metadata": {
        "id": "eab5540b",
        "outputId": "9d81d57d-26e6-4924-8ae3-19810cc4c573"
      },
      "outputs": [
        {
          "data": {
            "text/html": [
              "<table class=\"simpletable\">\n",
              "<caption>SARIMAX Results</caption>\n",
              "<tr>\n",
              "  <th>Dep. Variable:</th>    <td>vmMemoryDemand</td>  <th>  No. Observations:  </th>    <td>49933</td>   \n",
              "</tr>\n",
              "<tr>\n",
              "  <th>Model:</th>            <td>ARIMA(3, 1, 3)</td>  <th>  Log Likelihood     </th> <td>-758404.606</td>\n",
              "</tr>\n",
              "<tr>\n",
              "  <th>Date:</th>            <td>Thu, 01 Jun 2023</td> <th>  AIC                </th> <td>1516823.211</td>\n",
              "</tr>\n",
              "<tr>\n",
              "  <th>Time:</th>                <td>13:58:00</td>     <th>  BIC                </th> <td>1516884.940</td>\n",
              "</tr>\n",
              "<tr>\n",
              "  <th>Sample:</th>                  <td>0</td>        <th>  HQIC               </th> <td>1516842.549</td>\n",
              "</tr>\n",
              "<tr>\n",
              "  <th></th>                     <td> - 49933</td>     <th>                     </th>      <td> </td>     \n",
              "</tr>\n",
              "<tr>\n",
              "  <th>Covariance Type:</th>        <td>opg</td>       <th>                     </th>      <td> </td>     \n",
              "</tr>\n",
              "</table>\n",
              "<table class=\"simpletable\">\n",
              "<tr>\n",
              "     <td></td>       <th>coef</th>     <th>std err</th>      <th>z</th>      <th>P>|z|</th>  <th>[0.025</th>    <th>0.975]</th>  \n",
              "</tr>\n",
              "<tr>\n",
              "  <th>ar.L1</th>  <td>   -0.7588</td> <td>    0.006</td> <td> -131.676</td> <td> 0.000</td> <td>   -0.770</td> <td>   -0.748</td>\n",
              "</tr>\n",
              "<tr>\n",
              "  <th>ar.L2</th>  <td>   -0.4039</td> <td>    0.004</td> <td>  -98.195</td> <td> 0.000</td> <td>   -0.412</td> <td>   -0.396</td>\n",
              "</tr>\n",
              "<tr>\n",
              "  <th>ar.L3</th>  <td>    0.4367</td> <td>    0.003</td> <td>  158.840</td> <td> 0.000</td> <td>    0.431</td> <td>    0.442</td>\n",
              "</tr>\n",
              "<tr>\n",
              "  <th>ma.L1</th>  <td>    0.3277</td> <td>    0.006</td> <td>   56.417</td> <td> 0.000</td> <td>    0.316</td> <td>    0.339</td>\n",
              "</tr>\n",
              "<tr>\n",
              "  <th>ma.L2</th>  <td>   -0.1314</td> <td>    0.004</td> <td>  -30.196</td> <td> 0.000</td> <td>   -0.140</td> <td>   -0.123</td>\n",
              "</tr>\n",
              "<tr>\n",
              "  <th>ma.L3</th>  <td>   -0.8470</td> <td>    0.005</td> <td> -165.674</td> <td> 0.000</td> <td>   -0.857</td> <td>   -0.837</td>\n",
              "</tr>\n",
              "<tr>\n",
              "  <th>sigma2</th> <td> 9.289e+11</td> <td> 1.62e-14</td> <td> 5.72e+25</td> <td> 0.000</td> <td> 9.29e+11</td> <td> 9.29e+11</td>\n",
              "</tr>\n",
              "</table>\n",
              "<table class=\"simpletable\">\n",
              "<tr>\n",
              "  <th>Ljung-Box (L1) (Q):</th>     <td>3.88</td> <th>  Jarque-Bera (JB):  </th> <td>75321835.02</td>\n",
              "</tr>\n",
              "<tr>\n",
              "  <th>Prob(Q):</th>                <td>0.05</td> <th>  Prob(JB):          </th>    <td>0.00</td>    \n",
              "</tr>\n",
              "<tr>\n",
              "  <th>Heteroskedasticity (H):</th> <td>0.02</td> <th>  Skew:              </th>    <td>-4.73</td>   \n",
              "</tr>\n",
              "<tr>\n",
              "  <th>Prob(H) (two-sided):</th>    <td>0.00</td> <th>  Kurtosis:          </th>   <td>193.04</td>   \n",
              "</tr>\n",
              "</table><br/><br/>Warnings:<br/>[1] Covariance matrix calculated using the outer product of gradients (complex-step).<br/>[2] Covariance matrix is singular or near-singular, with condition number 9.54e+39. Standard errors may be unstable."
            ],
            "text/plain": [
              "<class 'statsmodels.iolib.summary.Summary'>\n",
              "\"\"\"\n",
              "                               SARIMAX Results                                \n",
              "==============================================================================\n",
              "Dep. Variable:         vmMemoryDemand   No. Observations:                49933\n",
              "Model:                 ARIMA(3, 1, 3)   Log Likelihood             -758404.606\n",
              "Date:                Thu, 01 Jun 2023   AIC                        1516823.211\n",
              "Time:                        13:58:00   BIC                        1516884.940\n",
              "Sample:                             0   HQIC                       1516842.549\n",
              "                              - 49933                                         \n",
              "Covariance Type:                  opg                                         \n",
              "==============================================================================\n",
              "                 coef    std err          z      P>|z|      [0.025      0.975]\n",
              "------------------------------------------------------------------------------\n",
              "ar.L1         -0.7588      0.006   -131.676      0.000      -0.770      -0.748\n",
              "ar.L2         -0.4039      0.004    -98.195      0.000      -0.412      -0.396\n",
              "ar.L3          0.4367      0.003    158.840      0.000       0.431       0.442\n",
              "ma.L1          0.3277      0.006     56.417      0.000       0.316       0.339\n",
              "ma.L2         -0.1314      0.004    -30.196      0.000      -0.140      -0.123\n",
              "ma.L3         -0.8470      0.005   -165.674      0.000      -0.857      -0.837\n",
              "sigma2      9.289e+11   1.62e-14   5.72e+25      0.000    9.29e+11    9.29e+11\n",
              "===================================================================================\n",
              "Ljung-Box (L1) (Q):                   3.88   Jarque-Bera (JB):          75321835.02\n",
              "Prob(Q):                              0.05   Prob(JB):                         0.00\n",
              "Heteroskedasticity (H):               0.02   Skew:                            -4.73\n",
              "Prob(H) (two-sided):                  0.00   Kurtosis:                       193.04\n",
              "===================================================================================\n",
              "\n",
              "Warnings:\n",
              "[1] Covariance matrix calculated using the outer product of gradients (complex-step).\n",
              "[2] Covariance matrix is singular or near-singular, with condition number 9.54e+39. Standard errors may be unstable.\n",
              "\"\"\""
            ]
          },
          "execution_count": 22,
          "metadata": {},
          "output_type": "execute_result"
        }
      ],
      "source": [
        "#ARIMA(3,1,3)\n",
        "\n",
        "model_ar_3_i_1_ma_3 = ARIMA(data.vmMemoryDemand, order=(3,1,3))\n",
        "results_ar_3_i_1_ma_3 = model_ar_3_i_1_ma_3.fit()\n",
        "results_ar_3_i_1_ma_3.summary()"
      ]
    },
    {
      "cell_type": "code",
      "execution_count": null,
      "id": "6c8897bd",
      "metadata": {
        "id": "6c8897bd",
        "outputId": "2c224d65-d13d-4efe-ed11-81eea07a3c45"
      },
      "outputs": [
        {
          "data": {
            "image/png": "[encoded data removed]",
            "text/plain": [
              "<Figure size 640x480 with 1 Axes>"
            ]
          },
          "metadata": {},
          "output_type": "display_data"
        }
      ],
      "source": [
        "#Residuals of ARIMA(3,1,3)\n",
        "\n",
        "data['res_ar_3_i_1_ma_3'] = results_ar_3_i_1_ma_3.resid\n",
        "sgt.plot_acf(data.res_ar_3_i_1_ma_3[1:], zero = False, lags = 40)\n",
        "plt.title(\"ACF of Residuals for ARIMA(3,1,3)\", size=10)\n",
        "plt.ylim(-0.10,0.10)\n",
        "plt.show()"
      ]
    },
    {
      "cell_type": "code",
      "execution_count": null,
      "id": "7384305e",
      "metadata": {
        "id": "7384305e",
        "outputId": "10fe78b8-ed7c-43de-a63e-f076bad0696d"
      },
      "outputs": [
        {
          "data": {
            "text/html": [
              "<table class=\"simpletable\">\n",
              "<caption>SARIMAX Results</caption>\n",
              "<tr>\n",
              "  <th>Dep. Variable:</th>    <td>vmMemoryDemand</td>  <th>  No. Observations:  </th>    <td>49933</td>   \n",
              "</tr>\n",
              "<tr>\n",
              "  <th>Model:</th>            <td>ARIMA(3, 2, 3)</td>  <th>  Log Likelihood     </th> <td>-759022.810</td>\n",
              "</tr>\n",
              "<tr>\n",
              "  <th>Date:</th>            <td>Thu, 01 Jun 2023</td> <th>  AIC                </th> <td>1518059.621</td>\n",
              "</tr>\n",
              "<tr>\n",
              "  <th>Time:</th>                <td>14:00:52</td>     <th>  BIC                </th> <td>1518121.350</td>\n",
              "</tr>\n",
              "<tr>\n",
              "  <th>Sample:</th>                  <td>0</td>        <th>  HQIC               </th> <td>1518078.958</td>\n",
              "</tr>\n",
              "<tr>\n",
              "  <th></th>                     <td> - 49933</td>     <th>                     </th>      <td> </td>     \n",
              "</tr>\n",
              "<tr>\n",
              "  <th>Covariance Type:</th>        <td>opg</td>       <th>                     </th>      <td> </td>     \n",
              "</tr>\n",
              "</table>\n",
              "<table class=\"simpletable\">\n",
              "<tr>\n",
              "     <td></td>       <th>coef</th>     <th>std err</th>      <th>z</th>      <th>P>|z|</th>  <th>[0.025</th>    <th>0.975]</th>  \n",
              "</tr>\n",
              "<tr>\n",
              "  <th>ar.L1</th>  <td>   -0.5444</td> <td>    0.001</td> <td> -419.564</td> <td> 0.000</td> <td>   -0.547</td> <td>   -0.542</td>\n",
              "</tr>\n",
              "<tr>\n",
              "  <th>ar.L2</th>  <td>    0.4690</td> <td>    0.002</td> <td>  246.910</td> <td> 0.000</td> <td>    0.465</td> <td>    0.473</td>\n",
              "</tr>\n",
              "<tr>\n",
              "  <th>ar.L3</th>  <td>    0.0137</td> <td>    0.001</td> <td>   12.000</td> <td> 0.000</td> <td>    0.011</td> <td>    0.016</td>\n",
              "</tr>\n",
              "<tr>\n",
              "  <th>ma.L1</th>  <td>   -0.8934</td> <td>    0.001</td> <td> -707.858</td> <td> 0.000</td> <td>   -0.896</td> <td>   -0.891</td>\n",
              "</tr>\n",
              "<tr>\n",
              "  <th>ma.L2</th>  <td>   -0.9999</td> <td>    0.000</td> <td>-3271.765</td> <td> 0.000</td> <td>   -1.000</td> <td>   -0.999</td>\n",
              "</tr>\n",
              "<tr>\n",
              "  <th>ma.L3</th>  <td>    0.8933</td> <td>    0.001</td> <td>  736.505</td> <td> 0.000</td> <td>    0.891</td> <td>    0.896</td>\n",
              "</tr>\n",
              "<tr>\n",
              "  <th>sigma2</th> <td> 1.136e+12</td> <td> 2.01e-15</td> <td> 5.65e+26</td> <td> 0.000</td> <td> 1.14e+12</td> <td> 1.14e+12</td>\n",
              "</tr>\n",
              "</table>\n",
              "<table class=\"simpletable\">\n",
              "<tr>\n",
              "  <th>Ljung-Box (L1) (Q):</th>     <td>0.01</td> <th>  Jarque-Bera (JB):  </th> <td>75165216.85</td>\n",
              "</tr>\n",
              "<tr>\n",
              "  <th>Prob(Q):</th>                <td>0.92</td> <th>  Prob(JB):          </th>    <td>0.00</td>    \n",
              "</tr>\n",
              "<tr>\n",
              "  <th>Heteroskedasticity (H):</th> <td>0.02</td> <th>  Skew:              </th>    <td>-4.67</td>   \n",
              "</tr>\n",
              "<tr>\n",
              "  <th>Prob(H) (two-sided):</th>    <td>0.00</td> <th>  Kurtosis:          </th>   <td>192.85</td>   \n",
              "</tr>\n",
              "</table><br/><br/>Warnings:<br/>[1] Covariance matrix calculated using the outer product of gradients (complex-step).<br/>[2] Covariance matrix is singular or near-singular, with condition number 1.1e+40. Standard errors may be unstable."
            ],
            "text/plain": [
              "<class 'statsmodels.iolib.summary.Summary'>\n",
              "\"\"\"\n",
              "                               SARIMAX Results                                \n",
              "==============================================================================\n",
              "Dep. Variable:         vmMemoryDemand   No. Observations:                49933\n",
              "Model:                 ARIMA(3, 2, 3)   Log Likelihood             -759022.810\n",
              "Date:                Thu, 01 Jun 2023   AIC                        1518059.621\n",
              "Time:                        14:00:52   BIC                        1518121.350\n",
              "Sample:                             0   HQIC                       1518078.958\n",
              "                              - 49933                                         \n",
              "Covariance Type:                  opg                                         \n",
              "==============================================================================\n",
              "                 coef    std err          z      P>|z|      [0.025      0.975]\n",
              "------------------------------------------------------------------------------\n",
              "ar.L1         -0.5444      0.001   -419.564      0.000      -0.547      -0.542\n",
              "ar.L2          0.4690      0.002    246.910      0.000       0.465       0.473\n",
              "ar.L3          0.0137      0.001     12.000      0.000       0.011       0.016\n",
              "ma.L1         -0.8934      0.001   -707.858      0.000      -0.896      -0.891\n",
              "ma.L2         -0.9999      0.000  -3271.765      0.000      -1.000      -0.999\n",
              "ma.L3          0.8933      0.001    736.505      0.000       0.891       0.896\n",
              "sigma2      1.136e+12   2.01e-15   5.65e+26      0.000    1.14e+12    1.14e+12\n",
              "===================================================================================\n",
              "Ljung-Box (L1) (Q):                   0.01   Jarque-Bera (JB):          75165216.85\n",
              "Prob(Q):                              0.92   Prob(JB):                         0.00\n",
              "Heteroskedasticity (H):               0.02   Skew:                            -4.67\n",
              "Prob(H) (two-sided):                  0.00   Kurtosis:                       192.85\n",
              "===================================================================================\n",
              "\n",
              "Warnings:\n",
              "[1] Covariance matrix calculated using the outer product of gradients (complex-step).\n",
              "[2] Covariance matrix is singular or near-singular, with condition number 1.1e+40. Standard errors may be unstable.\n",
              "\"\"\""
            ]
          },
          "execution_count": 24,
          "metadata": {},
          "output_type": "execute_result"
        }
      ],
      "source": [
        "#ARIMA(3,2,3)\n",
        "\n",
        "model_ar_3_i_2_ma_3 = ARIMA(data.vmMemoryDemand, order=(3,2,3))\n",
        "results_ar_3_i_2_ma_3 = model_ar_3_i_2_ma_3.fit()\n",
        "results_ar_3_i_2_ma_3.summary()"
      ]
    },
    {
      "cell_type": "code",
      "execution_count": null,
      "id": "4357ead6",
      "metadata": {
        "id": "4357ead6",
        "outputId": "6d4635d8-8d64-495b-8957-8b7817212017"
      },
      "outputs": [
        {
          "data": {
            "image/png": "[encoded data removed]",
            "text/plain": [
              "<Figure size 640x480 with 1 Axes>"
            ]
          },
          "metadata": {},
          "output_type": "display_data"
        }
      ],
      "source": [
        "#Residuals of ARIMA(3,2,3)\n",
        "\n",
        "data['res_ar_3_i_2_ma_3'] = results_ar_3_i_2_ma_3.resid\n",
        "sgt.plot_acf(data.res_ar_3_i_2_ma_3[1:], zero = False, lags = 40)\n",
        "plt.title(\"ACF of Residuals for ARIMA(3,2,3)\", size=10)\n",
        "plt.ylim(-0.10,0.10)\n",
        "plt.show()"
      ]
    },
    {
      "cell_type": "code",
      "execution_count": null,
      "id": "974876af",
      "metadata": {
        "id": "974876af",
        "outputId": "2c10a2fc-0cfa-47e2-b7f3-47c77ca2ea4c"
      },
      "outputs": [
        {
          "data": {
            "text/html": [
              "<table class=\"simpletable\">\n",
              "<caption>SARIMAX Results</caption>\n",
              "<tr>\n",
              "  <th>Dep. Variable:</th>    <td>vmMemoryDemand</td>  <th>  No. Observations:  </th>    <td>49933</td>   \n",
              "</tr>\n",
              "<tr>\n",
              "  <th>Model:</th>            <td>ARIMA(3, 3, 3)</td>  <th>  Log Likelihood     </th> <td>-763455.068</td>\n",
              "</tr>\n",
              "<tr>\n",
              "  <th>Date:</th>            <td>Thu, 01 Jun 2023</td> <th>  AIC                </th> <td>1526924.136</td>\n",
              "</tr>\n",
              "<tr>\n",
              "  <th>Time:</th>                <td>14:01:52</td>     <th>  BIC                </th> <td>1526985.865</td>\n",
              "</tr>\n",
              "<tr>\n",
              "  <th>Sample:</th>                  <td>0</td>        <th>  HQIC               </th> <td>1526943.474</td>\n",
              "</tr>\n",
              "<tr>\n",
              "  <th></th>                     <td> - 49933</td>     <th>                     </th>      <td> </td>     \n",
              "</tr>\n",
              "<tr>\n",
              "  <th>Covariance Type:</th>        <td>opg</td>       <th>                     </th>      <td> </td>     \n",
              "</tr>\n",
              "</table>\n",
              "<table class=\"simpletable\">\n",
              "<tr>\n",
              "     <td></td>       <th>coef</th>     <th>std err</th>      <th>z</th>      <th>P>|z|</th>  <th>[0.025</th>    <th>0.975]</th>  \n",
              "</tr>\n",
              "<tr>\n",
              "  <th>ar.L1</th>  <td>   -1.3188</td> <td>    0.001</td> <td>-1302.740</td> <td> 0.000</td> <td>   -1.321</td> <td>   -1.317</td>\n",
              "</tr>\n",
              "<tr>\n",
              "  <th>ar.L2</th>  <td>   -0.5319</td> <td>    0.002</td> <td> -313.422</td> <td> 0.000</td> <td>   -0.535</td> <td>   -0.529</td>\n",
              "</tr>\n",
              "<tr>\n",
              "  <th>ar.L3</th>  <td>   -0.2131</td> <td>    0.001</td> <td> -173.260</td> <td> 0.000</td> <td>   -0.216</td> <td>   -0.211</td>\n",
              "</tr>\n",
              "<tr>\n",
              "  <th>ma.L1</th>  <td>   -0.9997</td> <td>    0.001</td> <td>-1844.895</td> <td> 0.000</td> <td>   -1.001</td> <td>   -0.999</td>\n",
              "</tr>\n",
              "<tr>\n",
              "  <th>ma.L2</th>  <td>   -1.0000</td> <td>    0.001</td> <td> -994.121</td> <td> 0.000</td> <td>   -1.002</td> <td>   -0.998</td>\n",
              "</tr>\n",
              "<tr>\n",
              "  <th>ma.L3</th>  <td>    0.9997</td> <td>    0.001</td> <td> 1956.025</td> <td> 0.000</td> <td>    0.999</td> <td>    1.001</td>\n",
              "</tr>\n",
              "<tr>\n",
              "  <th>sigma2</th> <td> 1.647e+12</td> <td>  7.3e-16</td> <td> 2.26e+27</td> <td> 0.000</td> <td> 1.65e+12</td> <td> 1.65e+12</td>\n",
              "</tr>\n",
              "</table>\n",
              "<table class=\"simpletable\">\n",
              "<tr>\n",
              "  <th>Ljung-Box (L1) (Q):</th>     <td>79.08</td> <th>  Jarque-Bera (JB):  </th> <td>81302639.16</td>\n",
              "</tr>\n",
              "<tr>\n",
              "  <th>Prob(Q):</th>                <td>0.00</td>  <th>  Prob(JB):          </th>    <td>0.00</td>    \n",
              "</tr>\n",
              "<tr>\n",
              "  <th>Heteroskedasticity (H):</th> <td>0.02</td>  <th>  Skew:              </th>    <td>-2.26</td>   \n",
              "</tr>\n",
              "<tr>\n",
              "  <th>Prob(H) (two-sided):</th>    <td>0.00</td>  <th>  Kurtosis:          </th>   <td>200.64</td>   \n",
              "</tr>\n",
              "</table><br/><br/>Warnings:<br/>[1] Covariance matrix calculated using the outer product of gradients (complex-step).<br/>[2] Covariance matrix is singular or near-singular, with condition number 7.88e+40. Standard errors may be unstable."
            ],
            "text/plain": [
              "<class 'statsmodels.iolib.summary.Summary'>\n",
              "\"\"\"\n",
              "                               SARIMAX Results                                \n",
              "==============================================================================\n",
              "Dep. Variable:         vmMemoryDemand   No. Observations:                49933\n",
              "Model:                 ARIMA(3, 3, 3)   Log Likelihood             -763455.068\n",
              "Date:                Thu, 01 Jun 2023   AIC                        1526924.136\n",
              "Time:                        14:01:52   BIC                        1526985.865\n",
              "Sample:                             0   HQIC                       1526943.474\n",
              "                              - 49933                                         \n",
              "Covariance Type:                  opg                                         \n",
              "==============================================================================\n",
              "                 coef    std err          z      P>|z|      [0.025      0.975]\n",
              "------------------------------------------------------------------------------\n",
              "ar.L1         -1.3188      0.001  -1302.740      0.000      -1.321      -1.317\n",
              "ar.L2         -0.5319      0.002   -313.422      0.000      -0.535      -0.529\n",
              "ar.L3         -0.2131      0.001   -173.260      0.000      -0.216      -0.211\n",
              "ma.L1         -0.9997      0.001  -1844.895      0.000      -1.001      -0.999\n",
              "ma.L2         -1.0000      0.001   -994.121      0.000      -1.002      -0.998\n",
              "ma.L3          0.9997      0.001   1956.025      0.000       0.999       1.001\n",
              "sigma2      1.647e+12    7.3e-16   2.26e+27      0.000    1.65e+12    1.65e+12\n",
              "===================================================================================\n",
              "Ljung-Box (L1) (Q):                  79.08   Jarque-Bera (JB):          81302639.16\n",
              "Prob(Q):                              0.00   Prob(JB):                         0.00\n",
              "Heteroskedasticity (H):               0.02   Skew:                            -2.26\n",
              "Prob(H) (two-sided):                  0.00   Kurtosis:                       200.64\n",
              "===================================================================================\n",
              "\n",
              "Warnings:\n",
              "[1] Covariance matrix calculated using the outer product of gradients (complex-step).\n",
              "[2] Covariance matrix is singular or near-singular, with condition number 7.88e+40. Standard errors may be unstable.\n",
              "\"\"\""
            ]
          },
          "execution_count": 26,
          "metadata": {},
          "output_type": "execute_result"
        }
      ],
      "source": [
        "#ARIMA(3,3,3)\n",
        "\n",
        "model_ar_3_i_3_ma_3 = ARIMA(data.vmMemoryDemand, order=(3,3,3))\n",
        "results_ar_3_i_3_ma_3 = model_ar_3_i_3_ma_3.fit()\n",
        "results_ar_3_i_3_ma_3.summary()"
      ]
    },
    {
      "cell_type": "code",
      "execution_count": null,
      "id": "9a24b5af",
      "metadata": {
        "id": "9a24b5af",
        "outputId": "88fdd929-bd9e-4eab-ae99-2ca7de1cd62b"
      },
      "outputs": [
        {
          "data": {
            "image/png": "[encoded data removed]",
            "text/plain": [
              "<Figure size 640x480 with 1 Axes>"
            ]
          },
          "metadata": {},
          "output_type": "display_data"
        }
      ],
      "source": [
        "#Residuals of ARIMA(3,3,3)\n",
        "\n",
        "data['res_ar_3_i_3_ma_3'] = results_ar_3_i_3_ma_3.resid\n",
        "sgt.plot_acf(data.res_ar_3_i_3_ma_3[1:], zero = False, lags = 40)\n",
        "plt.title(\"ACF of Residuals for ARIMA(3,3,3)\", size=10)\n",
        "plt.ylim(-0.10,0.10)\n",
        "plt.show()"
      ]
    },
    {
      "cell_type": "code",
      "execution_count": null,
      "id": "25ea4de2",
      "metadata": {
        "id": "25ea4de2"
      },
      "outputs": [],
      "source": []
    },
    {
      "cell_type": "code",
      "execution_count": null,
      "id": "bf6fa12f",
      "metadata": {
        "id": "bf6fa12f"
      },
      "outputs": [],
      "source": [
        "#Higher Lag ARIMA Models"
      ]
    },
    {
      "cell_type": "code",
      "execution_count": null,
      "id": "0e934cc7",
      "metadata": {
        "id": "0e934cc7"
      },
      "outputs": [],
      "source": [
        "model_ar_1_i_1_ma_1 = ARIMA(data.vmMemoryDemand, order=(1,1,1))\n",
        "results_ar_1_i_1_ma_1 = model_ar_1_i_1_ma_1.fit()\n",
        "model_ar_1_i_1_ma_2 = ARIMA(data.vmMemoryDemand, order=(1,1,2))\n",
        "results_ar_1_i_1_ma_2 = model_ar_1_i_1_ma_2.fit()\n",
        "model_ar_1_i_1_ma_3 = ARIMA(data.vmMemoryDemand, order=(1,1,3))\n",
        "results_ar_1_i_1_ma_3 = model_ar_1_i_1_ma_3.fit()\n",
        "model_ar_2_i_1_ma_1 = ARIMA(data.vmMemoryDemand, order=(2,1,1))\n",
        "results_ar_2_i_1_ma_1 = model_ar_2_i_1_ma_1.fit()\n",
        "model_ar_2_i_1_ma_2 = ARIMA(data.vmMemoryDemand, order=(2,1,2))\n",
        "results_ar_2_i_1_ma_2 = model_ar_2_i_1_ma_2.fit()\n",
        "model_ar_2_i_1_ma_3 = ARIMA(data.vmMemoryDemand, order=(2,1,3))\n",
        "results_ar_2_i_1_ma_3 = model_ar_2_i_1_ma_3.fit()\n",
        "\n",
        "model_ar_2_i_2_ma_3 = ARIMA(data.vmMemoryDemand, order=(2,2,3))\n",
        "results_ar_2_i_2_ma_3 = model_ar_2_i_2_ma_3.fit()\n",
        "model_ar_2_i_3_ma_3 = ARIMA(data.vmMemoryDemand, order=(2,3,3))\n",
        "results_ar_2_i_3_ma_3 = model_ar_2_i_3_ma_3.fit()\n",
        "\n",
        "model_ar_3_i_1_ma_1 = ARIMA(data.vmMemoryDemand, order=(3,1,1))\n",
        "results_ar_3_i_1_ma_1 = model_ar_3_i_1_ma_1.fit()\n",
        "model_ar_3_i_1_ma_2 = ARIMA(data.vmMemoryDemand, order=(3,1,2))\n",
        "results_ar_3_i_1_ma_2 = model_ar_3_i_1_ma_2.fit()\n",
        "model_ar_3_i_1_ma_3 = ARIMA(data.vmMemoryDemand, order=(3,1,3))\n",
        "results_ar_3_i_1_ma_3 = model_ar_3_i_1_ma_3.fit()\n",
        "model_ar_3_i_2_ma_3 = ARIMA(data.vmMemoryDemand, order=(3,2,3))\n",
        "results_ar_3_i_2_ma_3 = model_ar_3_i_2_ma_3.fit()\n",
        "model_ar_3_i_3_ma_3 = ARIMA(data.vmMemoryDemand, order=(3,3,3))\n",
        "results_ar_3_i_3_ma_3 = model_ar_3_i_3_ma_3.fit()"
      ]
    },
    {
      "cell_type": "code",
      "execution_count": null,
      "id": "72d5f0cb",
      "metadata": {
        "id": "72d5f0cb",
        "outputId": "9d378677-8327-44d9-d2cd-90fbebe1a226"
      },
      "outputs": [
        {
          "name": "stdout",
          "output_type": "stream",
          "text": [
            "ARIMA(1,1,1): \t LL=  -758491.2535580555 \t AIC=  1516988.507116111\n",
            "ARIMA(1,1,2): \t LL=  -758442.9031603339 \t AIC=  1516893.8063206677\n",
            "ARIMA(1,1,3): \t LL=  -758431.1507708147 \t AIC=  1516872.3015416295\n",
            "ARIMA(2,1,1): \t LL=  -758486.5411102443 \t AIC=  1516981.0822204887\n",
            "ARIMA(2,1,2): \t LL=  -758435.784318084 \t AIC=  1516881.568636168\n",
            "ARIMA(2,1,3): \t LL=  -758427.8620546549 \t AIC=  1516867.7241093097\n",
            "ARIMA(2,2,3): \t LL=  -759082.8554216945 \t AIC=  1518177.710843389\n",
            "ARIMA(2,3,3): \t LL=  -764832.8722201803 \t AIC=  1529677.7444403607\n",
            "ARIMA(3,1,1): \t LL=  -758486.5064628238 \t AIC=  1516983.0129256477\n",
            "ARIMA(3,1,2): \t LL=  -758434.574931762 \t AIC=  1516881.149863524\n",
            "ARIMA(3,1,3): \t LL=  -758404.6055587888 \t AIC=  1516823.2111175775\n",
            "ARIMA(3,2,3): \t LL=  -759022.8104980162 \t AIC=  1518059.6209960324\n",
            "ARIMA(3,3,3); \t LL=  -763455.0681753771 \t AIC=  1526924.1363507542\n"
          ]
        }
      ],
      "source": [
        "print(\"ARIMA(1,1,1): \\t LL= \", results_ar_1_i_1_ma_1.llf, \"\\t AIC= \", results_ar_1_i_1_ma_1.aic)\n",
        "print(\"ARIMA(1,1,2): \\t LL= \", results_ar_1_i_1_ma_2.llf, \"\\t AIC= \", results_ar_1_i_1_ma_2.aic)\n",
        "print(\"ARIMA(1,1,3): \\t LL= \", results_ar_1_i_1_ma_3.llf, \"\\t AIC= \", results_ar_1_i_1_ma_3.aic)\n",
        "print(\"ARIMA(2,1,1): \\t LL= \", results_ar_2_i_1_ma_1.llf, \"\\t AIC= \", results_ar_2_i_1_ma_1.aic)\n",
        "print(\"ARIMA(2,1,2): \\t LL= \", results_ar_2_i_1_ma_2.llf, \"\\t AIC= \", results_ar_2_i_1_ma_2.aic)\n",
        "print(\"ARIMA(2,1,3): \\t LL= \", results_ar_2_i_1_ma_3.llf, \"\\t AIC= \", results_ar_2_i_1_ma_3.aic)\n",
        "\n",
        "print(\"ARIMA(2,2,3): \\t LL= \", results_ar_2_i_2_ma_3.llf, \"\\t AIC= \", results_ar_2_i_2_ma_3.aic)\n",
        "print(\"ARIMA(2,3,3): \\t LL= \", results_ar_2_i_3_ma_3.llf, \"\\t AIC= \", results_ar_2_i_3_ma_3.aic)\n",
        "\n",
        "print(\"ARIMA(3,1,1): \\t LL= \", results_ar_3_i_1_ma_1.llf, \"\\t AIC= \", results_ar_3_i_1_ma_1.aic)\n",
        "print(\"ARIMA(3,1,2): \\t LL= \", results_ar_3_i_1_ma_2.llf, \"\\t AIC= \", results_ar_3_i_1_ma_2.aic)\n",
        "print(\"ARIMA(3,1,3): \\t LL= \", results_ar_3_i_1_ma_3.llf, \"\\t AIC= \", results_ar_3_i_1_ma_3.aic)\n",
        "print(\"ARIMA(3,2,3): \\t LL= \", results_ar_3_i_2_ma_3.llf, \"\\t AIC= \", results_ar_3_i_2_ma_3.aic)\n",
        "print(\"ARIMA(3,3,3); \\t LL= \", results_ar_3_i_3_ma_3.llf, \"\\t AIC= \", results_ar_3_i_3_ma_3.aic)"
      ]
    },
    {
      "cell_type": "code",
      "execution_count": null,
      "id": "b3d634ee",
      "metadata": {
        "id": "b3d634ee",
        "outputId": "285dc611-8efc-488d-fdeb-54af7301f08a"
      },
      "outputs": [
        {
          "name": "stdout",
          "output_type": "stream",
          "text": [
            "\n",
            " LLR test p-value= 0.0\n"
          ]
        }
      ],
      "source": [
        "print(\"\\n LLR test p-value= \"+str(LLR_test(model_ar_2_i_1_ma_3, model_ar_3_i_1_ma_3)))"
      ]
    },
    {
      "cell_type": "code",
      "execution_count": null,
      "id": "0e7a1d9a",
      "metadata": {
        "id": "0e7a1d9a",
        "outputId": "1959ef04-db92-4d4a-b609-dcd453887073"
      },
      "outputs": [
        {
          "name": "stdout",
          "output_type": "stream",
          "text": [
            "\n",
            " LLR test p-value= 0.0\n"
          ]
        }
      ],
      "source": [
        "print(\"\\n LLR test p-value= \"+str(LLR_test(model_ar_2_i_3_ma_3, model_ar_3_i_1_ma_3)))"
      ]
    },
    {
      "cell_type": "code",
      "execution_count": null,
      "id": "0f876277",
      "metadata": {
        "id": "0f876277",
        "outputId": "1664c31c-3b80-488b-b1af-f79e1e564293"
      },
      "outputs": [
        {
          "name": "stdout",
          "output_type": "stream",
          "text": [
            "\n",
            " LLR test p-value= 1.0\n"
          ]
        }
      ],
      "source": [
        "print(\"\\n LLR test p-value= \"+str(LLR_test(model_ar_3_i_1_ma_3, model_ar_3_i_2_ma_3)))"
      ]
    },
    {
      "cell_type": "code",
      "execution_count": null,
      "id": "8e7a5d5b",
      "metadata": {
        "id": "8e7a5d5b"
      },
      "outputs": [],
      "source": []
    },
    {
      "cell_type": "code",
      "execution_count": null,
      "id": "d5623fac",
      "metadata": {
        "id": "d5623fac"
      },
      "outputs": [],
      "source": [
        "#STEP 1 of 2: Checking if Integrated dataset is stationary"
      ]
    },
    {
      "cell_type": "code",
      "execution_count": null,
      "id": "7849a890",
      "metadata": {
        "id": "7849a890"
      },
      "outputs": [],
      "source": [
        "data['memory'] = data.vmMemoryDemand.diff(1)"
      ]
    },
    {
      "cell_type": "code",
      "execution_count": null,
      "id": "91fcb65f",
      "metadata": {
        "id": "91fcb65f",
        "outputId": "1997d257-bc9f-4f31-8d57-d66d83bc18be"
      },
      "outputs": [
        {
          "data": {
            "text/html": [
              "<table class=\"simpletable\">\n",
              "<caption>SARIMAX Results</caption>\n",
              "<tr>\n",
              "  <th>Dep. Variable:</th>    <td>vmMemoryDemand</td>  <th>  No. Observations:  </th>    <td>49932</td>   \n",
              "</tr>\n",
              "<tr>\n",
              "  <th>Model:</th>            <td>ARIMA(1, 0, 1)</td>  <th>  Log Likelihood     </th> <td>-760259.849</td>\n",
              "</tr>\n",
              "<tr>\n",
              "  <th>Date:</th>            <td>Thu, 01 Jun 2023</td> <th>  AIC                </th> <td>1520527.699</td>\n",
              "</tr>\n",
              "<tr>\n",
              "  <th>Time:</th>                <td>16:15:13</td>     <th>  BIC                </th> <td>1520562.972</td>\n",
              "</tr>\n",
              "<tr>\n",
              "  <th>Sample:</th>                  <td>0</td>        <th>  HQIC               </th> <td>1520538.749</td>\n",
              "</tr>\n",
              "<tr>\n",
              "  <th></th>                     <td> - 49932</td>     <th>                     </th>      <td> </td>     \n",
              "</tr>\n",
              "<tr>\n",
              "  <th>Covariance Type:</th>        <td>opg</td>       <th>                     </th>      <td> </td>     \n",
              "</tr>\n",
              "</table>\n",
              "<table class=\"simpletable\">\n",
              "<tr>\n",
              "     <td></td>       <th>coef</th>     <th>std err</th>      <th>z</th>      <th>P>|z|</th>  <th>[0.025</th>    <th>0.975]</th>  \n",
              "</tr>\n",
              "<tr>\n",
              "  <th>const</th>  <td> 1.464e+07</td> <td> 4.67e-13</td> <td> 3.13e+19</td> <td> 0.000</td> <td> 1.46e+07</td> <td> 1.46e+07</td>\n",
              "</tr>\n",
              "<tr>\n",
              "  <th>ar.L1</th>  <td>    0.9877</td> <td>    0.000</td> <td> 2209.444</td> <td> 0.000</td> <td>    0.987</td> <td>    0.989</td>\n",
              "</tr>\n",
              "<tr>\n",
              "  <th>ma.L1</th>  <td>   -0.4844</td> <td>    0.001</td> <td> -669.720</td> <td> 0.000</td> <td>   -0.486</td> <td>   -0.483</td>\n",
              "</tr>\n",
              "<tr>\n",
              "  <th>sigma2</th> <td> 1.008e+12</td> <td> 1.53e-16</td> <td>  6.6e+27</td> <td> 0.000</td> <td> 1.01e+12</td> <td> 1.01e+12</td>\n",
              "</tr>\n",
              "</table>\n",
              "<table class=\"simpletable\">\n",
              "<tr>\n",
              "  <th>Ljung-Box (L1) (Q):</th>     <td>492.36</td> <th>  Jarque-Bera (JB):  </th> <td>70242550.00</td>\n",
              "</tr>\n",
              "<tr>\n",
              "  <th>Prob(Q):</th>                 <td>0.00</td>  <th>  Prob(JB):          </th>    <td>0.00</td>    \n",
              "</tr>\n",
              "<tr>\n",
              "  <th>Heteroskedasticity (H):</th>  <td>0.02</td>  <th>  Skew:              </th>    <td>-3.27</td>   \n",
              "</tr>\n",
              "<tr>\n",
              "  <th>Prob(H) (two-sided):</th>     <td>0.00</td>  <th>  Kurtosis:          </th>   <td>186.63</td>   \n",
              "</tr>\n",
              "</table><br/><br/>Warnings:<br/>[1] Covariance matrix calculated using the outer product of gradients (complex-step).<br/>[2] Covariance matrix is singular or near-singular, with condition number 1.45e+41. Standard errors may be unstable."
            ],
            "text/plain": [
              "<class 'statsmodels.iolib.summary.Summary'>\n",
              "\"\"\"\n",
              "                               SARIMAX Results                                \n",
              "==============================================================================\n",
              "Dep. Variable:         vmMemoryDemand   No. Observations:                49932\n",
              "Model:                 ARIMA(1, 0, 1)   Log Likelihood             -760259.849\n",
              "Date:                Thu, 01 Jun 2023   AIC                        1520527.699\n",
              "Time:                        16:15:13   BIC                        1520562.972\n",
              "Sample:                             0   HQIC                       1520538.749\n",
              "                              - 49932                                         \n",
              "Covariance Type:                  opg                                         \n",
              "==============================================================================\n",
              "                 coef    std err          z      P>|z|      [0.025      0.975]\n",
              "------------------------------------------------------------------------------\n",
              "const       1.464e+07   4.67e-13   3.13e+19      0.000    1.46e+07    1.46e+07\n",
              "ar.L1          0.9877      0.000   2209.444      0.000       0.987       0.989\n",
              "ma.L1         -0.4844      0.001   -669.720      0.000      -0.486      -0.483\n",
              "sigma2      1.008e+12   1.53e-16    6.6e+27      0.000    1.01e+12    1.01e+12\n",
              "===================================================================================\n",
              "Ljung-Box (L1) (Q):                 492.36   Jarque-Bera (JB):          70242550.00\n",
              "Prob(Q):                              0.00   Prob(JB):                         0.00\n",
              "Heteroskedasticity (H):               0.02   Skew:                            -3.27\n",
              "Prob(H) (two-sided):                  0.00   Kurtosis:                       186.63\n",
              "===================================================================================\n",
              "\n",
              "Warnings:\n",
              "[1] Covariance matrix calculated using the outer product of gradients (complex-step).\n",
              "[2] Covariance matrix is singular or near-singular, with condition number 1.45e+41. Standard errors may be unstable.\n",
              "\"\"\""
            ]
          },
          "execution_count": 47,
          "metadata": {},
          "output_type": "execute_result"
        }
      ],
      "source": [
        "model_delta_ar_1_i_1_ma_1 = ARIMA(data.vmMemoryDemand[1:], order=(1,0,1))\n",
        "results_delta_ar_1_i_1_ma_1 = model_delta_ar_1_i_1_ma_1.fit()\n",
        "results_delta_ar_1_i_1_ma_1.summary()"
      ]
    },
    {
      "cell_type": "code",
      "execution_count": null,
      "id": "588d7cc2",
      "metadata": {
        "id": "588d7cc2",
        "outputId": "d167c680-4911-4dd1-83f7-adbaec41e1a8"
      },
      "outputs": [
        {
          "data": {
            "text/plain": [
              "(-6.548532287798404,\n",
              " 8.971659450976896e-09,\n",
              " 56,\n",
              " 49875,\n",
              " {'1%': -3.4304811205331993,\n",
              "  '5%': -2.861597952579616,\n",
              "  '10%': -2.566800846242021},\n",
              " 1514745.7793265956)"
            ]
          },
          "execution_count": 49,
          "metadata": {},
          "output_type": "execute_result"
        }
      ],
      "source": [
        "#Step 2 of 2: Dickey-Fuller Test\n",
        "\n",
        "sts.adfuller(data.vmMemoryDemand[1:])"
      ]
    },
    {
      "cell_type": "code",
      "execution_count": null,
      "id": "e1296f05",
      "metadata": {
        "id": "e1296f05"
      },
      "outputs": [],
      "source": []
    }
  ],
  "metadata": {
    "kernelspec": {
      "display_name": "Python 3 (ipykernel)",
      "language": "python",
      "name": "python3"
    },
    "language_info": {
      "codemirror_mode": {
        "name": "ipython",
        "version": 3
      },
      "file_extension": ".py",
      "mimetype": "text/x-python",
      "name": "python",
      "nbconvert_exporter": "python",
      "pygments_lexer": "ipython3",
      "version": "3.10.9"
    },
    "colab": {
      "provenance": []
    }
  },
  "nbformat": 4,
  "nbformat_minor": 5
}