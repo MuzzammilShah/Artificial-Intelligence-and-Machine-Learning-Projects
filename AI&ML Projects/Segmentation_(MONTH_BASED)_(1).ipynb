{
  "cells": [
    {
      "cell_type": "code",
      "execution_count": null,
      "id": "b94ddb40",
      "metadata": {
        "id": "b94ddb40"
      },
      "outputs": [],
      "source": [
        "import pandas as pd\n",
        "import numpy as np\n",
        "import matplotlib.pyplot as plt\n",
        "import scipy.stats\n",
        "import pylab"
      ]
    },
    {
      "cell_type": "code",
      "execution_count": null,
      "id": "f187274d",
      "metadata": {
        "id": "f187274d"
      },
      "outputs": [],
      "source": [
        "raw_csv_data = pd.read_csv(\"C:/Users/MUHAMMED SHAH/Desktop/Observability server data/SET 2/SERVER 1/csv_formatted.csv\")\n",
        "data = raw_csv_data.copy()"
      ]
    },
    {
      "cell_type": "code",
      "execution_count": null,
      "id": "c284a373",
      "metadata": {
        "id": "c284a373",
        "outputId": "05f57f32-1675-49db-f3ef-d834e12aaa6d"
      },
      "outputs": [
        {
          "data": {
            "text/plain": [
              "Unnamed: 0                 1908\n",
              "timestamp                  1908\n",
              "vmMemoryDemand             1908\n",
              "guest_demand               1908\n",
              "guest_provisioned          1908\n",
              "vm_capacity_provisioned    1908\n",
              "effective_limit            1908\n",
              "dtype: int64"
            ]
          },
          "execution_count": 3,
          "metadata": {},
          "output_type": "execute_result"
        }
      ],
      "source": [
        "data.isna().sum()"
      ]
    },
    {
      "cell_type": "code",
      "execution_count": null,
      "id": "00b66e33",
      "metadata": {
        "id": "00b66e33"
      },
      "outputs": [],
      "source": [
        "data.timestamp = pd.to_datetime(data.timestamp)\n",
        "data['month'] = data['timestamp'].apply(lambda x:x.month)\n",
        "x_call = data.columns[1:-1]"
      ]
    },
    {
      "cell_type": "code",
      "execution_count": null,
      "id": "20428b06",
      "metadata": {
        "id": "20428b06",
        "outputId": "3d60c8da-986e-4f35-d9b0-d7215ab07e56"
      },
      "outputs": [
        {
          "data": {
            "text/html": [
              "<div>\n",
              "<style scoped>\n",
              "    .dataframe tbody tr th:only-of-type {\n",
              "        vertical-align: middle;\n",
              "    }\n",
              "\n",
              "    .dataframe tbody tr th {\n",
              "        vertical-align: top;\n",
              "    }\n",
              "\n",
              "    .dataframe thead th {\n",
              "        text-align: right;\n",
              "    }\n",
              "</style>\n",
              "<table border=\"1\" class=\"dataframe\">\n",
              "  <thead>\n",
              "    <tr style=\"text-align: right;\">\n",
              "      <th></th>\n",
              "      <th>Unnamed: 0</th>\n",
              "      <th>timestamp</th>\n",
              "      <th>vmMemoryDemand</th>\n",
              "      <th>guest_demand</th>\n",
              "      <th>guest_provisioned</th>\n",
              "      <th>vm_capacity_provisioned</th>\n",
              "      <th>effective_limit</th>\n",
              "      <th>month</th>\n",
              "    </tr>\n",
              "  </thead>\n",
              "  <tbody>\n",
              "    <tr>\n",
              "      <th>0</th>\n",
              "      <td>0.0</td>\n",
              "      <td>2022-11-11 19:16:00</td>\n",
              "      <td>13844401.0</td>\n",
              "      <td>3838625.00</td>\n",
              "      <td>33554432.0</td>\n",
              "      <td>16799.99805</td>\n",
              "      <td>33815464.0</td>\n",
              "      <td>11</td>\n",
              "    </tr>\n",
              "    <tr>\n",
              "      <th>1</th>\n",
              "      <td>1.0</td>\n",
              "      <td>2022-11-11 19:21:00</td>\n",
              "      <td>13832758.0</td>\n",
              "      <td>3617164.25</td>\n",
              "      <td>33554432.0</td>\n",
              "      <td>16799.99805</td>\n",
              "      <td>33815464.0</td>\n",
              "      <td>11</td>\n",
              "    </tr>\n",
              "    <tr>\n",
              "      <th>2</th>\n",
              "      <td>2.0</td>\n",
              "      <td>2022-11-11 19:26:00</td>\n",
              "      <td>13834057.0</td>\n",
              "      <td>3051213.50</td>\n",
              "      <td>33554432.0</td>\n",
              "      <td>16799.99805</td>\n",
              "      <td>33815464.0</td>\n",
              "      <td>11</td>\n",
              "    </tr>\n",
              "    <tr>\n",
              "      <th>3</th>\n",
              "      <td>3.0</td>\n",
              "      <td>2022-11-11 19:31:00</td>\n",
              "      <td>13859266.0</td>\n",
              "      <td>3764804.50</td>\n",
              "      <td>33554432.0</td>\n",
              "      <td>16799.99805</td>\n",
              "      <td>33815464.0</td>\n",
              "      <td>11</td>\n",
              "    </tr>\n",
              "    <tr>\n",
              "      <th>4</th>\n",
              "      <td>4.0</td>\n",
              "      <td>2022-11-11 19:36:00</td>\n",
              "      <td>13867352.0</td>\n",
              "      <td>3174246.25</td>\n",
              "      <td>33554432.0</td>\n",
              "      <td>16799.99805</td>\n",
              "      <td>33815464.0</td>\n",
              "      <td>11</td>\n",
              "    </tr>\n",
              "  </tbody>\n",
              "</table>\n",
              "</div>"
            ],
            "text/plain": [
              "   Unnamed: 0           timestamp  vmMemoryDemand  guest_demand  \\\n",
              "0         0.0 2022-11-11 19:16:00      13844401.0    3838625.00   \n",
              "1         1.0 2022-11-11 19:21:00      13832758.0    3617164.25   \n",
              "2         2.0 2022-11-11 19:26:00      13834057.0    3051213.50   \n",
              "3         3.0 2022-11-11 19:31:00      13859266.0    3764804.50   \n",
              "4         4.0 2022-11-11 19:36:00      13867352.0    3174246.25   \n",
              "\n",
              "   guest_provisioned  vm_capacity_provisioned  effective_limit  month  \n",
              "0         33554432.0              16799.99805       33815464.0     11  \n",
              "1         33554432.0              16799.99805       33815464.0     11  \n",
              "2         33554432.0              16799.99805       33815464.0     11  \n",
              "3         33554432.0              16799.99805       33815464.0     11  \n",
              "4         33554432.0              16799.99805       33815464.0     11  "
            ]
          },
          "execution_count": 34,
          "metadata": {},
          "output_type": "execute_result"
        }
      ],
      "source": [
        "data.head()"
      ]
    },
    {
      "cell_type": "code",
      "execution_count": null,
      "id": "628c8ab5",
      "metadata": {
        "id": "628c8ab5",
        "outputId": "de18f0ce-376f-4893-e079-d9cf209eaedd"
      },
      "outputs": [
        {
          "data": {
            "text/plain": [
              "Unnamed: 0                 0\n",
              "timestamp                  0\n",
              "vmMemoryDemand             0\n",
              "guest_demand               0\n",
              "guest_provisioned          0\n",
              "vm_capacity_provisioned    0\n",
              "effective_limit            0\n",
              "month                      0\n",
              "dtype: int64"
            ]
          },
          "execution_count": 35,
          "metadata": {},
          "output_type": "execute_result"
        }
      ],
      "source": [
        "data.isna().sum()"
      ]
    },
    {
      "cell_type": "code",
      "execution_count": null,
      "id": "463a9c12",
      "metadata": {
        "id": "463a9c12"
      },
      "outputs": [],
      "source": [
        "data = data.apply (pd.to_numeric, errors='coerce')\n",
        "data = data.dropna()"
      ]
    },
    {
      "cell_type": "code",
      "execution_count": null,
      "id": "72d9e76a",
      "metadata": {
        "id": "72d9e76a",
        "outputId": "f895173b-6010-48ff-a107-7787887278be"
      },
      "outputs": [
        {
          "data": {
            "text/plain": [
              "Unnamed: 0                 0\n",
              "timestamp                  0\n",
              "vmMemoryDemand             0\n",
              "guest_demand               0\n",
              "guest_provisioned          0\n",
              "vm_capacity_provisioned    0\n",
              "effective_limit            0\n",
              "month                      0\n",
              "dtype: int64"
            ]
          },
          "execution_count": 36,
          "metadata": {},
          "output_type": "execute_result"
        }
      ],
      "source": [
        "data.isna().sum()"
      ]
    },
    {
      "cell_type": "code",
      "execution_count": null,
      "id": "72d79622",
      "metadata": {
        "id": "72d79622",
        "outputId": "4ab2b656-1c9d-4377-830c-f23da8d212c3"
      },
      "outputs": [
        {
          "data": {
            "text/html": [
              "<div>\n",
              "<style scoped>\n",
              "    .dataframe tbody tr th:only-of-type {\n",
              "        vertical-align: middle;\n",
              "    }\n",
              "\n",
              "    .dataframe tbody tr th {\n",
              "        vertical-align: top;\n",
              "    }\n",
              "\n",
              "    .dataframe thead th {\n",
              "        text-align: right;\n",
              "    }\n",
              "</style>\n",
              "<table border=\"1\" class=\"dataframe\">\n",
              "  <thead>\n",
              "    <tr style=\"text-align: right;\">\n",
              "      <th></th>\n",
              "      <th>Unnamed: 0</th>\n",
              "      <th>timestamp</th>\n",
              "      <th>vmMemoryDemand</th>\n",
              "      <th>guest_demand</th>\n",
              "      <th>guest_provisioned</th>\n",
              "      <th>vm_capacity_provisioned</th>\n",
              "      <th>effective_limit</th>\n",
              "      <th>month</th>\n",
              "    </tr>\n",
              "  </thead>\n",
              "  <tbody>\n",
              "    <tr>\n",
              "      <th>49928</th>\n",
              "      <td>49928.0</td>\n",
              "      <td>1683744660000000000</td>\n",
              "      <td>15023986.0</td>\n",
              "      <td>5684120.00</td>\n",
              "      <td>33554432.0</td>\n",
              "      <td>16799.99609</td>\n",
              "      <td>33815236.0</td>\n",
              "      <td>5</td>\n",
              "    </tr>\n",
              "    <tr>\n",
              "      <th>49929</th>\n",
              "      <td>49929.0</td>\n",
              "      <td>1683744960000000000</td>\n",
              "      <td>15002012.0</td>\n",
              "      <td>4872101.50</td>\n",
              "      <td>33554432.0</td>\n",
              "      <td>16799.99609</td>\n",
              "      <td>33815236.0</td>\n",
              "      <td>5</td>\n",
              "    </tr>\n",
              "    <tr>\n",
              "      <th>49930</th>\n",
              "      <td>49930.0</td>\n",
              "      <td>1683745260000000000</td>\n",
              "      <td>14994134.0</td>\n",
              "      <td>4724462.00</td>\n",
              "      <td>33554432.0</td>\n",
              "      <td>16799.99609</td>\n",
              "      <td>33815236.0</td>\n",
              "      <td>5</td>\n",
              "    </tr>\n",
              "    <tr>\n",
              "      <th>49931</th>\n",
              "      <td>49931.0</td>\n",
              "      <td>1683745560000000000</td>\n",
              "      <td>14986520.0</td>\n",
              "      <td>3764803.75</td>\n",
              "      <td>33554432.0</td>\n",
              "      <td>16799.99609</td>\n",
              "      <td>33815236.0</td>\n",
              "      <td>5</td>\n",
              "    </tr>\n",
              "    <tr>\n",
              "      <th>49932</th>\n",
              "      <td>49932.0</td>\n",
              "      <td>1683745860000000000</td>\n",
              "      <td>14977126.0</td>\n",
              "      <td>4503002.00</td>\n",
              "      <td>33554432.0</td>\n",
              "      <td>16799.99609</td>\n",
              "      <td>33815236.0</td>\n",
              "      <td>5</td>\n",
              "    </tr>\n",
              "  </tbody>\n",
              "</table>\n",
              "</div>"
            ],
            "text/plain": [
              "       Unnamed: 0            timestamp  vmMemoryDemand  guest_demand  \\\n",
              "49928     49928.0  1683744660000000000      15023986.0    5684120.00   \n",
              "49929     49929.0  1683744960000000000      15002012.0    4872101.50   \n",
              "49930     49930.0  1683745260000000000      14994134.0    4724462.00   \n",
              "49931     49931.0  1683745560000000000      14986520.0    3764803.75   \n",
              "49932     49932.0  1683745860000000000      14977126.0    4503002.00   \n",
              "\n",
              "       guest_provisioned  vm_capacity_provisioned  effective_limit  month  \n",
              "49928         33554432.0              16799.99609       33815236.0      5  \n",
              "49929         33554432.0              16799.99609       33815236.0      5  \n",
              "49930         33554432.0              16799.99609       33815236.0      5  \n",
              "49931         33554432.0              16799.99609       33815236.0      5  \n",
              "49932         33554432.0              16799.99609       33815236.0      5  "
            ]
          },
          "execution_count": 40,
          "metadata": {},
          "output_type": "execute_result"
        }
      ],
      "source": [
        "data.tail()"
      ]
    },
    {
      "cell_type": "code",
      "execution_count": null,
      "id": "c8b4af99",
      "metadata": {
        "id": "c8b4af99"
      },
      "outputs": [],
      "source": [
        "data_fix = pd.DataFrame({'total memory':np.sum(data[x_call]).values})\n",
        "data_fix['average']=data[x_call].mean().values\n",
        "data_fix['% January']=data[data['month']==1][x_call].sum().values/data_fix['total memory']*100\n",
        "data_fix['% February']=data[data['month']==2][x_call].sum().values/data_fix['total memory']*100\n",
        "data_fix['% March']=data[data['month']==3][x_call].sum().values/data_fix['total memory']*100\n",
        "data_fix['% April']=data[data['month']==4][x_call].sum().values/data_fix['total memory']*100\n",
        "data_fix['% May']=data[data['month']==5][x_call].sum().values/data_fix['total memory']*100\n",
        "data_fix['% June']=data[data['month']==6][x_call].sum().values/data_fix['total memory']*100\n",
        "data_fix['% July']=data[data['month']==7][x_call].sum().values/data_fix['total memory']*100\n",
        "data_fix['% August']=data[data['month']==8][x_call].sum().values/data_fix['total memory']*100\n",
        "data_fix['% September']=data[data['month']==9][x_call].sum().values/data_fix['total memory']*100\n",
        "data_fix['% October']=data[data['month']==10][x_call].sum().values/data_fix['total memory']*100\n",
        "data_fix['% November']=data[data['month']==11][x_call].sum().values/data_fix['total memory']*100\n",
        "data_fix['% December']=data[data['month']==12][x_call].sum().values/data_fix['total memory']*100"
      ]
    },
    {
      "cell_type": "code",
      "execution_count": null,
      "id": "7bd18bff",
      "metadata": {
        "id": "7bd18bff",
        "outputId": "0c2a4381-2ceb-450d-899d-a9427231b8ce"
      },
      "outputs": [
        {
          "data": {
            "text/html": [
              "<div>\n",
              "<style scoped>\n",
              "    .dataframe tbody tr th:only-of-type {\n",
              "        vertical-align: middle;\n",
              "    }\n",
              "\n",
              "    .dataframe tbody tr th {\n",
              "        vertical-align: top;\n",
              "    }\n",
              "\n",
              "    .dataframe thead th {\n",
              "        text-align: right;\n",
              "    }\n",
              "</style>\n",
              "<table border=\"1\" class=\"dataframe\">\n",
              "  <thead>\n",
              "    <tr style=\"text-align: right;\">\n",
              "      <th></th>\n",
              "      <th>total memory</th>\n",
              "      <th>average</th>\n",
              "      <th>% January</th>\n",
              "      <th>% February</th>\n",
              "      <th>% March</th>\n",
              "      <th>% April</th>\n",
              "      <th>% May</th>\n",
              "      <th>% June</th>\n",
              "      <th>% July</th>\n",
              "      <th>% August</th>\n",
              "      <th>% September</th>\n",
              "      <th>% October</th>\n",
              "      <th>% November</th>\n",
              "      <th>% December</th>\n",
              "    </tr>\n",
              "  </thead>\n",
              "  <tbody>\n",
              "    <tr>\n",
              "      <th>0</th>\n",
              "      <td>-1.132808e+18</td>\n",
              "      <td>1.676081e+18</td>\n",
              "      <td>205.858418</td>\n",
              "      <td>806.471097</td>\n",
              "      <td>806.458477</td>\n",
              "      <td>332.967107</td>\n",
              "      <td>-246.267107</td>\n",
              "      <td>-0.0</td>\n",
              "      <td>-0.0</td>\n",
              "      <td>-0.0</td>\n",
              "      <td>-0.0</td>\n",
              "      <td>-0.0</td>\n",
              "      <td>-751.020542</td>\n",
              "      <td>573.941973</td>\n",
              "    </tr>\n",
              "    <tr>\n",
              "      <th>1</th>\n",
              "      <td>7.310613e+11</td>\n",
              "      <td>1.464084e+07</td>\n",
              "      <td>17.299390</td>\n",
              "      <td>18.146037</td>\n",
              "      <td>20.213587</td>\n",
              "      <td>14.403760</td>\n",
              "      <td>5.632419</td>\n",
              "      <td>0.0</td>\n",
              "      <td>0.0</td>\n",
              "      <td>0.0</td>\n",
              "      <td>0.0</td>\n",
              "      <td>0.0</td>\n",
              "      <td>10.589691</td>\n",
              "      <td>13.715116</td>\n",
              "    </tr>\n",
              "    <tr>\n",
              "      <th>2</th>\n",
              "      <td>2.638065e+11</td>\n",
              "      <td>5.283209e+06</td>\n",
              "      <td>17.095136</td>\n",
              "      <td>16.726892</td>\n",
              "      <td>19.519451</td>\n",
              "      <td>17.353863</td>\n",
              "      <td>6.112030</td>\n",
              "      <td>0.0</td>\n",
              "      <td>0.0</td>\n",
              "      <td>0.0</td>\n",
              "      <td>0.0</td>\n",
              "      <td>0.0</td>\n",
              "      <td>9.640716</td>\n",
              "      <td>13.551910</td>\n",
              "    </tr>\n",
              "    <tr>\n",
              "      <th>3</th>\n",
              "      <td>1.675473e+12</td>\n",
              "      <td>3.355443e+07</td>\n",
              "      <td>16.638295</td>\n",
              "      <td>15.414656</td>\n",
              "      <td>17.789838</td>\n",
              "      <td>17.241103</td>\n",
              "      <td>5.643562</td>\n",
              "      <td>0.0</td>\n",
              "      <td>0.0</td>\n",
              "      <td>0.0</td>\n",
              "      <td>0.0</td>\n",
              "      <td>0.0</td>\n",
              "      <td>10.524102</td>\n",
              "      <td>16.748443</td>\n",
              "    </tr>\n",
              "    <tr>\n",
              "      <th>4</th>\n",
              "      <td>8.388743e+08</td>\n",
              "      <td>1.680000e+04</td>\n",
              "      <td>16.638296</td>\n",
              "      <td>15.414656</td>\n",
              "      <td>17.789837</td>\n",
              "      <td>17.241102</td>\n",
              "      <td>5.643562</td>\n",
              "      <td>0.0</td>\n",
              "      <td>0.0</td>\n",
              "      <td>0.0</td>\n",
              "      <td>0.0</td>\n",
              "      <td>0.0</td>\n",
              "      <td>10.524102</td>\n",
              "      <td>16.748444</td>\n",
              "    </tr>\n",
              "  </tbody>\n",
              "</table>\n",
              "</div>"
            ],
            "text/plain": [
              "   total memory       average   % January  % February     % March     % April  \\\n",
              "0 -1.132808e+18  1.676081e+18  205.858418  806.471097  806.458477  332.967107   \n",
              "1  7.310613e+11  1.464084e+07   17.299390   18.146037   20.213587   14.403760   \n",
              "2  2.638065e+11  5.283209e+06   17.095136   16.726892   19.519451   17.353863   \n",
              "3  1.675473e+12  3.355443e+07   16.638295   15.414656   17.789838   17.241103   \n",
              "4  8.388743e+08  1.680000e+04   16.638296   15.414656   17.789837   17.241102   \n",
              "\n",
              "        % May  % June  % July  % August  % September  % October  % November  \\\n",
              "0 -246.267107    -0.0    -0.0      -0.0         -0.0       -0.0 -751.020542   \n",
              "1    5.632419     0.0     0.0       0.0          0.0        0.0   10.589691   \n",
              "2    6.112030     0.0     0.0       0.0          0.0        0.0    9.640716   \n",
              "3    5.643562     0.0     0.0       0.0          0.0        0.0   10.524102   \n",
              "4    5.643562     0.0     0.0       0.0          0.0        0.0   10.524102   \n",
              "\n",
              "   % December  \n",
              "0  573.941973  \n",
              "1   13.715116  \n",
              "2   13.551910  \n",
              "3   16.748443  \n",
              "4   16.748444  "
            ]
          },
          "execution_count": 42,
          "metadata": {},
          "output_type": "execute_result"
        }
      ],
      "source": [
        "data_fix.head()"
      ]
    },
    {
      "cell_type": "code",
      "execution_count": null,
      "id": "0d6607b4",
      "metadata": {
        "id": "0d6607b4",
        "outputId": "06ea7819-86b5-4de9-c36d-45022916dd06"
      },
      "outputs": [
        {
          "data": {
            "text/plain": [
              "total memory    0\n",
              "average         0\n",
              "% January       0\n",
              "% February      0\n",
              "% March         0\n",
              "% April         0\n",
              "% May           0\n",
              "% June          0\n",
              "% July          0\n",
              "% August        0\n",
              "% September     0\n",
              "% October       0\n",
              "% November      0\n",
              "% December      0\n",
              "dtype: int64"
            ]
          },
          "execution_count": 24,
          "metadata": {},
          "output_type": "execute_result"
        }
      ],
      "source": [
        "data_fix.isna().sum()"
      ]
    },
    {
      "cell_type": "code",
      "execution_count": null,
      "id": "66f269ad",
      "metadata": {
        "id": "66f269ad",
        "outputId": "351902f7-a602-4a42-b9a0-592b6b6e0cfd"
      },
      "outputs": [
        {
          "data": {
            "text/html": [
              "<div>\n",
              "<style scoped>\n",
              "    .dataframe tbody tr th:only-of-type {\n",
              "        vertical-align: middle;\n",
              "    }\n",
              "\n",
              "    .dataframe tbody tr th {\n",
              "        vertical-align: top;\n",
              "    }\n",
              "\n",
              "    .dataframe thead th {\n",
              "        text-align: right;\n",
              "    }\n",
              "</style>\n",
              "<table border=\"1\" class=\"dataframe\">\n",
              "  <thead>\n",
              "    <tr style=\"text-align: right;\">\n",
              "      <th></th>\n",
              "      <th>total memory</th>\n",
              "      <th>average</th>\n",
              "      <th>% January</th>\n",
              "      <th>% February</th>\n",
              "      <th>% March</th>\n",
              "      <th>% April</th>\n",
              "      <th>% May</th>\n",
              "      <th>% June</th>\n",
              "      <th>% July</th>\n",
              "      <th>% August</th>\n",
              "      <th>% September</th>\n",
              "      <th>% October</th>\n",
              "      <th>% November</th>\n",
              "      <th>% December</th>\n",
              "    </tr>\n",
              "  </thead>\n",
              "  <tbody>\n",
              "    <tr>\n",
              "      <th>0</th>\n",
              "      <td>-1.132808e+18</td>\n",
              "      <td>1.676081e+18</td>\n",
              "      <td>205.858418</td>\n",
              "      <td>806.471097</td>\n",
              "      <td>806.458477</td>\n",
              "      <td>332.967107</td>\n",
              "      <td>-246.267107</td>\n",
              "      <td>-0.0</td>\n",
              "      <td>-0.0</td>\n",
              "      <td>-0.0</td>\n",
              "      <td>-0.0</td>\n",
              "      <td>-0.0</td>\n",
              "      <td>-751.020542</td>\n",
              "      <td>573.941973</td>\n",
              "    </tr>\n",
              "    <tr>\n",
              "      <th>1</th>\n",
              "      <td>7.310613e+11</td>\n",
              "      <td>1.464084e+07</td>\n",
              "      <td>17.299390</td>\n",
              "      <td>18.146037</td>\n",
              "      <td>20.213587</td>\n",
              "      <td>14.403760</td>\n",
              "      <td>5.632419</td>\n",
              "      <td>0.0</td>\n",
              "      <td>0.0</td>\n",
              "      <td>0.0</td>\n",
              "      <td>0.0</td>\n",
              "      <td>0.0</td>\n",
              "      <td>10.589691</td>\n",
              "      <td>13.715116</td>\n",
              "    </tr>\n",
              "    <tr>\n",
              "      <th>2</th>\n",
              "      <td>2.638065e+11</td>\n",
              "      <td>5.283209e+06</td>\n",
              "      <td>17.095136</td>\n",
              "      <td>16.726892</td>\n",
              "      <td>19.519451</td>\n",
              "      <td>17.353863</td>\n",
              "      <td>6.112030</td>\n",
              "      <td>0.0</td>\n",
              "      <td>0.0</td>\n",
              "      <td>0.0</td>\n",
              "      <td>0.0</td>\n",
              "      <td>0.0</td>\n",
              "      <td>9.640716</td>\n",
              "      <td>13.551910</td>\n",
              "    </tr>\n",
              "    <tr>\n",
              "      <th>3</th>\n",
              "      <td>1.675473e+12</td>\n",
              "      <td>3.355443e+07</td>\n",
              "      <td>16.638295</td>\n",
              "      <td>15.414656</td>\n",
              "      <td>17.789838</td>\n",
              "      <td>17.241103</td>\n",
              "      <td>5.643562</td>\n",
              "      <td>0.0</td>\n",
              "      <td>0.0</td>\n",
              "      <td>0.0</td>\n",
              "      <td>0.0</td>\n",
              "      <td>0.0</td>\n",
              "      <td>10.524102</td>\n",
              "      <td>16.748443</td>\n",
              "    </tr>\n",
              "    <tr>\n",
              "      <th>4</th>\n",
              "      <td>8.388743e+08</td>\n",
              "      <td>1.680000e+04</td>\n",
              "      <td>16.638296</td>\n",
              "      <td>15.414656</td>\n",
              "      <td>17.789837</td>\n",
              "      <td>17.241102</td>\n",
              "      <td>5.643562</td>\n",
              "      <td>0.0</td>\n",
              "      <td>0.0</td>\n",
              "      <td>0.0</td>\n",
              "      <td>0.0</td>\n",
              "      <td>0.0</td>\n",
              "      <td>10.524102</td>\n",
              "      <td>16.748444</td>\n",
              "    </tr>\n",
              "    <tr>\n",
              "      <th>5</th>\n",
              "      <td>1.688119e+12</td>\n",
              "      <td>3.380769e+07</td>\n",
              "      <td>16.640011</td>\n",
              "      <td>15.417199</td>\n",
              "      <td>17.793698</td>\n",
              "      <td>17.244951</td>\n",
              "      <td>5.644822</td>\n",
              "      <td>0.0</td>\n",
              "      <td>0.0</td>\n",
              "      <td>0.0</td>\n",
              "      <td>0.0</td>\n",
              "      <td>0.0</td>\n",
              "      <td>10.526487</td>\n",
              "      <td>16.732832</td>\n",
              "    </tr>\n",
              "  </tbody>\n",
              "</table>\n",
              "</div>"
            ],
            "text/plain": [
              "   total memory       average   % January  % February     % March     % April  \\\n",
              "0 -1.132808e+18  1.676081e+18  205.858418  806.471097  806.458477  332.967107   \n",
              "1  7.310613e+11  1.464084e+07   17.299390   18.146037   20.213587   14.403760   \n",
              "2  2.638065e+11  5.283209e+06   17.095136   16.726892   19.519451   17.353863   \n",
              "3  1.675473e+12  3.355443e+07   16.638295   15.414656   17.789838   17.241103   \n",
              "4  8.388743e+08  1.680000e+04   16.638296   15.414656   17.789837   17.241102   \n",
              "5  1.688119e+12  3.380769e+07   16.640011   15.417199   17.793698   17.244951   \n",
              "\n",
              "        % May  % June  % July  % August  % September  % October  % November  \\\n",
              "0 -246.267107    -0.0    -0.0      -0.0         -0.0       -0.0 -751.020542   \n",
              "1    5.632419     0.0     0.0       0.0          0.0        0.0   10.589691   \n",
              "2    6.112030     0.0     0.0       0.0          0.0        0.0    9.640716   \n",
              "3    5.643562     0.0     0.0       0.0          0.0        0.0   10.524102   \n",
              "4    5.643562     0.0     0.0       0.0          0.0        0.0   10.524102   \n",
              "5    5.644822     0.0     0.0       0.0          0.0        0.0   10.526487   \n",
              "\n",
              "   % December  \n",
              "0  573.941973  \n",
              "1   13.715116  \n",
              "2   13.551910  \n",
              "3   16.748443  \n",
              "4   16.748444  \n",
              "5   16.732832  "
            ]
          },
          "execution_count": 25,
          "metadata": {},
          "output_type": "execute_result"
        }
      ],
      "source": [
        "data_fix"
      ]
    },
    {
      "cell_type": "code",
      "execution_count": null,
      "id": "6c543e60",
      "metadata": {
        "id": "6c543e60"
      },
      "outputs": [],
      "source": []
    },
    {
      "cell_type": "code",
      "execution_count": null,
      "id": "030bbec7",
      "metadata": {
        "id": "030bbec7",
        "outputId": "ebde14ac-6997-4b86-e781-5a632188e5f3"
      },
      "outputs": [
        {
          "name": "stdout",
          "output_type": "stream",
          "text": [
            "    average  % January  % February   % March   % April     % May  % June  \\\n",
            "0  2.236068   2.236053    2.236055  2.236056  2.235980 -2.236064    -0.0   \n",
            "1 -0.447214  -0.441004   -0.440684 -0.441788 -0.466651  0.446118     0.0   \n",
            "2 -0.447214  -0.443904   -0.445503 -0.444152 -0.441623  0.451224     0.0   \n",
            "3 -0.447214  -0.450390   -0.449959 -0.450043 -0.442579  0.446236     0.0   \n",
            "4 -0.447214  -0.450390   -0.449959 -0.450043 -0.442580  0.446236     0.0   \n",
            "\n",
            "   % July  % August  % September  % October  % November  % December  \n",
            "0    -0.0      -0.0         -0.0       -0.0   -2.236066    2.236018  \n",
            "1     0.0       0.0          0.0        0.0    0.448019   -0.455777  \n",
            "2     0.0       0.0          0.0        0.0    0.444675   -0.456561  \n",
            "3     0.0       0.0          0.0        0.0    0.447788   -0.441202  \n",
            "4     0.0       0.0          0.0        0.0    0.447788   -0.441202  \n"
          ]
        }
      ],
      "source": [
        "#STANDARDIZATION OF DATA\n",
        "\n",
        "from sklearn.preprocessing import StandardScaler\n",
        "x_calls = data_fix.columns[1:]\n",
        "scaller = StandardScaler()\n",
        "matrix = pd.DataFrame(scaller.fit_transform(data_fix[x_calls]),columns=x_calls)\n",
        "print(matrix.head())"
      ]
    },
    {
      "cell_type": "code",
      "execution_count": null,
      "id": "d99de284",
      "metadata": {
        "id": "d99de284",
        "outputId": "1777192c-66c4-4f69-b921-06114d1b2ca6"
      },
      "outputs": [
        {
          "data": {
            "text/plain": [
              "<matplotlib.colorbar.Colorbar at 0x1974a1e37c0>"
            ]
          },
          "execution_count": 20,
          "metadata": {},
          "output_type": "execute_result"
        },
        {
          "data": {
            "image/png": "[encoded data removed]",
            "text/plain": [
              "<Figure size 800x600 with 2 Axes>"
            ]
          },
          "metadata": {},
          "output_type": "display_data"
        }
      ],
      "source": [
        "#CORRELATION\n",
        "\n",
        "corr = matrix[x_calls].corr()\n",
        "fig, ax = plt.subplots(figsize=(8, 6))\n",
        "cax=ax.matshow(corr,vmin=-1,vmax=1)\n",
        "ax.matshow(corr)\n",
        "plt.xticks(range(len(corr.columns)), corr.columns)\n",
        "plt.yticks(range(len(corr.columns)), corr.columns)\n",
        "plt.xticks(rotation=90)\n",
        "plt.colorbar(cax)"
      ]
    },
    {
      "cell_type": "code",
      "execution_count": null,
      "id": "125c6c59",
      "metadata": {
        "id": "125c6c59",
        "outputId": "4b74da90-3ebe-4697-8273-235a4148d0ba"
      },
      "outputs": [
        {
          "data": {
            "image/png": "[encoded data removed]",
            "text/plain": [
              "<Figure size 2000x600 with 1 Axes>"
            ]
          },
          "metadata": {},
          "output_type": "display_data"
        }
      ],
      "source": [
        "plt.figure(figsize=(20,6))\n",
        "plt.title(\"months\")\n",
        "data.month.plot()\n",
        "plt.show()"
      ]
    },
    {
      "cell_type": "code",
      "execution_count": null,
      "id": "347d0e16",
      "metadata": {
        "id": "347d0e16"
      },
      "outputs": [],
      "source": []
    }
  ],
  "metadata": {
    "kernelspec": {
      "display_name": "Python 3 (ipykernel)",
      "language": "python",
      "name": "python3"
    },
    "language_info": {
      "codemirror_mode": {
        "name": "ipython",
        "version": 3
      },
      "file_extension": ".py",
      "mimetype": "text/x-python",
      "name": "python",
      "nbconvert_exporter": "python",
      "pygments_lexer": "ipython3",
      "version": "3.10.9"
    },
    "colab": {
      "provenance": []
    }
  },
  "nbformat": 4,
  "nbformat_minor": 5
}