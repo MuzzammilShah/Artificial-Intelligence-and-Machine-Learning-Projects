{
  "nbformat": 4,
  "nbformat_minor": 0,
  "metadata": {
    "colab": {
      "provenance": []
    },
    "kernelspec": {
      "name": "python3",
      "display_name": "Python 3"
    },
    "language_info": {
      "name": "python"
    }
  },
  "cells": [
    {
      "cell_type": "markdown",
      "source": [
        "**Necessary Installments**"
      ],
      "metadata": {
        "id": "XMsVJfNMlzM6"
      }
    },
    {
      "cell_type": "code",
      "execution_count": null,
      "metadata": {
        "colab": {
          "base_uri": "https://localhost:8080/"
        },
        "id": "32DVRGJVjjsR",
        "outputId": "25920bff-6c17-496a-dbdb-9cae0baa4b68"
      },
      "outputs": [
        {
          "output_type": "stream",
          "name": "stdout",
          "text": [
            "Looking in indexes: https://pypi.org/simple, https://us-python.pkg.dev/colab-wheels/public/simple/\n",
            "Collecting pmdarima\n",
            "  Downloading pmdarima-2.0.3-cp310-cp310-manylinux_2_17_x86_64.manylinux2014_x86_64.manylinux_2_28_x86_64.whl (1.8 MB)\n",
            "\u001b[2K     \u001b[90m━━━━━━━━━━━━━━━━━━━━━━━━━━━━━━━━━━━━━━━━\u001b[0m \u001b[32m1.8/1.8 MB\u001b[0m \u001b[31m20.9 MB/s\u001b[0m eta \u001b[36m0:00:00\u001b[0m\n",
            "\u001b[?25hRequirement already satisfied: joblib>=0.11 in /usr/local/lib/python3.10/dist-packages (from pmdarima) (1.2.0)\n",
            "Requirement already satisfied: Cython!=0.29.18,!=0.29.31,>=0.29 in /usr/local/lib/python3.10/dist-packages (from pmdarima) (0.29.35)\n",
            "Requirement already satisfied: numpy>=1.21.2 in /usr/local/lib/python3.10/dist-packages (from pmdarima) (1.22.4)\n",
            "Requirement already satisfied: pandas>=0.19 in /usr/local/lib/python3.10/dist-packages (from pmdarima) (1.5.3)\n",
            "Requirement already satisfied: scikit-learn>=0.22 in /usr/local/lib/python3.10/dist-packages (from pmdarima) (1.2.2)\n",
            "Requirement already satisfied: scipy>=1.3.2 in /usr/local/lib/python3.10/dist-packages (from pmdarima) (1.10.1)\n",
            "Requirement already satisfied: statsmodels>=0.13.2 in /usr/local/lib/python3.10/dist-packages (from pmdarima) (0.13.5)\n",
            "Requirement already satisfied: urllib3 in /usr/local/lib/python3.10/dist-packages (from pmdarima) (1.26.16)\n",
            "Requirement already satisfied: setuptools!=50.0.0,>=38.6.0 in /usr/local/lib/python3.10/dist-packages (from pmdarima) (67.7.2)\n",
            "Requirement already satisfied: python-dateutil>=2.8.1 in /usr/local/lib/python3.10/dist-packages (from pandas>=0.19->pmdarima) (2.8.2)\n",
            "Requirement already satisfied: pytz>=2020.1 in /usr/local/lib/python3.10/dist-packages (from pandas>=0.19->pmdarima) (2022.7.1)\n",
            "Requirement already satisfied: threadpoolctl>=2.0.0 in /usr/local/lib/python3.10/dist-packages (from scikit-learn>=0.22->pmdarima) (3.1.0)\n",
            "Requirement already satisfied: patsy>=0.5.2 in /usr/local/lib/python3.10/dist-packages (from statsmodels>=0.13.2->pmdarima) (0.5.3)\n",
            "Requirement already satisfied: packaging>=21.3 in /usr/local/lib/python3.10/dist-packages (from statsmodels>=0.13.2->pmdarima) (23.1)\n",
            "Requirement already satisfied: six in /usr/local/lib/python3.10/dist-packages (from patsy>=0.5.2->statsmodels>=0.13.2->pmdarima) (1.16.0)\n",
            "Installing collected packages: pmdarima\n",
            "Successfully installed pmdarima-2.0.3\n"
          ]
        }
      ],
      "source": [
        "!pip install pmdarima"
      ]
    },
    {
      "cell_type": "code",
      "source": [
        "import pandas as pd\n",
        "import matplotlib.pyplot as plt\n",
        "from statsmodels.tsa.statespace.varmax import VARMAX\n",
        "import numpy as np\n",
        "from statsmodels.tsa.stattools import adfuller\n",
        "from statsmodels.tsa.vector_ar.vecm import coint_johansen\n",
        "from sklearn.model_selection import GridSearchCV,train_test_split\n",
        "from sklearn.metrics import mean_squared_error\n",
        "from sklearn import metrics\n",
        "from timeit import default_timer as timer\n",
        "from pmdarima import auto_arima\n",
        "import warnings\n",
        "warnings.filterwarnings(\"ignore\")"
      ],
      "metadata": {
        "id": "-nPZA37OkBjS"
      },
      "execution_count": null,
      "outputs": []
    },
    {
      "cell_type": "code",
      "source": [
        "from google.colab import drive\n",
        "drive.mount(\"/content/gDrive\")"
      ],
      "metadata": {
        "colab": {
          "base_uri": "https://localhost:8080/"
        },
        "id": "AAeK9-XSkCN5",
        "outputId": "ec8ec2d4-f970-4e1e-c89c-4b7608cd464b"
      },
      "execution_count": null,
      "outputs": [
        {
          "output_type": "stream",
          "name": "stdout",
          "text": [
            "Mounted at /content/gDrive\n"
          ]
        }
      ]
    },
    {
      "cell_type": "code",
      "source": [
        "path=\"/content/gDrive/MyDrive/Datasets/new_csv_formatted.csv\"\n",
        "data=pd.read_csv(path)\n",
        "data[:5]"
      ],
      "metadata": {
        "colab": {
          "base_uri": "https://localhost:8080/",
          "height": 206
        },
        "id": "GUWQlL0akLtf",
        "outputId": "21b759c4-6ed5-45ba-aa3b-c96ff8316a8c"
      },
      "execution_count": null,
      "outputs": [
        {
          "output_type": "execute_result",
          "data": {
            "text/plain": [
              "   index         timestamp  vmMemoryDemand  guest_demand  guest_provisioned  \\\n",
              "0      0  11-11-2022 19:16      13844401.0    3838625.00           33554432   \n",
              "1      1  11-11-2022 19:21      13832758.0    3617164.25           33554432   \n",
              "2      2  11-11-2022 19:26      13834057.0    3051213.50           33554432   \n",
              "3      3  11-11-2022 19:31      13859266.0    3764804.50           33554432   \n",
              "4      4  11-11-2022 19:36      13867352.0    3174246.25           33554432   \n",
              "\n",
              "   vm_capacity_provisioned  effective_limit  \n",
              "0              16799.99805         33815464  \n",
              "1              16799.99805         33815464  \n",
              "2              16799.99805         33815464  \n",
              "3              16799.99805         33815464  \n",
              "4              16799.99805         33815464  "
            ],
            "text/html": [
              "\n",
              "  <div id=\"df-426abc3f-4657-4d83-bc96-a94a61861725\">\n",
              "    <div class=\"colab-df-container\">\n",
              "      <div>\n",
              "<style scoped>\n",
              "    .dataframe tbody tr th:only-of-type {\n",
              "        vertical-align: middle;\n",
              "    }\n",
              "\n",
              "    .dataframe tbody tr th {\n",
              "        vertical-align: top;\n",
              "    }\n",
              "\n",
              "    .dataframe thead th {\n",
              "        text-align: right;\n",
              "    }\n",
              "</style>\n",
              "<table border=\"1\" class=\"dataframe\">\n",
              "  <thead>\n",
              "    <tr style=\"text-align: right;\">\n",
              "      <th></th>\n",
              "      <th>index</th>\n",
              "      <th>timestamp</th>\n",
              "      <th>vmMemoryDemand</th>\n",
              "      <th>guest_demand</th>\n",
              "      <th>guest_provisioned</th>\n",
              "      <th>vm_capacity_provisioned</th>\n",
              "      <th>effective_limit</th>\n",
              "    </tr>\n",
              "  </thead>\n",
              "  <tbody>\n",
              "    <tr>\n",
              "      <th>0</th>\n",
              "      <td>0</td>\n",
              "      <td>11-11-2022 19:16</td>\n",
              "      <td>13844401.0</td>\n",
              "      <td>3838625.00</td>\n",
              "      <td>33554432</td>\n",
              "      <td>16799.99805</td>\n",
              "      <td>33815464</td>\n",
              "    </tr>\n",
              "    <tr>\n",
              "      <th>1</th>\n",
              "      <td>1</td>\n",
              "      <td>11-11-2022 19:21</td>\n",
              "      <td>13832758.0</td>\n",
              "      <td>3617164.25</td>\n",
              "      <td>33554432</td>\n",
              "      <td>16799.99805</td>\n",
              "      <td>33815464</td>\n",
              "    </tr>\n",
              "    <tr>\n",
              "      <th>2</th>\n",
              "      <td>2</td>\n",
              "      <td>11-11-2022 19:26</td>\n",
              "      <td>13834057.0</td>\n",
              "      <td>3051213.50</td>\n",
              "      <td>33554432</td>\n",
              "      <td>16799.99805</td>\n",
              "      <td>33815464</td>\n",
              "    </tr>\n",
              "    <tr>\n",
              "      <th>3</th>\n",
              "      <td>3</td>\n",
              "      <td>11-11-2022 19:31</td>\n",
              "      <td>13859266.0</td>\n",
              "      <td>3764804.50</td>\n",
              "      <td>33554432</td>\n",
              "      <td>16799.99805</td>\n",
              "      <td>33815464</td>\n",
              "    </tr>\n",
              "    <tr>\n",
              "      <th>4</th>\n",
              "      <td>4</td>\n",
              "      <td>11-11-2022 19:36</td>\n",
              "      <td>13867352.0</td>\n",
              "      <td>3174246.25</td>\n",
              "      <td>33554432</td>\n",
              "      <td>16799.99805</td>\n",
              "      <td>33815464</td>\n",
              "    </tr>\n",
              "  </tbody>\n",
              "</table>\n",
              "</div>\n",
              "      <button class=\"colab-df-convert\" onclick=\"convertToInteractive('df-426abc3f-4657-4d83-bc96-a94a61861725')\"\n",
              "              title=\"Convert this dataframe to an interactive table.\"\n",
              "              style=\"display:none;\">\n",
              "        \n",
              "  <svg xmlns=\"http://www.w3.org/2000/svg\" height=\"24px\"viewBox=\"0 0 24 24\"\n",
              "       width=\"24px\">\n",
              "    <path d=\"M0 0h24v24H0V0z\" fill=\"none\"/>\n",
              "    <path d=\"M18.56 5.44l.94 2.06.94-2.06 2.06-.94-2.06-.94-.94-2.06-.94 2.06-2.06.94zm-11 1L8.5 8.5l.94-2.06 2.06-.94-2.06-.94L8.5 2.5l-.94 2.06-2.06.94zm10 10l.94 2.06.94-2.06 2.06-.94-2.06-.94-.94-2.06-.94 2.06-2.06.94z\"/><path d=\"M17.41 7.96l-1.37-1.37c-.4-.4-.92-.59-1.43-.59-.52 0-1.04.2-1.43.59L10.3 9.45l-7.72 7.72c-.78.78-.78 2.05 0 2.83L4 21.41c.39.39.9.59 1.41.59.51 0 1.02-.2 1.41-.59l7.78-7.78 2.81-2.81c.8-.78.8-2.07 0-2.86zM5.41 20L4 18.59l7.72-7.72 1.47 1.35L5.41 20z\"/>\n",
              "  </svg>\n",
              "      </button>\n",
              "      \n",
              "  <style>\n",
              "    .colab-df-container {\n",
              "      display:flex;\n",
              "      flex-wrap:wrap;\n",
              "      gap: 12px;\n",
              "    }\n",
              "\n",
              "    .colab-df-convert {\n",
              "      background-color: #E8F0FE;\n",
              "      border: none;\n",
              "      border-radius: 50%;\n",
              "      cursor: pointer;\n",
              "      display: none;\n",
              "      fill: #1967D2;\n",
              "      height: 32px;\n",
              "      padding: 0 0 0 0;\n",
              "      width: 32px;\n",
              "    }\n",
              "\n",
              "    .colab-df-convert:hover {\n",
              "      background-color: #E2EBFA;\n",
              "      box-shadow: 0px 1px 2px rgba(60, 64, 67, 0.3), 0px 1px 3px 1px rgba(60, 64, 67, 0.15);\n",
              "      fill: #174EA6;\n",
              "    }\n",
              "\n",
              "    [theme=dark] .colab-df-convert {\n",
              "      background-color: #3B4455;\n",
              "      fill: #D2E3FC;\n",
              "    }\n",
              "\n",
              "    [theme=dark] .colab-df-convert:hover {\n",
              "      background-color: #434B5C;\n",
              "      box-shadow: 0px 1px 3px 1px rgba(0, 0, 0, 0.15);\n",
              "      filter: drop-shadow(0px 1px 2px rgba(0, 0, 0, 0.3));\n",
              "      fill: #FFFFFF;\n",
              "    }\n",
              "  </style>\n",
              "\n",
              "      <script>\n",
              "        const buttonEl =\n",
              "          document.querySelector('#df-426abc3f-4657-4d83-bc96-a94a61861725 button.colab-df-convert');\n",
              "        buttonEl.style.display =\n",
              "          google.colab.kernel.accessAllowed ? 'block' : 'none';\n",
              "\n",
              "        async function convertToInteractive(key) {\n",
              "          const element = document.querySelector('#df-426abc3f-4657-4d83-bc96-a94a61861725');\n",
              "          const dataTable =\n",
              "            await google.colab.kernel.invokeFunction('convertToInteractive',\n",
              "                                                     [key], {});\n",
              "          if (!dataTable) return;\n",
              "\n",
              "          const docLinkHtml = 'Like what you see? Visit the ' +\n",
              "            '<a target=\"_blank\" href=https://colab.research.google.com/notebooks/data_table.ipynb>data table notebook</a>'\n",
              "            + ' to learn more about interactive tables.';\n",
              "          element.innerHTML = '';\n",
              "          dataTable['output_type'] = 'display_data';\n",
              "          await google.colab.output.renderOutput(dataTable, element);\n",
              "          const docLink = document.createElement('div');\n",
              "          docLink.innerHTML = docLinkHtml;\n",
              "          element.appendChild(docLink);\n",
              "        }\n",
              "      </script>\n",
              "    </div>\n",
              "  </div>\n",
              "  "
            ]
          },
          "metadata": {},
          "execution_count": 5
        }
      ]
    },
    {
      "cell_type": "markdown",
      "source": [
        "**Working on the data**"
      ],
      "metadata": {
        "id": "oOtrwVpOl5vG"
      }
    },
    {
      "cell_type": "code",
      "source": [
        "df = data.copy()"
      ],
      "metadata": {
        "id": "y22MbltHlAGU"
      },
      "execution_count": null,
      "outputs": []
    },
    {
      "cell_type": "code",
      "source": [
        "df[['vmMemoryDemand','guest_demand','guest_provisioned','vm_capacity_provisioned','effective_limit']] = df[['vmMemoryDemand','guest_demand','guest_provisioned','vm_capacity_provisioned','effective_limit']].astype(float)"
      ],
      "metadata": {
        "id": "ZVneAx7wkqeP"
      },
      "execution_count": null,
      "outputs": []
    },
    {
      "cell_type": "code",
      "source": [
        "df['timestamp'] = pd.to_datetime(df['timestamp'])\n",
        "\n",
        "# Step 3: Create the plot\n",
        "plt.plot(df['timestamp'], df['guest_demand'])\n",
        "\n",
        "# Step 4: Customize the plot (optional)\n",
        "plt.xlabel('timestamp')\n",
        "plt.ylabel('guest_demand')\n",
        "plt.title('Time Series Data')\n",
        "plt.grid(True)\n",
        "\n",
        "# Step 5: Display the plot\n",
        "plt.show()"
      ],
      "metadata": {
        "colab": {
          "base_uri": "https://localhost:8080/",
          "height": 472
        },
        "id": "vlkAsFRDlLq_",
        "outputId": "f8d2c33d-32ec-46f2-9632-3876603d45b2"
      },
      "execution_count": null,
      "outputs": [
        {
          "output_type": "display_data",
          "data": {
            "text/plain": [
              "<Figure size 640x480 with 1 Axes>"
            ],
            "image/png": "[encoded data removed]"
          },
          "metadata": {}
        }
      ]
    },
    {
      "cell_type": "code",
      "source": [
        "df.info()"
      ],
      "metadata": {
        "colab": {
          "base_uri": "https://localhost:8080/"
        },
        "id": "7roDdskali6m",
        "outputId": "9f00f395-9717-43b1-d2ea-3be28ee59681"
      },
      "execution_count": null,
      "outputs": [
        {
          "output_type": "stream",
          "name": "stdout",
          "text": [
            "<class 'pandas.core.frame.DataFrame'>\n",
            "RangeIndex: 49933 entries, 0 to 49932\n",
            "Data columns (total 7 columns):\n",
            " #   Column                   Non-Null Count  Dtype         \n",
            "---  ------                   --------------  -----         \n",
            " 0   index                    49933 non-null  int64         \n",
            " 1   timestamp                49933 non-null  datetime64[ns]\n",
            " 2   vmMemoryDemand           49933 non-null  float64       \n",
            " 3   guest_demand             49933 non-null  float64       \n",
            " 4   guest_provisioned        49933 non-null  float64       \n",
            " 5   vm_capacity_provisioned  49933 non-null  float64       \n",
            " 6   effective_limit          49933 non-null  float64       \n",
            "dtypes: datetime64[ns](1), float64(5), int64(1)\n",
            "memory usage: 2.7 MB\n"
          ]
        }
      ]
    },
    {
      "cell_type": "markdown",
      "source": [
        "**Checking Stationarity of the data**"
      ],
      "metadata": {
        "id": "WY6HKuWBl8sB"
      }
    },
    {
      "cell_type": "code",
      "source": [
        "result = adfuller(df['vmMemoryDemand'].values)\n",
        "#Extracting the values from the results:\n",
        "print(\"Dickey-Fuller test for feature:vmMemoryDemand\")\n",
        "\n",
        "print('Test Statistic: %f' % result[0])\n",
        "\n",
        "print('p-value: %f' % result[1])\n",
        "\n",
        "print('Critical Values:')\n",
        "\n",
        "for key, value in result[4].items():\n",
        "    print('\\t%s: %.3f' % (key, value))\n",
        "if result[0] < result[4][\"5%\"]:\n",
        "    print (\"Reject H0 - Time Series is Stationary\")\n",
        "else:\n",
        "    print (\"Failed to Reject H0 - Time Series is Non-Stationary\")"
      ],
      "metadata": {
        "colab": {
          "base_uri": "https://localhost:8080/"
        },
        "id": "Pm1zPTcWJYDh",
        "outputId": "9fa05931-53b3-4f3e-95e1-b3698d575505"
      },
      "execution_count": null,
      "outputs": [
        {
          "output_type": "stream",
          "name": "stdout",
          "text": [
            "Dickey-Fuller test for feature:vmMemoryDemand\n",
            "Test Statistic: -6.548676\n",
            "p-value: 0.000000\n",
            "Critical Values:\n",
            "\t1%: -3.430\n",
            "\t5%: -2.862\n",
            "\t10%: -2.567\n",
            "Reject H0 - Time Series is Stationary\n"
          ]
        }
      ]
    },
    {
      "cell_type": "code",
      "source": [
        "result = adfuller(df['guest_demand'].values)\n",
        "#Extracting the values from the results:\n",
        "print(\"Dickey-Fuller test for feature:Guest Demand\")\n",
        "\n",
        "print('Test Statistic: %f' % result[0])\n",
        "\n",
        "print('p-value: %f' % result[1])\n",
        "\n",
        "print('Critical Values:')\n",
        "\n",
        "for key, value in result[4].items():\n",
        "    print('\\t%s: %.3f' % (key, value))\n",
        "if result[0] < result[4][\"5%\"]:\n",
        "    print (\"Reject H0 - Time Series is Stationary\")\n",
        "else:\n",
        "    print (\"Failed to Reject H0 - Time Series is Non-Stationary\")"
      ],
      "metadata": {
        "colab": {
          "base_uri": "https://localhost:8080/"
        },
        "id": "4vskTXKMlnpR",
        "outputId": "58ab8dd9-4911-4b0f-eb90-27fc93b4bf2d"
      },
      "execution_count": null,
      "outputs": [
        {
          "output_type": "stream",
          "name": "stdout",
          "text": [
            "Dickey-Fuller test for feature:Guest Demand\n",
            "Test Statistic: -21.284023\n",
            "p-value: 0.000000\n",
            "Critical Values:\n",
            "\t1%: -3.430\n",
            "\t5%: -2.862\n",
            "\t10%: -2.567\n",
            "Reject H0 - Time Series is Stationary\n"
          ]
        }
      ]
    },
    {
      "cell_type": "code",
      "source": [
        "result = adfuller(df['guest_provisioned'].values)\n",
        "#Extracting the values from the results:\n",
        "print(\"Dickey-Fuller test for feature:guest_provisioned\")\n",
        "\n",
        "print('Test Statistic: %f' % result[0])\n",
        "\n",
        "print('p-value: %f' % result[1])\n",
        "\n",
        "print('Critical Values:')\n",
        "\n",
        "for key, value in result[4].items():\n",
        "    print('\\t%s: %.3f' % (key, value))\n",
        "if result[0] < result[4][\"5%\"]:\n",
        "    print (\"Reject H0 - Time Series is Stationary\")\n",
        "else:\n",
        "    print (\"Failed to Reject H0 - Time Series is Non-Stationary\")"
      ],
      "metadata": {
        "colab": {
          "base_uri": "https://localhost:8080/"
        },
        "id": "XaLZfJ6UJqGO",
        "outputId": "e14f255d-e51d-41a4-9d7b-9a23419e9f9a"
      },
      "execution_count": null,
      "outputs": [
        {
          "output_type": "stream",
          "name": "stdout",
          "text": [
            "Dickey-Fuller test for feature:guest_provisioned\n",
            "Test Statistic: nan\n",
            "p-value: nan\n",
            "Critical Values:\n",
            "\t1%: -3.430\n",
            "\t5%: -2.862\n",
            "\t10%: -2.567\n",
            "Failed to Reject H0 - Time Series is Non-Stationary\n"
          ]
        }
      ]
    },
    {
      "cell_type": "code",
      "source": [
        "result = adfuller(df['vm_capacity_provisioned'].values)\n",
        "#Extracting the values from the results:\n",
        "print(\"Dickey-Fuller test for feature:vm_capacity_provisioned\")\n",
        "\n",
        "print('Test Statistic: %f' % result[0])\n",
        "\n",
        "print('p-value: %f' % result[1])\n",
        "\n",
        "print('Critical Values:')\n",
        "\n",
        "for key, value in result[4].items():\n",
        "    print('\\t%s: %.3f' % (key, value))\n",
        "if result[0] < result[4][\"5%\"]:\n",
        "    print (\"Reject H0 - Time Series is Stationary\")\n",
        "else:\n",
        "    print (\"Failed to Reject H0 - Time Series is Non-Stationary\")"
      ],
      "metadata": {
        "colab": {
          "base_uri": "https://localhost:8080/"
        },
        "id": "Zduu3JEAJrIM",
        "outputId": "b7a7b435-08ac-432c-9f82-1959d6b81001"
      },
      "execution_count": null,
      "outputs": [
        {
          "output_type": "stream",
          "name": "stdout",
          "text": [
            "Dickey-Fuller test for feature:vm_capacity_provisioned\n",
            "Test Statistic: -2.659702\n",
            "p-value: 0.081275\n",
            "Critical Values:\n",
            "\t1%: -3.430\n",
            "\t5%: -2.862\n",
            "\t10%: -2.567\n",
            "Failed to Reject H0 - Time Series is Non-Stationary\n"
          ]
        }
      ]
    },
    {
      "cell_type": "code",
      "source": [
        "result = adfuller(df['effective_limit'].values)\n",
        "#Extracting the values from the results:\n",
        "print(\"Dickey-Fuller test for feature:effective_limit\")\n",
        "\n",
        "print('Test Statistic: %f' % result[0])\n",
        "\n",
        "print('p-value: %f' % result[1])\n",
        "\n",
        "print('Critical Values:')\n",
        "\n",
        "for key, value in result[4].items():\n",
        "    print('\\t%s: %.3f' % (key, value))\n",
        "if result[0] < result[4][\"5%\"]:\n",
        "    print (\"Reject H0 - Time Series is Stationary\")\n",
        "else:\n",
        "    print (\"Failed to Reject H0 - Time Series is Non-Stationary\")"
      ],
      "metadata": {
        "colab": {
          "base_uri": "https://localhost:8080/"
        },
        "id": "bH5F2blEJsG7",
        "outputId": "7429868a-a728-498e-fd7e-8aaab1634509"
      },
      "execution_count": null,
      "outputs": [
        {
          "output_type": "stream",
          "name": "stdout",
          "text": [
            "Dickey-Fuller test for feature:effective_limit\n",
            "Test Statistic: -6.947140\n",
            "p-value: 0.000000\n",
            "Critical Values:\n",
            "\t1%: -3.430\n",
            "\t5%: -2.862\n",
            "\t10%: -2.567\n",
            "Reject H0 - Time Series is Stationary\n"
          ]
        }
      ]
    },
    {
      "cell_type": "markdown",
      "source": [
        "**Solving the problem of Non-stationarity**"
      ],
      "metadata": {
        "id": "el-jcuJLmPeJ"
      }
    },
    {
      "cell_type": "code",
      "source": [
        "df['guestprov_diff'] = df['guest_provisioned'].diff()\n",
        "df['vmcap_diff'] = df['vm_capacity_provisioned'].diff()"
      ],
      "metadata": {
        "id": "376rq8XzmIHX"
      },
      "execution_count": null,
      "outputs": []
    },
    {
      "cell_type": "code",
      "source": [
        "df = df.dropna()"
      ],
      "metadata": {
        "id": "gxNZ0CEbmh61"
      },
      "execution_count": null,
      "outputs": []
    },
    {
      "cell_type": "code",
      "source": [
        "df.shape"
      ],
      "metadata": {
        "colab": {
          "base_uri": "https://localhost:8080/"
        },
        "id": "FOQuwrmymiqh",
        "outputId": "8f673042-3833-4cc5-d172-90a797705e60"
      },
      "execution_count": null,
      "outputs": [
        {
          "output_type": "execute_result",
          "data": {
            "text/plain": [
              "(49932, 9)"
            ]
          },
          "metadata": {},
          "execution_count": 17
        }
      ]
    },
    {
      "cell_type": "code",
      "source": [
        "data_uti=df[['timestamp','vmMemoryDemand','guest_demand','guest_provisioned','vm_capacity_provisioned','effective_limit']]"
      ],
      "metadata": {
        "id": "kyuWj18Ommqx"
      },
      "execution_count": null,
      "outputs": []
    },
    {
      "cell_type": "code",
      "source": [
        "data_uti[:2]"
      ],
      "metadata": {
        "colab": {
          "base_uri": "https://localhost:8080/",
          "height": 112
        },
        "id": "EeWlGUosmnFJ",
        "outputId": "390733be-06f2-40b0-faa2-a58f9091493d"
      },
      "execution_count": null,
      "outputs": [
        {
          "output_type": "execute_result",
          "data": {
            "text/plain": [
              "            timestamp  vmMemoryDemand  guest_demand  guest_provisioned  \\\n",
              "1 2022-11-11 19:21:00      13832758.0    3617164.25         33554432.0   \n",
              "2 2022-11-11 19:26:00      13834057.0    3051213.50         33554432.0   \n",
              "\n",
              "   vm_capacity_provisioned  effective_limit  \n",
              "1              16799.99805       33815464.0  \n",
              "2              16799.99805       33815464.0  "
            ],
            "text/html": [
              "\n",
              "  <div id=\"df-e2e8a1ac-68e1-4bef-8585-aae2717fe7bf\">\n",
              "    <div class=\"colab-df-container\">\n",
              "      <div>\n",
              "<style scoped>\n",
              "    .dataframe tbody tr th:only-of-type {\n",
              "        vertical-align: middle;\n",
              "    }\n",
              "\n",
              "    .dataframe tbody tr th {\n",
              "        vertical-align: top;\n",
              "    }\n",
              "\n",
              "    .dataframe thead th {\n",
              "        text-align: right;\n",
              "    }\n",
              "</style>\n",
              "<table border=\"1\" class=\"dataframe\">\n",
              "  <thead>\n",
              "    <tr style=\"text-align: right;\">\n",
              "      <th></th>\n",
              "      <th>timestamp</th>\n",
              "      <th>vmMemoryDemand</th>\n",
              "      <th>guest_demand</th>\n",
              "      <th>guest_provisioned</th>\n",
              "      <th>vm_capacity_provisioned</th>\n",
              "      <th>effective_limit</th>\n",
              "    </tr>\n",
              "  </thead>\n",
              "  <tbody>\n",
              "    <tr>\n",
              "      <th>1</th>\n",
              "      <td>2022-11-11 19:21:00</td>\n",
              "      <td>13832758.0</td>\n",
              "      <td>3617164.25</td>\n",
              "      <td>33554432.0</td>\n",
              "      <td>16799.99805</td>\n",
              "      <td>33815464.0</td>\n",
              "    </tr>\n",
              "    <tr>\n",
              "      <th>2</th>\n",
              "      <td>2022-11-11 19:26:00</td>\n",
              "      <td>13834057.0</td>\n",
              "      <td>3051213.50</td>\n",
              "      <td>33554432.0</td>\n",
              "      <td>16799.99805</td>\n",
              "      <td>33815464.0</td>\n",
              "    </tr>\n",
              "  </tbody>\n",
              "</table>\n",
              "</div>\n",
              "      <button class=\"colab-df-convert\" onclick=\"convertToInteractive('df-e2e8a1ac-68e1-4bef-8585-aae2717fe7bf')\"\n",
              "              title=\"Convert this dataframe to an interactive table.\"\n",
              "              style=\"display:none;\">\n",
              "        \n",
              "  <svg xmlns=\"http://www.w3.org/2000/svg\" height=\"24px\"viewBox=\"0 0 24 24\"\n",
              "       width=\"24px\">\n",
              "    <path d=\"M0 0h24v24H0V0z\" fill=\"none\"/>\n",
              "    <path d=\"M18.56 5.44l.94 2.06.94-2.06 2.06-.94-2.06-.94-.94-2.06-.94 2.06-2.06.94zm-11 1L8.5 8.5l.94-2.06 2.06-.94-2.06-.94L8.5 2.5l-.94 2.06-2.06.94zm10 10l.94 2.06.94-2.06 2.06-.94-2.06-.94-.94-2.06-.94 2.06-2.06.94z\"/><path d=\"M17.41 7.96l-1.37-1.37c-.4-.4-.92-.59-1.43-.59-.52 0-1.04.2-1.43.59L10.3 9.45l-7.72 7.72c-.78.78-.78 2.05 0 2.83L4 21.41c.39.39.9.59 1.41.59.51 0 1.02-.2 1.41-.59l7.78-7.78 2.81-2.81c.8-.78.8-2.07 0-2.86zM5.41 20L4 18.59l7.72-7.72 1.47 1.35L5.41 20z\"/>\n",
              "  </svg>\n",
              "      </button>\n",
              "      \n",
              "  <style>\n",
              "    .colab-df-container {\n",
              "      display:flex;\n",
              "      flex-wrap:wrap;\n",
              "      gap: 12px;\n",
              "    }\n",
              "\n",
              "    .colab-df-convert {\n",
              "      background-color: #E8F0FE;\n",
              "      border: none;\n",
              "      border-radius: 50%;\n",
              "      cursor: pointer;\n",
              "      display: none;\n",
              "      fill: #1967D2;\n",
              "      height: 32px;\n",
              "      padding: 0 0 0 0;\n",
              "      width: 32px;\n",
              "    }\n",
              "\n",
              "    .colab-df-convert:hover {\n",
              "      background-color: #E2EBFA;\n",
              "      box-shadow: 0px 1px 2px rgba(60, 64, 67, 0.3), 0px 1px 3px 1px rgba(60, 64, 67, 0.15);\n",
              "      fill: #174EA6;\n",
              "    }\n",
              "\n",
              "    [theme=dark] .colab-df-convert {\n",
              "      background-color: #3B4455;\n",
              "      fill: #D2E3FC;\n",
              "    }\n",
              "\n",
              "    [theme=dark] .colab-df-convert:hover {\n",
              "      background-color: #434B5C;\n",
              "      box-shadow: 0px 1px 3px 1px rgba(0, 0, 0, 0.15);\n",
              "      filter: drop-shadow(0px 1px 2px rgba(0, 0, 0, 0.3));\n",
              "      fill: #FFFFFF;\n",
              "    }\n",
              "  </style>\n",
              "\n",
              "      <script>\n",
              "        const buttonEl =\n",
              "          document.querySelector('#df-e2e8a1ac-68e1-4bef-8585-aae2717fe7bf button.colab-df-convert');\n",
              "        buttonEl.style.display =\n",
              "          google.colab.kernel.accessAllowed ? 'block' : 'none';\n",
              "\n",
              "        async function convertToInteractive(key) {\n",
              "          const element = document.querySelector('#df-e2e8a1ac-68e1-4bef-8585-aae2717fe7bf');\n",
              "          const dataTable =\n",
              "            await google.colab.kernel.invokeFunction('convertToInteractive',\n",
              "                                                     [key], {});\n",
              "          if (!dataTable) return;\n",
              "\n",
              "          const docLinkHtml = 'Like what you see? Visit the ' +\n",
              "            '<a target=\"_blank\" href=https://colab.research.google.com/notebooks/data_table.ipynb>data table notebook</a>'\n",
              "            + ' to learn more about interactive tables.';\n",
              "          element.innerHTML = '';\n",
              "          dataTable['output_type'] = 'display_data';\n",
              "          await google.colab.output.renderOutput(dataTable, element);\n",
              "          const docLink = document.createElement('div');\n",
              "          docLink.innerHTML = docLinkHtml;\n",
              "          element.appendChild(docLink);\n",
              "        }\n",
              "      </script>\n",
              "    </div>\n",
              "  </div>\n",
              "  "
            ]
          },
          "metadata": {},
          "execution_count": 19
        }
      ]
    },
    {
      "cell_type": "code",
      "source": [
        "data_uti.rename(\n",
        "    columns={\"guestprov_diff\": \"guest_provisioned\",\"vmcap_diff\": \"vm_capacity_provisioned\"},\n",
        "    inplace=True,\n",
        ")"
      ],
      "metadata": {
        "id": "w6XRJNJxmuZB"
      },
      "execution_count": null,
      "outputs": []
    },
    {
      "cell_type": "code",
      "source": [
        "data_uti=data_uti.reset_index(drop=True)\n",
        "data_uti[:2]"
      ],
      "metadata": {
        "colab": {
          "base_uri": "https://localhost:8080/",
          "height": 112
        },
        "id": "XPC6aHLfm3qQ",
        "outputId": "dd9c87a6-cc12-4ce0-fad5-4a18d32099e5"
      },
      "execution_count": null,
      "outputs": [
        {
          "output_type": "execute_result",
          "data": {
            "text/plain": [
              "            timestamp  vmMemoryDemand  guest_demand  guest_provisioned  \\\n",
              "0 2022-11-11 19:21:00      13832758.0    3617164.25         33554432.0   \n",
              "1 2022-11-11 19:26:00      13834057.0    3051213.50         33554432.0   \n",
              "\n",
              "   vm_capacity_provisioned  effective_limit  \n",
              "0              16799.99805       33815464.0  \n",
              "1              16799.99805       33815464.0  "
            ],
            "text/html": [
              "\n",
              "  <div id=\"df-c572decd-3c77-4006-8f01-76f4bb632363\">\n",
              "    <div class=\"colab-df-container\">\n",
              "      <div>\n",
              "<style scoped>\n",
              "    .dataframe tbody tr th:only-of-type {\n",
              "        vertical-align: middle;\n",
              "    }\n",
              "\n",
              "    .dataframe tbody tr th {\n",
              "        vertical-align: top;\n",
              "    }\n",
              "\n",
              "    .dataframe thead th {\n",
              "        text-align: right;\n",
              "    }\n",
              "</style>\n",
              "<table border=\"1\" class=\"dataframe\">\n",
              "  <thead>\n",
              "    <tr style=\"text-align: right;\">\n",
              "      <th></th>\n",
              "      <th>timestamp</th>\n",
              "      <th>vmMemoryDemand</th>\n",
              "      <th>guest_demand</th>\n",
              "      <th>guest_provisioned</th>\n",
              "      <th>vm_capacity_provisioned</th>\n",
              "      <th>effective_limit</th>\n",
              "    </tr>\n",
              "  </thead>\n",
              "  <tbody>\n",
              "    <tr>\n",
              "      <th>0</th>\n",
              "      <td>2022-11-11 19:21:00</td>\n",
              "      <td>13832758.0</td>\n",
              "      <td>3617164.25</td>\n",
              "      <td>33554432.0</td>\n",
              "      <td>16799.99805</td>\n",
              "      <td>33815464.0</td>\n",
              "    </tr>\n",
              "    <tr>\n",
              "      <th>1</th>\n",
              "      <td>2022-11-11 19:26:00</td>\n",
              "      <td>13834057.0</td>\n",
              "      <td>3051213.50</td>\n",
              "      <td>33554432.0</td>\n",
              "      <td>16799.99805</td>\n",
              "      <td>33815464.0</td>\n",
              "    </tr>\n",
              "  </tbody>\n",
              "</table>\n",
              "</div>\n",
              "      <button class=\"colab-df-convert\" onclick=\"convertToInteractive('df-c572decd-3c77-4006-8f01-76f4bb632363')\"\n",
              "              title=\"Convert this dataframe to an interactive table.\"\n",
              "              style=\"display:none;\">\n",
              "        \n",
              "  <svg xmlns=\"http://www.w3.org/2000/svg\" height=\"24px\"viewBox=\"0 0 24 24\"\n",
              "       width=\"24px\">\n",
              "    <path d=\"M0 0h24v24H0V0z\" fill=\"none\"/>\n",
              "    <path d=\"M18.56 5.44l.94 2.06.94-2.06 2.06-.94-2.06-.94-.94-2.06-.94 2.06-2.06.94zm-11 1L8.5 8.5l.94-2.06 2.06-.94-2.06-.94L8.5 2.5l-.94 2.06-2.06.94zm10 10l.94 2.06.94-2.06 2.06-.94-2.06-.94-.94-2.06-.94 2.06-2.06.94z\"/><path d=\"M17.41 7.96l-1.37-1.37c-.4-.4-.92-.59-1.43-.59-.52 0-1.04.2-1.43.59L10.3 9.45l-7.72 7.72c-.78.78-.78 2.05 0 2.83L4 21.41c.39.39.9.59 1.41.59.51 0 1.02-.2 1.41-.59l7.78-7.78 2.81-2.81c.8-.78.8-2.07 0-2.86zM5.41 20L4 18.59l7.72-7.72 1.47 1.35L5.41 20z\"/>\n",
              "  </svg>\n",
              "      </button>\n",
              "      \n",
              "  <style>\n",
              "    .colab-df-container {\n",
              "      display:flex;\n",
              "      flex-wrap:wrap;\n",
              "      gap: 12px;\n",
              "    }\n",
              "\n",
              "    .colab-df-convert {\n",
              "      background-color: #E8F0FE;\n",
              "      border: none;\n",
              "      border-radius: 50%;\n",
              "      cursor: pointer;\n",
              "      display: none;\n",
              "      fill: #1967D2;\n",
              "      height: 32px;\n",
              "      padding: 0 0 0 0;\n",
              "      width: 32px;\n",
              "    }\n",
              "\n",
              "    .colab-df-convert:hover {\n",
              "      background-color: #E2EBFA;\n",
              "      box-shadow: 0px 1px 2px rgba(60, 64, 67, 0.3), 0px 1px 3px 1px rgba(60, 64, 67, 0.15);\n",
              "      fill: #174EA6;\n",
              "    }\n",
              "\n",
              "    [theme=dark] .colab-df-convert {\n",
              "      background-color: #3B4455;\n",
              "      fill: #D2E3FC;\n",
              "    }\n",
              "\n",
              "    [theme=dark] .colab-df-convert:hover {\n",
              "      background-color: #434B5C;\n",
              "      box-shadow: 0px 1px 3px 1px rgba(0, 0, 0, 0.15);\n",
              "      filter: drop-shadow(0px 1px 2px rgba(0, 0, 0, 0.3));\n",
              "      fill: #FFFFFF;\n",
              "    }\n",
              "  </style>\n",
              "\n",
              "      <script>\n",
              "        const buttonEl =\n",
              "          document.querySelector('#df-c572decd-3c77-4006-8f01-76f4bb632363 button.colab-df-convert');\n",
              "        buttonEl.style.display =\n",
              "          google.colab.kernel.accessAllowed ? 'block' : 'none';\n",
              "\n",
              "        async function convertToInteractive(key) {\n",
              "          const element = document.querySelector('#df-c572decd-3c77-4006-8f01-76f4bb632363');\n",
              "          const dataTable =\n",
              "            await google.colab.kernel.invokeFunction('convertToInteractive',\n",
              "                                                     [key], {});\n",
              "          if (!dataTable) return;\n",
              "\n",
              "          const docLinkHtml = 'Like what you see? Visit the ' +\n",
              "            '<a target=\"_blank\" href=https://colab.research.google.com/notebooks/data_table.ipynb>data table notebook</a>'\n",
              "            + ' to learn more about interactive tables.';\n",
              "          element.innerHTML = '';\n",
              "          dataTable['output_type'] = 'display_data';\n",
              "          await google.colab.output.renderOutput(dataTable, element);\n",
              "          const docLink = document.createElement('div');\n",
              "          docLink.innerHTML = docLinkHtml;\n",
              "          element.appendChild(docLink);\n",
              "        }\n",
              "      </script>\n",
              "    </div>\n",
              "  </div>\n",
              "  "
            ]
          },
          "metadata": {},
          "execution_count": 21
        }
      ]
    },
    {
      "cell_type": "code",
      "source": [
        "plt.plot(data_uti['timestamp'], data_uti['guest_demand'])\n",
        "\n",
        "# Step 4: Customize the plot (optional)\n",
        "plt.xlabel('Timestamp')\n",
        "plt.ylabel('Guest Demand')\n",
        "plt.title('Time Series Data')\n",
        "plt.grid(True)\n",
        "\n",
        "# Step 5: Display the plot\n",
        "plt.show()"
      ],
      "metadata": {
        "colab": {
          "base_uri": "https://localhost:8080/",
          "height": 472
        },
        "id": "Onv9A0wpm6xB",
        "outputId": "91652c1f-78c8-4a95-cbba-74c183c61acc"
      },
      "execution_count": null,
      "outputs": [
        {
          "output_type": "display_data",
          "data": {
            "text/plain": [
              "<Figure size 640x480 with 1 Axes>"
            ],
            "image/png": "[encoded data removed]"
          },
          "metadata": {}
        }
      ]
    },
    {
      "cell_type": "markdown",
      "source": [
        "**Performing DF Test again**"
      ],
      "metadata": {
        "id": "Wm3R0YtYnZTo"
      }
    },
    {
      "cell_type": "code",
      "source": [
        "result = adfuller(data_uti['vmMemoryDemand'].values)\n",
        "#Extracting the values from the results:\n",
        "print(\"Dickey-Fuller test for feature:vmMemoryDemand after Differencing\")\n",
        "\n",
        "print('Test Statistic: %f' % result[0])\n",
        "\n",
        "print('p-value: %f' % result[1])\n",
        "\n",
        "print('Critical Values:')\n",
        "\n",
        "for key, value in result[4].items():\n",
        "    print('\\t%s: %.3f' % (key, value))\n",
        "if result[0] < result[4][\"5%\"]:\n",
        "    print (\"Reject H0 - Time Series is Stationary\")\n",
        "else:\n",
        "    print (\"Failed to Reject H0 - Time Series is Non-Stationary\")"
      ],
      "metadata": {
        "colab": {
          "base_uri": "https://localhost:8080/"
        },
        "id": "K6jxHg2RnWRl",
        "outputId": "5179e806-9926-482b-f6f9-4fbbcd52049f"
      },
      "execution_count": null,
      "outputs": [
        {
          "output_type": "stream",
          "name": "stdout",
          "text": [
            "Dickey-Fuller test for feature:vmMemoryDemand after Differencing\n",
            "Test Statistic: -6.548532\n",
            "p-value: 0.000000\n",
            "Critical Values:\n",
            "\t1%: -3.430\n",
            "\t5%: -2.862\n",
            "\t10%: -2.567\n",
            "Reject H0 - Time Series is Stationary\n"
          ]
        }
      ]
    },
    {
      "cell_type": "code",
      "source": [
        "result = adfuller(data_uti['guest_demand'].values)\n",
        "#Extracting the values from the results:\n",
        "print(\"Dickey-Fuller test for feature:guestDemand after Differencing\")\n",
        "\n",
        "print('Test Statistic: %f' % result[0])\n",
        "\n",
        "print('p-value: %f' % result[1])\n",
        "\n",
        "print('Critical Values:')\n",
        "\n",
        "for key, value in result[4].items():\n",
        "    print('\\t%s: %.3f' % (key, value))\n",
        "if result[0] < result[4][\"5%\"]:\n",
        "    print (\"Reject H0 - Time Series is Stationary\")\n",
        "else:\n",
        "    print (\"Failed to Reject H0 - Time Series is Non-Stationary\")"
      ],
      "metadata": {
        "colab": {
          "base_uri": "https://localhost:8080/"
        },
        "id": "h7O236GJLt5a",
        "outputId": "9ac54934-3305-43c6-e9c7-15ff0aedf496"
      },
      "execution_count": null,
      "outputs": [
        {
          "output_type": "stream",
          "name": "stdout",
          "text": [
            "Dickey-Fuller test for feature:guestDemand after Differencing\n",
            "Test Statistic: -21.282820\n",
            "p-value: 0.000000\n",
            "Critical Values:\n",
            "\t1%: -3.430\n",
            "\t5%: -2.862\n",
            "\t10%: -2.567\n",
            "Reject H0 - Time Series is Stationary\n"
          ]
        }
      ]
    },
    {
      "cell_type": "code",
      "source": [
        "result = adfuller(data_uti['guest_provisioned'].values)\n",
        "#Extracting the values from the results:\n",
        "print(\"Dickey-Fuller test for feature:guest_provisioned after Differencing\")\n",
        "\n",
        "print('Test Statistic: %f' % result[0])\n",
        "\n",
        "print('p-value: %f' % result[1])\n",
        "\n",
        "print('Critical Values:')\n",
        "\n",
        "for key, value in result[4].items():\n",
        "    print('\\t%s: %.3f' % (key, value))\n",
        "if result[0] < result[4][\"5%\"]:\n",
        "    print (\"Reject H0 - Time Series is Stationary\")\n",
        "else:\n",
        "    print (\"Failed to Reject H0 - Time Series is Non-Stationary\")"
      ],
      "metadata": {
        "colab": {
          "base_uri": "https://localhost:8080/"
        },
        "id": "EpE85W45L1XO",
        "outputId": "d3599c33-b551-4597-cb05-0c13d4ff78ad"
      },
      "execution_count": null,
      "outputs": [
        {
          "output_type": "stream",
          "name": "stdout",
          "text": [
            "Dickey-Fuller test for feature:guest_provisioned after Differencing\n",
            "Test Statistic: nan\n",
            "p-value: nan\n",
            "Critical Values:\n",
            "\t1%: -3.430\n",
            "\t5%: -2.862\n",
            "\t10%: -2.567\n",
            "Failed to Reject H0 - Time Series is Non-Stationary\n"
          ]
        }
      ]
    },
    {
      "cell_type": "code",
      "source": [
        "result = adfuller(data_uti['vm_capacity_provisioned'].values)\n",
        "#Extracting the values from the results:\n",
        "print(\"Dickey-Fuller test for feature:vm_capacity_provisioned after Differencing\")\n",
        "\n",
        "print('Test Statistic: %f' % result[0])\n",
        "\n",
        "print('p-value: %f' % result[1])\n",
        "\n",
        "print('Critical Values:')\n",
        "\n",
        "for key, value in result[4].items():\n",
        "    print('\\t%s: %.3f' % (key, value))\n",
        "if result[0] < result[4][\"5%\"]:\n",
        "    print (\"Reject H0 - Time Series is Stationary\")\n",
        "else:\n",
        "    print (\"Failed to Reject H0 - Time Series is Non-Stationary\")"
      ],
      "metadata": {
        "colab": {
          "base_uri": "https://localhost:8080/"
        },
        "id": "BlSYp-eTL2j6",
        "outputId": "ad3945f1-131e-4ec1-934d-480b2294f7fd"
      },
      "execution_count": null,
      "outputs": [
        {
          "output_type": "stream",
          "name": "stdout",
          "text": [
            "Dickey-Fuller test for feature:vm_capacity_provisioned after Differencing\n",
            "Test Statistic: -2.659712\n",
            "p-value: 0.081273\n",
            "Critical Values:\n",
            "\t1%: -3.430\n",
            "\t5%: -2.862\n",
            "\t10%: -2.567\n",
            "Failed to Reject H0 - Time Series is Non-Stationary\n"
          ]
        }
      ]
    },
    {
      "cell_type": "code",
      "source": [
        "result = adfuller(data_uti['effective_limit'].values)\n",
        "#Extracting the values from the results:\n",
        "print(\"Dickey-Fuller test for feature:effective_limit after Differencing\")\n",
        "\n",
        "print('Test Statistic: %f' % result[0])\n",
        "\n",
        "print('p-value: %f' % result[1])\n",
        "\n",
        "print('Critical Values:')\n",
        "\n",
        "for key, value in result[4].items():\n",
        "    print('\\t%s: %.3f' % (key, value))\n",
        "if result[0] < result[4][\"5%\"]:\n",
        "    print (\"Reject H0 - Time Series is Stationary\")\n",
        "else:\n",
        "    print (\"Failed to Reject H0 - Time Series is Non-Stationary\")"
      ],
      "metadata": {
        "colab": {
          "base_uri": "https://localhost:8080/"
        },
        "id": "C6vtA8zhL3dB",
        "outputId": "9d9cae45-d1f3-4250-d2a8-546a24c39eb5"
      },
      "execution_count": null,
      "outputs": [
        {
          "output_type": "stream",
          "name": "stdout",
          "text": [
            "Dickey-Fuller test for feature:effective_limit after Differencing\n",
            "Test Statistic: -6.947073\n",
            "p-value: 0.000000\n",
            "Critical Values:\n",
            "\t1%: -3.430\n",
            "\t5%: -2.862\n",
            "\t10%: -2.567\n",
            "Reject H0 - Time Series is Stationary\n"
          ]
        }
      ]
    },
    {
      "cell_type": "markdown",
      "source": [
        "**Performing the Johansen Cointegration Test**"
      ],
      "metadata": {
        "id": "SGQVhurin-Ni"
      }
    },
    {
      "cell_type": "code",
      "source": [
        "result = coint_johansen(data_uti.drop('timestamp',axis=1), det_order=0, k_ar_diff=1)"
      ],
      "metadata": {
        "id": "mDIh1hMUnmnM"
      },
      "execution_count": null,
      "outputs": []
    },
    {
      "cell_type": "markdown",
      "source": [
        "**Auto-ARIMA method**"
      ],
      "metadata": {
        "id": "B4hkEjx8p4-Y"
      }
    },
    {
      "cell_type": "code",
      "source": [
        "split_date = pd.to_datetime('02-12-2023  11:33:00')\n",
        "\n",
        "# Split the dataset into train and test\n",
        "train_data = data_uti[data_uti['timestamp'] <= split_date]\n",
        "test_data = data_uti[data_uti['timestamp'] > split_date]\n",
        "\n",
        "# Optional: Reset the index\n",
        "train_data = train_data.reset_index(drop=True)\n",
        "test_data = test_data.reset_index(drop=True)"
      ],
      "metadata": {
        "id": "FqDskQrpoKwc"
      },
      "execution_count": null,
      "outputs": []
    },
    {
      "cell_type": "code",
      "source": [
        "target_variable_vmd = 'vmMemoryDemand'\n",
        "\n",
        "# Extract the time series data for the target variable\n",
        "ts_open = train_data[target_variable_vmd]\n",
        "\n",
        "# Apply auto_arima to find the best ARIMA model\n",
        "stepwise_model_vmd = auto_arima(ts_open, trace=True,\n",
        "                            error_action='ignore', suppress_warnings=True, stepwise=True)\n",
        "\n",
        "# Print the summary of the best model\n",
        "print(stepwise_model_vmd.summary())"
      ],
      "metadata": {
        "colab": {
          "base_uri": "https://localhost:8080/"
        },
        "id": "1Ogd9FivR4BA",
        "outputId": "531ba390-f579-460a-f1e3-10261f16bebe"
      },
      "execution_count": null,
      "outputs": [
        {
          "output_type": "stream",
          "name": "stdout",
          "text": [
            "Performing stepwise search to minimize aic\n",
            " ARIMA(2,1,2)(0,0,0)[0] intercept   : AIC=771626.578, Time=34.42 sec\n",
            " ARIMA(0,1,0)(0,0,0)[0] intercept   : AIC=777076.858, Time=0.72 sec\n",
            " ARIMA(1,1,0)(0,0,0)[0] intercept   : AIC=775332.896, Time=1.91 sec\n",
            " ARIMA(0,1,1)(0,0,0)[0] intercept   : AIC=773982.800, Time=4.78 sec\n",
            " ARIMA(0,1,0)(0,0,0)[0]             : AIC=777074.858, Time=0.74 sec\n",
            " ARIMA(1,1,2)(0,0,0)[0] intercept   : AIC=771656.243, Time=10.63 sec\n",
            " ARIMA(2,1,1)(0,0,0)[0] intercept   : AIC=771696.260, Time=13.17 sec\n",
            " ARIMA(3,1,2)(0,0,0)[0] intercept   : AIC=771599.280, Time=17.50 sec\n",
            " ARIMA(3,1,1)(0,0,0)[0] intercept   : AIC=771670.634, Time=17.71 sec\n",
            " ARIMA(4,1,2)(0,0,0)[0] intercept   : AIC=771601.132, Time=22.91 sec\n",
            " ARIMA(3,1,3)(0,0,0)[0] intercept   : AIC=771587.934, Time=28.75 sec\n",
            " ARIMA(2,1,3)(0,0,0)[0] intercept   : AIC=771589.498, Time=28.69 sec\n",
            " ARIMA(4,1,3)(0,0,0)[0] intercept   : AIC=771586.045, Time=94.35 sec\n",
            " ARIMA(5,1,3)(0,0,0)[0] intercept   : AIC=771582.373, Time=44.15 sec\n",
            " ARIMA(5,1,2)(0,0,0)[0] intercept   : AIC=771606.681, Time=54.69 sec\n",
            " ARIMA(5,1,4)(0,0,0)[0] intercept   : AIC=771594.338, Time=23.49 sec\n",
            " ARIMA(4,1,4)(0,0,0)[0] intercept   : AIC=771583.966, Time=100.80 sec\n",
            " ARIMA(5,1,3)(0,0,0)[0]             : AIC=771580.393, Time=33.01 sec\n",
            " ARIMA(4,1,3)(0,0,0)[0]             : AIC=771583.985, Time=68.81 sec\n",
            " ARIMA(5,1,2)(0,0,0)[0]             : AIC=771604.563, Time=43.22 sec\n",
            " ARIMA(5,1,4)(0,0,0)[0]             : AIC=771592.362, Time=18.13 sec\n",
            " ARIMA(4,1,2)(0,0,0)[0]             : AIC=771599.147, Time=16.83 sec\n",
            " ARIMA(4,1,4)(0,0,0)[0]             : AIC=771581.928, Time=78.24 sec\n",
            "\n",
            "Best model:  ARIMA(5,1,3)(0,0,0)[0]          \n",
            "Total fit time: 757.726 seconds\n",
            "                               SARIMAX Results                                \n",
            "==============================================================================\n",
            "Dep. Variable:                      y   No. Observations:                25000\n",
            "Model:               SARIMAX(5, 1, 3)   Log Likelihood             -385781.196\n",
            "Date:                Mon, 26 Jun 2023   AIC                         771580.393\n",
            "Time:                        10:51:07   BIC                         771653.532\n",
            "Sample:                             0   HQIC                        771604.065\n",
            "                              - 25000                                         \n",
            "Covariance Type:                  opg                                         \n",
            "==============================================================================\n",
            "                 coef    std err          z      P>|z|      [0.025      0.975]\n",
            "------------------------------------------------------------------------------\n",
            "ar.L1         -0.2055      0.062     -3.323      0.001      -0.327      -0.084\n",
            "ar.L2         -0.3129      0.042     -7.378      0.000      -0.396      -0.230\n",
            "ar.L3          0.2172      0.026      8.268      0.000       0.166       0.269\n",
            "ar.L4         -0.0061      0.004     -1.434      0.151      -0.015       0.002\n",
            "ar.L5         -0.0402      0.004    -11.292      0.000      -0.047      -0.033\n",
            "ma.L1         -0.2307      0.062     -3.728      0.000      -0.352      -0.109\n",
            "ma.L2          0.0282      0.043      0.661      0.509      -0.055       0.112\n",
            "ma.L3         -0.5234      0.051    -10.282      0.000      -0.623      -0.424\n",
            "sigma2      1.505e+12   1.18e-13   1.27e+25      0.000     1.5e+12     1.5e+12\n",
            "===================================================================================\n",
            "Ljung-Box (L1) (Q):                   0.00   Jarque-Bera (JB):          12604449.97\n",
            "Prob(Q):                              0.96   Prob(JB):                         0.00\n",
            "Heteroskedasticity (H):               2.37   Skew:                            -3.59\n",
            "Prob(H) (two-sided):                  0.00   Kurtosis:                       112.77\n",
            "===================================================================================\n",
            "\n",
            "Warnings:\n",
            "[1] Covariance matrix calculated using the outer product of gradients (complex-step).\n",
            "[2] Covariance matrix is singular or near-singular, with condition number 7.48e+39. Standard errors may be unstable.\n"
          ]
        }
      ]
    },
    {
      "cell_type": "code",
      "source": [
        "target_variable_open = 'guest_demand'\n",
        "\n",
        "# Extract the time series data for the target variable\n",
        "ts_open = train_data[target_variable_open]\n",
        "\n",
        "# Apply auto_arima to find the best ARIMA model\n",
        "stepwise_model_open = auto_arima(ts_open, trace=True,\n",
        "                            error_action='ignore', suppress_warnings=True, stepwise=True)\n",
        "\n",
        "# Print the summary of the best model\n",
        "print(stepwise_model_open.summary())"
      ],
      "metadata": {
        "colab": {
          "base_uri": "https://localhost:8080/"
        },
        "id": "Rp9V24eFqMyZ",
        "outputId": "0c700071-e0ab-465c-9082-c5e7fda503db"
      },
      "execution_count": null,
      "outputs": [
        {
          "output_type": "stream",
          "name": "stdout",
          "text": [
            "Performing stepwise search to minimize aic\n",
            " ARIMA(2,1,2)(0,0,0)[0] intercept   : AIC=780100.912, Time=18.59 sec\n",
            " ARIMA(0,1,0)(0,0,0)[0] intercept   : AIC=782400.583, Time=0.91 sec\n",
            " ARIMA(1,1,0)(0,0,0)[0] intercept   : AIC=782359.357, Time=1.60 sec\n",
            " ARIMA(0,1,1)(0,0,0)[0] intercept   : AIC=782327.043, Time=2.79 sec\n",
            " ARIMA(0,1,0)(0,0,0)[0]             : AIC=782398.583, Time=0.43 sec\n",
            " ARIMA(1,1,2)(0,0,0)[0] intercept   : AIC=780099.128, Time=10.74 sec\n",
            " ARIMA(0,1,2)(0,0,0)[0] intercept   : AIC=780765.763, Time=5.33 sec\n",
            " ARIMA(1,1,1)(0,0,0)[0] intercept   : AIC=780556.305, Time=10.61 sec\n",
            " ARIMA(1,1,3)(0,0,0)[0] intercept   : AIC=780099.206, Time=20.16 sec\n",
            " ARIMA(0,1,3)(0,0,0)[0] intercept   : AIC=780185.102, Time=8.32 sec\n",
            " ARIMA(2,1,1)(0,0,0)[0] intercept   : AIC=780134.520, Time=12.94 sec\n",
            " ARIMA(2,1,3)(0,0,0)[0] intercept   : AIC=780049.559, Time=40.36 sec\n",
            " ARIMA(3,1,3)(0,0,0)[0] intercept   : AIC=780044.978, Time=54.45 sec\n",
            " ARIMA(3,1,2)(0,0,0)[0] intercept   : AIC=inf, Time=66.89 sec\n",
            " ARIMA(4,1,3)(0,0,0)[0] intercept   : AIC=780039.403, Time=60.61 sec\n",
            " ARIMA(4,1,2)(0,0,0)[0] intercept   : AIC=inf, Time=81.94 sec\n",
            " ARIMA(5,1,3)(0,0,0)[0] intercept   : AIC=780035.184, Time=62.69 sec\n",
            " ARIMA(5,1,2)(0,0,0)[0] intercept   : AIC=inf, Time=66.05 sec\n",
            " ARIMA(5,1,4)(0,0,0)[0] intercept   : AIC=inf, Time=127.85 sec\n",
            " ARIMA(4,1,4)(0,0,0)[0] intercept   : AIC=780041.539, Time=40.58 sec\n",
            " ARIMA(5,1,3)(0,0,0)[0]             : AIC=780033.183, Time=47.39 sec\n",
            " ARIMA(4,1,3)(0,0,0)[0]             : AIC=780037.403, Time=42.94 sec\n",
            " ARIMA(5,1,2)(0,0,0)[0]             : AIC=inf, Time=50.36 sec\n",
            " ARIMA(5,1,4)(0,0,0)[0]             : AIC=inf, Time=106.79 sec\n",
            " ARIMA(4,1,2)(0,0,0)[0]             : AIC=inf, Time=60.08 sec\n",
            " ARIMA(4,1,4)(0,0,0)[0]             : AIC=780039.538, Time=29.95 sec\n",
            "\n",
            "Best model:  ARIMA(5,1,3)(0,0,0)[0]          \n",
            "Total fit time: 1031.460 seconds\n",
            "                               SARIMAX Results                                \n",
            "==============================================================================\n",
            "Dep. Variable:                      y   No. Observations:                25000\n",
            "Model:               SARIMAX(5, 1, 3)   Log Likelihood             -390007.591\n",
            "Date:                Mon, 26 Jun 2023   AIC                         780033.183\n",
            "Time:                        10:36:15   BIC                         780106.322\n",
            "Sample:                             0   HQIC                        780056.856\n",
            "                              - 25000                                         \n",
            "Covariance Type:                  opg                                         \n",
            "==============================================================================\n",
            "                 coef    std err          z      P>|z|      [0.025      0.975]\n",
            "------------------------------------------------------------------------------\n",
            "ar.L1         -0.5906      0.058    -10.146      0.000      -0.705      -0.477\n",
            "ar.L2          0.0753      0.031      2.430      0.015       0.015       0.136\n",
            "ar.L3          0.3901      0.032     12.175      0.000       0.327       0.453\n",
            "ar.L4         -0.0387      0.011     -3.596      0.000      -0.060      -0.018\n",
            "ar.L5          0.0293      0.008      3.721      0.000       0.014       0.045\n",
            "ma.L1          0.4777      0.058      8.210      0.000       0.364       0.592\n",
            "ma.L2         -0.3972      0.032    -12.493      0.000      -0.460      -0.335\n",
            "ma.L3         -0.6616      0.045    -14.632      0.000      -0.750      -0.573\n",
            "sigma2      2.093e+12   5.44e-14   3.85e+25      0.000    2.09e+12    2.09e+12\n",
            "===================================================================================\n",
            "Ljung-Box (L1) (Q):                   0.01   Jarque-Bera (JB):            842691.04\n",
            "Prob(Q):                              0.94   Prob(JB):                         0.00\n",
            "Heteroskedasticity (H):               0.96   Skew:                             1.66\n",
            "Prob(H) (two-sided):                  0.07   Kurtosis:                        31.25\n",
            "===================================================================================\n",
            "\n",
            "Warnings:\n",
            "[1] Covariance matrix calculated using the outer product of gradients (complex-step).\n",
            "[2] Covariance matrix is singular or near-singular, with condition number 2.02e+41. Standard errors may be unstable.\n"
          ]
        }
      ]
    },
    {
      "cell_type": "code",
      "source": [
        "target_variable_gp = 'guest_provisioned'\n",
        "\n",
        "# Extract the time series data for the target variable\n",
        "ts_open = train_data[target_variable_gp]\n",
        "\n",
        "# Apply auto_arima to find the best ARIMA model\n",
        "stepwise_model_gp = auto_arima(ts_open, trace=True,\n",
        "                            error_action='ignore', suppress_warnings=True, stepwise=True)\n",
        "\n",
        "# Print the summary of the best model\n",
        "print(stepwise_model_gp.summary())"
      ],
      "metadata": {
        "colab": {
          "base_uri": "https://localhost:8080/"
        },
        "id": "t_O7r0cJVMg1",
        "outputId": "f141a621-67bc-414a-fd34-34ae56156f68"
      },
      "execution_count": null,
      "outputs": [
        {
          "output_type": "stream",
          "name": "stdout",
          "text": [
            " ARIMA(0,0,0)(0,0,0)[0]             : AIC=937382.902, Time=0.31 sec\n",
            "Total fit time: 0.310 seconds\n",
            "                               SARIMAX Results                                \n",
            "==============================================================================\n",
            "Dep. Variable:                      y   No. Observations:                25000\n",
            "Model:                        SARIMAX   Log Likelihood             -468690.451\n",
            "Date:                Mon, 26 Jun 2023   AIC                         937382.902\n",
            "Time:                        10:52:50   BIC                         937391.029\n",
            "Sample:                             0   HQIC                        937385.533\n",
            "                              - 25000                                         \n",
            "Covariance Type:                  opg                                         \n",
            "==============================================================================\n",
            "                 coef    std err          z      P>|z|      [0.025      0.975]\n",
            "------------------------------------------------------------------------------\n",
            "sigma2      1.126e+15   1.28e+29   8.78e-15      1.000   -2.51e+29    2.51e+29\n",
            "===================================================================================\n",
            "Ljung-Box (L1) (Q):                    nan   Jarque-Bera (JB):                  nan\n",
            "Prob(Q):                               nan   Prob(JB):                          nan\n",
            "Heteroskedasticity (H):               1.00   Skew:                              nan\n",
            "Prob(H) (two-sided):                  1.00   Kurtosis:                          nan\n",
            "===================================================================================\n",
            "\n",
            "Warnings:\n",
            "[1] Covariance matrix calculated using the outer product of gradients (complex-step).\n"
          ]
        }
      ]
    },
    {
      "cell_type": "code",
      "source": [
        "target_variable_vmcp = 'vm_capacity_provisioned'\n",
        "\n",
        "# Extract the time series data for the target variable\n",
        "ts_open = train_data[target_variable_vmcp]\n",
        "\n",
        "# Apply auto_arima to find the best ARIMA model\n",
        "stepwise_model_vmcp = auto_arima(ts_open, trace=True,\n",
        "                            error_action='ignore', suppress_warnings=True, stepwise=True)\n",
        "\n",
        "# Print the summary of the best model\n",
        "print(stepwise_model_vmcp.summary())"
      ],
      "metadata": {
        "colab": {
          "base_uri": "https://localhost:8080/"
        },
        "id": "ESk5ji4vVe5Q",
        "outputId": "3169f3a7-c8e4-42ed-c521-9cdf4a34cd1d"
      },
      "execution_count": null,
      "outputs": [
        {
          "output_type": "stream",
          "name": "stdout",
          "text": [
            "Performing stepwise search to minimize aic\n",
            " ARIMA(2,1,2)(0,0,0)[0] intercept   : AIC=-459270.531, Time=26.67 sec\n",
            " ARIMA(0,1,0)(0,0,0)[0] intercept   : AIC=-459278.532, Time=9.59 sec\n",
            " ARIMA(1,1,0)(0,0,0)[0] intercept   : AIC=-459276.532, Time=8.61 sec\n",
            " ARIMA(0,1,1)(0,0,0)[0] intercept   : AIC=-459276.532, Time=17.78 sec\n",
            " ARIMA(0,1,0)(0,0,0)[0]             : AIC=-459084.871, Time=4.03 sec\n",
            " ARIMA(1,1,1)(0,0,0)[0] intercept   : AIC=-459274.532, Time=16.83 sec\n",
            "\n",
            "Best model:  ARIMA(0,1,0)(0,0,0)[0] intercept\n",
            "Total fit time: 83.539 seconds\n",
            "                               SARIMAX Results                                \n",
            "==============================================================================\n",
            "Dep. Variable:                      y   No. Observations:                25000\n",
            "Model:               SARIMAX(0, 1, 0)   Log Likelihood              229641.266\n",
            "Date:                Mon, 26 Jun 2023   AIC                        -459278.532\n",
            "Time:                        10:55:46   BIC                        -459262.279\n",
            "Sample:                             0   HQIC                       -459273.272\n",
            "                              - 25000                                         \n",
            "Covariance Type:                  opg                                         \n",
            "==============================================================================\n",
            "                 coef    std err          z      P>|z|      [0.025      0.975]\n",
            "------------------------------------------------------------------------------\n",
            "intercept    8.44e-25   1.57e-07   5.38e-18      1.000   -3.07e-07    3.07e-07\n",
            "sigma2      6.147e-10   6.76e-13    909.143      0.000    6.13e-10    6.16e-10\n",
            "===================================================================================\n",
            "Ljung-Box (L1) (Q):                   0.00   Jarque-Bera (JB):       40646171549.04\n",
            "Prob(Q):                              1.00   Prob(JB):                         0.00\n",
            "Heteroskedasticity (H):               0.00   Skew:                             0.00\n",
            "Prob(H) (two-sided):                  0.00   Kurtosis:                      6249.75\n",
            "===================================================================================\n",
            "\n",
            "Warnings:\n",
            "[1] Covariance matrix calculated using the outer product of gradients (complex-step).\n"
          ]
        }
      ]
    },
    {
      "cell_type": "code",
      "source": [
        "target_variable_el = 'effective_limit'\n",
        "\n",
        "# Extract the time series data for the target variable\n",
        "ts_open = train_data[target_variable_el]\n",
        "\n",
        "# Apply auto_arima to find the best ARIMA model\n",
        "stepwise_model_el = auto_arima(ts_open, trace=True,\n",
        "                            error_action='ignore', suppress_warnings=True, stepwise=True)\n",
        "\n",
        "# Print the summary of the best model\n",
        "print(stepwise_model_el.summary())"
      ],
      "metadata": {
        "colab": {
          "base_uri": "https://localhost:8080/"
        },
        "id": "SGsE8d0BV1UX",
        "outputId": "e62c4013-cf5b-4040-832a-dc1906bb5aa9"
      },
      "execution_count": null,
      "outputs": [
        {
          "output_type": "stream",
          "name": "stdout",
          "text": [
            "Performing stepwise search to minimize aic\n",
            " ARIMA(2,1,2)(0,0,0)[0] intercept   : AIC=571456.580, Time=7.53 sec\n",
            " ARIMA(0,1,0)(0,0,0)[0] intercept   : AIC=571048.432, Time=0.72 sec\n",
            " ARIMA(1,1,0)(0,0,0)[0] intercept   : AIC=571074.808, Time=2.60 sec\n",
            " ARIMA(0,1,1)(0,0,0)[0] intercept   : AIC=571146.012, Time=12.75 sec\n",
            " ARIMA(0,1,0)(0,0,0)[0]             : AIC=571046.432, Time=0.42 sec\n",
            " ARIMA(1,1,1)(0,0,0)[0] intercept   : AIC=571247.158, Time=24.68 sec\n",
            "\n",
            "Best model:  ARIMA(0,1,0)(0,0,0)[0]          \n",
            "Total fit time: 48.749 seconds\n",
            "                               SARIMAX Results                                \n",
            "==============================================================================\n",
            "Dep. Variable:                      y   No. Observations:                25000\n",
            "Model:               SARIMAX(0, 1, 0)   Log Likelihood             -285522.216\n",
            "Date:                Mon, 26 Jun 2023   AIC                         571046.432\n",
            "Time:                        10:57:10   BIC                         571054.558\n",
            "Sample:                             0   HQIC                        571049.062\n",
            "                              - 25000                                         \n",
            "Covariance Type:                  opg                                         \n",
            "==============================================================================\n",
            "                 coef    std err          z      P>|z|      [0.025      0.975]\n",
            "------------------------------------------------------------------------------\n",
            "sigma2      4.875e+08   5.25e+05    928.218      0.000    4.86e+08    4.89e+08\n",
            "===================================================================================\n",
            "Ljung-Box (L1) (Q):                1356.37   Jarque-Bera (JB):          19223013.54\n",
            "Prob(Q):                              0.00   Prob(JB):                         0.00\n",
            "Heteroskedasticity (H):               5.91   Skew:                            -0.01\n",
            "Prob(H) (two-sided):                  0.00   Kurtosis:                       138.85\n",
            "===================================================================================\n",
            "\n",
            "Warnings:\n",
            "[1] Covariance matrix calculated using the outer product of gradients (complex-step).\n"
          ]
        }
      ]
    },
    {
      "cell_type": "markdown",
      "source": [
        "PHASE II"
      ],
      "metadata": {
        "id": "8xONljhCRxrg"
      }
    },
    {
      "cell_type": "code",
      "source": [
        "target_variable_open = 'guest_demand'\n",
        "ts_high = train_data[target_variable_open]\n",
        "\n",
        "best_model_high= auto_arima(ts_high, start_p=0, d=1, start_q=0,\n",
        "           max_p=5, max_d=2, max_q=3, seasonal=False,\n",
        "           trace=True, suppress_warnings=True, stepwise=False)\n",
        "\n",
        "print(best_model_high.summary())"
      ],
      "metadata": {
        "colab": {
          "base_uri": "https://localhost:8080/"
        },
        "id": "V3b9_ASGqT1q",
        "outputId": "8729317e-cae6-4435-a793-654856421cd3"
      },
      "execution_count": null,
      "outputs": [
        {
          "output_type": "stream",
          "name": "stdout",
          "text": [
            " ARIMA(0,1,0)(0,0,0)[0] intercept   : AIC=782400.583, Time=0.73 sec\n",
            " ARIMA(0,1,1)(0,0,0)[0] intercept   : AIC=782327.043, Time=3.55 sec\n",
            " ARIMA(0,1,2)(0,0,0)[0] intercept   : AIC=780765.763, Time=6.22 sec\n",
            " ARIMA(0,1,3)(0,0,0)[0] intercept   : AIC=780185.102, Time=6.83 sec\n",
            " ARIMA(1,1,0)(0,0,0)[0] intercept   : AIC=782359.357, Time=2.75 sec\n",
            " ARIMA(1,1,1)(0,0,0)[0] intercept   : AIC=780556.305, Time=9.39 sec\n",
            " ARIMA(1,1,2)(0,0,0)[0] intercept   : AIC=780099.128, Time=10.93 sec\n",
            " ARIMA(1,1,3)(0,0,0)[0] intercept   : AIC=780099.206, Time=20.27 sec\n",
            " ARIMA(2,1,0)(0,0,0)[0] intercept   : AIC=781270.592, Time=3.25 sec\n",
            " ARIMA(2,1,1)(0,0,0)[0] intercept   : AIC=780134.520, Time=13.47 sec\n",
            " ARIMA(2,1,2)(0,0,0)[0] intercept   : AIC=780100.912, Time=18.24 sec\n",
            " ARIMA(2,1,3)(0,0,0)[0] intercept   : AIC=780049.559, Time=39.95 sec\n",
            " ARIMA(3,1,0)(0,0,0)[0] intercept   : AIC=780831.134, Time=4.24 sec\n",
            " ARIMA(3,1,1)(0,0,0)[0] intercept   : AIC=780094.328, Time=21.08 sec\n",
            " ARIMA(3,1,2)(0,0,0)[0] intercept   : AIC=inf, Time=66.21 sec\n",
            " ARIMA(4,1,0)(0,0,0)[0] intercept   : AIC=780667.418, Time=6.30 sec\n",
            " ARIMA(4,1,1)(0,0,0)[0] intercept   : AIC=inf, Time=50.33 sec\n",
            " ARIMA(5,1,0)(0,0,0)[0] intercept   : AIC=780392.704, Time=5.33 sec\n",
            "\n",
            "Best model:  ARIMA(2,1,3)(0,0,0)[0] intercept\n",
            "Total fit time: 289.113 seconds\n",
            "                               SARIMAX Results                                \n",
            "==============================================================================\n",
            "Dep. Variable:                      y   No. Observations:                25000\n",
            "Model:               SARIMAX(2, 1, 3)   Log Likelihood             -390017.780\n",
            "Date:                Mon, 26 Jun 2023   AIC                         780049.559\n",
            "Time:                        11:14:36   BIC                         780106.445\n",
            "Sample:                             0   HQIC                        780067.972\n",
            "                              - 25000                                         \n",
            "Covariance Type:                  opg                                         \n",
            "==============================================================================\n",
            "                 coef    std err          z      P>|z|      [0.025      0.975]\n",
            "------------------------------------------------------------------------------\n",
            "intercept    -79.2258   3907.471     -0.020      0.984   -7737.729    7579.277\n",
            "ar.L1         -0.4502      0.017    -26.925      0.000      -0.483      -0.417\n",
            "ar.L2          0.4256      0.010     42.683      0.000       0.406       0.445\n",
            "ma.L1          0.3388      0.017     20.447      0.000       0.306       0.371\n",
            "ma.L2         -0.7269      0.010    -69.324      0.000      -0.747      -0.706\n",
            "ma.L3         -0.2085      0.005    -44.180      0.000      -0.218      -0.199\n",
            "sigma2      2.095e+12      0.001   2.07e+15      0.000     2.1e+12     2.1e+12\n",
            "===================================================================================\n",
            "Ljung-Box (L1) (Q):                   0.05   Jarque-Bera (JB):            864358.53\n",
            "Prob(Q):                              0.83   Prob(JB):                         0.00\n",
            "Heteroskedasticity (H):               0.96   Skew:                             1.64\n",
            "Prob(H) (two-sided):                  0.08   Kurtosis:                        31.62\n",
            "===================================================================================\n",
            "\n",
            "Warnings:\n",
            "[1] Covariance matrix calculated using the outer product of gradients (complex-step).\n",
            "[2] Covariance matrix is singular or near-singular, with condition number 6.42e+34. Standard errors may be unstable.\n"
          ]
        }
      ]
    },
    {
      "cell_type": "markdown",
      "source": [
        "**FORECASTING**"
      ],
      "metadata": {
        "id": "n1p0d9KOq2wA"
      }
    },
    {
      "cell_type": "code",
      "source": [
        "forecast=best_model_high.predict(n_periods=10000, return_conf_int=True)"
      ],
      "metadata": {
        "id": "A0sDjSUwq0Kz"
      },
      "execution_count": null,
      "outputs": []
    },
    {
      "cell_type": "code",
      "source": [
        "forecast"
      ],
      "metadata": {
        "colab": {
          "base_uri": "https://localhost:8080/"
        },
        "id": "wRAambZsq_BI",
        "outputId": "ac2aa814-1944-4109-ceed-c9ef4980efbf"
      },
      "execution_count": null,
      "outputs": [
        {
          "output_type": "execute_result",
          "data": {
            "text/plain": [
              "(25000    3.303662e+06\n",
              " 25001    3.391620e+06\n",
              " 25002    3.435325e+06\n",
              " 25003    3.453003e+06\n",
              " 25004    3.463565e+06\n",
              "              ...     \n",
              " 34995    2.698172e+06\n",
              " 34996    2.698095e+06\n",
              " 34997    2.698018e+06\n",
              " 34998    2.697940e+06\n",
              " 34999    2.697863e+06\n",
              " Length: 10000, dtype: float64,\n",
              " array([[ 4.66631855e+05,  6.14069120e+06],\n",
              "        [-4.03530906e+05,  7.18677136e+06],\n",
              "        [-7.68651184e+05,  7.63930190e+06],\n",
              "        ...,\n",
              "        [-1.09054171e+08,  1.14450206e+08],\n",
              "        [-1.09059830e+08,  1.14455711e+08],\n",
              "        [-1.09065489e+08,  1.14461215e+08]]))"
            ]
          },
          "metadata": {},
          "execution_count": 58
        }
      ]
    },
    {
      "cell_type": "code",
      "source": [
        "predicted_values = forecast[0]"
      ],
      "metadata": {
        "id": "za5QEUCErBLK"
      },
      "execution_count": null,
      "outputs": []
    },
    {
      "cell_type": "code",
      "source": [
        "rmse = np.sqrt(mean_squared_error(test_data['guest_demand'][:10000], predicted_values))\n",
        "print(\"RMSE:\", rmse)"
      ],
      "metadata": {
        "colab": {
          "base_uri": "https://localhost:8080/"
        },
        "id": "q8kUxWM4rFhh",
        "outputId": "3d625eed-1ca8-450a-9be8-51c9cefe0341"
      },
      "execution_count": null,
      "outputs": [
        {
          "output_type": "stream",
          "name": "stdout",
          "text": [
            "RMSE: 3952971.0689793904\n"
          ]
        }
      ]
    },
    {
      "cell_type": "markdown",
      "source": [
        "**Visualization of the Forecast**"
      ],
      "metadata": {
        "id": "kf1wTN5VrQk3"
      }
    },
    {
      "cell_type": "code",
      "source": [
        "plt.plot(train_data['guest_demand'])\n",
        "plt.plot(predicted_values)\n",
        "\n",
        "# Step 4: Customize the plot (optional)\n",
        "plt.xlabel('Timestamp')\n",
        "plt.ylabel('guest_demand')\n",
        "plt.title('Time Series Data')\n",
        "plt.grid(True)\n",
        "\n",
        "# Step 5: Display the plot\n",
        "plt.show()"
      ],
      "metadata": {
        "colab": {
          "base_uri": "https://localhost:8080/",
          "height": 472
        },
        "id": "oAE2l4ezrMpw",
        "outputId": "bc477dae-208c-4258-d439-ca54b4648393"
      },
      "execution_count": null,
      "outputs": [
        {
          "output_type": "display_data",
          "data": {
            "text/plain": [
              "<Figure size 640x480 with 1 Axes>"
            ],
            "image/png": "[encoded data removed]"
          },
          "metadata": {}
        }
      ]
    }
  ]
}